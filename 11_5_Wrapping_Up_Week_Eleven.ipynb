{
  "nbformat": 4,
  "nbformat_minor": 0,
  "metadata": {
    "colab": {
      "name": "11_5_Wrapping_Up_Week_Eleven.ipynb",
      "provenance": [],
      "authorship_tag": "ABX9TyOeJqsNgL/aU4+foOA1Ksn/",
      "include_colab_link": true
    },
    "kernelspec": {
      "name": "python3",
      "display_name": "Python 3"
    }
  },
  "cells": [
    {
      "cell_type": "markdown",
      "metadata": {
        "id": "view-in-github",
        "colab_type": "text"
      },
      "source": [
        "<a href=\"https://colab.research.google.com/github/byui-cse/cse380-notebooks/blob/master/11_5_Wrapping_Up_Week_Eleven.ipynb\" target=\"_parent\"><img src=\"https://colab.research.google.com/assets/colab-badge.svg\" alt=\"Open In Colab\"/></a>"
      ]
    },
    {
      "cell_type": "markdown",
      "metadata": {
        "id": "UuTtnY-a1yrQ"
      },
      "source": [
        "# Wrapping Up Week Eleven\n",
        "## Answer Selected Questions"
      ]
    },
    {
      "cell_type": "markdown",
      "metadata": {
        "id": "SAm72y0214Br"
      },
      "source": [
        "## 1"
      ]
    },
    {
      "cell_type": "markdown",
      "metadata": {
        "id": "uaJ1D5Hq15Kx"
      },
      "source": [
        "My group and I were working on the prove, and we have solved the problem, but not efficiently enough. We were wondering if there is some pattern in the list of links that can be used to identify cliques and anticliques to help improve our time? (Also maybe a specific method on how to identify said patterns?)"
      ]
    },
    {
      "cell_type": "markdown",
      "metadata": {
        "id": "3Zg_AIJO17rp"
      },
      "source": [
        "### Answer"
      ]
    },
    {
      "cell_type": "markdown",
      "metadata": {
        "id": "ctg4gye0GbPg"
      },
      "source": [
        "Some suggestions:\n",
        "\n",
        "* Find someone who has taken (or is currently taking) CSE 381 Algorithms and Complexity and ask them for ideas.\n",
        "* One idea is to use a much faster lookup than a linear search for a pair-of-nodes tuple in a long list of tuples-representing links.\n",
        "* This will require modifying the ```read_graph``` function to return a better representation for a graph than a list of its links.\n",
        "* Filter out pairs of nodes that are the same node twice in the Cartesian product of the nodes list with itself in ```check_clique_or_anti_clique```.\n",
        "* Set the optional ```repeat``` keyword in ```product``` from ```itertools``` to 2 to get these pairs."
      ]
    },
    {
      "cell_type": "code",
      "metadata": {
        "id": "n_eCpLENfkdb"
      },
      "source": [
        "from itertools import product\n",
        "help(product)"
      ],
      "execution_count": null,
      "outputs": []
    },
    {
      "cell_type": "markdown",
      "metadata": {
        "id": "DtWoF-Hx16Ka"
      },
      "source": [
        "## 2"
      ]
    },
    {
      "cell_type": "markdown",
      "metadata": {
        "id": "cwdBQUkQ1_fP"
      },
      "source": [
        "You mentioned \"generating functions\" and said we might look at those. I'm curious, as my skimming of the [Wikipedia page](https://en.wikipedia.org/wiki/Generating_function) revealed to me a little about how useful they are. Would you care to comment?"
      ]
    },
    {
      "cell_type": "markdown",
      "metadata": {
        "id": "ubz6diMY1-tT"
      },
      "source": [
        "### Answer"
      ]
    },
    {
      "cell_type": "markdown",
      "metadata": {
        "id": "CiovHKqa9dr1"
      },
      "source": [
        "Okay, I'll bite.\n",
        "\n",
        "First, recall one basic fact of exponentiation that underlies the usefulness of generating functions:\n",
        "\n",
        "$$x^{a}x^{b} = x^{a+b}.$$\n",
        "\n",
        "Now look at these facts:\n",
        "\n",
        "If $$G(x) = \\sum_{k=0}^{\\infty} a_{k}x^{k}$$\n",
        "\n",
        "then $$xG(x) = \\sum_{k=0}^{\\infty} a_{k}x^{k+1} = \\sum_{k=1}^{\\infty}a_{k-1}x^{k}$$\n",
        "\n",
        "and $$x^{2}G(x) = \\sum_{k=0}^{\\infty} a_{k}x^{k+2} = \\sum_{k=2}^{\\infty}a_{k-2}x^{k},$$\n",
        "\n",
        "etc.\n",
        "\n",
        "Consider the example sequence $S_n = [0, 1, 3, 7, 15, \\ldots]$. A recurrence relation for this sequence is $S_n = 2S_{n-1} + 1$ for $n > 0, S_0 = 0$.\n",
        "\n",
        "Let's see if $s(n) = 2^{n} - 1$ is a closed-form formula for the $S_n$ sequence:\n",
        "\n",
        "$$2^{n} - 1 = 2(2^{n-1} -1) + 1 \\rightarrow 2^{n} - 1 = 2^{n-1+1} - 2 + 1 \\rightarrow 2^{n} - 1 = 2^{n} - 2 + 1 \\rightarrow 2^{n} - 1 = 2^{n} - 1.$$\n",
        "\n",
        "Check.\n",
        "\n",
        "Now let $G$ be the generating function for the $S_n$ sequence. Then\n",
        "$$G = G_{0} + G_{1}x + G_{2}x^{2} + G_{3}x^{3} + \\cdots.$$\n",
        "\n",
        "Then, since $G_{0} = 0$ and $G_{n} = 2G_{n-1} + 1$ for $n \\ge 1$:\n",
        "\n",
        "$$\\begin{array}{rcl}\n",
        "     G & = & 0 + (2G_0 + 1)x + (2G_1 + 1)x^2 + (2G_2 + 1)x^3 + \\cdots\\\\\n",
        "       & = & 2G_{0} x + 1x + 2G_{1} x^2 + 1x^2 + 2G_{2} x^3 + 1x^3 + \\cdots\\\\\n",
        "       & = & 2x(G_{0} + G_{1} x + G_{2} x^2 + G_{3} x^3 + \\cdots) + x + x^2 + x^3 + \\cdots\\\\\n",
        "       & = & 2xG + x(1 + x + x^2 + x^3 + \\cdots)\\\\\n",
        "   \\end{array}$$\n",
        "  \n",
        "so that $G - 2xG = x(1 + x + x^{2} + x^{3} + \\cdots),$ or\n",
        "$G(1 - 2x) = x(1 + x + x^{2} + x^{3} + \\cdots) = x/(1 - x),$\n",
        "where the last equation follows from the easily-verifiable fact that\n",
        "\n",
        "$$\\sum_{i=0}^{\\infty}x^{i} = \\frac{1}{1 - x}.$$\n",
        "\n",
        "Thus, by dividing both sides by $(1 - 2x)$:\n",
        "\n",
        "$$G = \\frac{x}{(1 - 2x)(1 - x)}.$$\n",
        "\n",
        "We want to get a formula for the coefficients of $G$, but there's no easy way to do that without breaking the denominator into a sum!\n",
        "\n",
        "So, recalling (!) how in calculus we integrated rational functions using partial fraction decomposition, we can rewrite the fraction on the right in the form $\\frac{A}{1 - 2x} + \\frac{B}{1 - x}$, where $A$ and $B$ are constants. This means\n",
        "$$\\frac{x}{(1 - 2x)(1 - x)} = \\frac{A}{1 - 2x} + \\frac{B}{1 - x} =\n",
        "  \\frac{A(1 - x) + B(1 - 2x)}{(1 - 2x)(1 - x)} =\n",
        "  \\frac{(A + B) + (-A -2B)x}{(1 - 2x)(1 - x)},$$\n",
        "and therefore, by equating coefficients in the numerators, we get $A + B = 0$ and $-A - 2B = 1$. These two equations have the solution $A = 1$ and $B = -1$. Thus\n",
        "$$G = \\frac{x}{(1 - 2x)(1 - x)} = \\frac{1}{1 - 2x} - \\frac{1}{1 - x}.$$\n",
        "\n",
        "But then the above easily-verifiable fact combined with another fairly-easily-verifiable (and similar) fact yield:\n",
        "\n",
        "$$\\begin{array}{rcl}\n",
        "    G & = & 1/(1 - 2x) - 1/(1 - x)\\\\\n",
        "      & = & (1 + 2x + 4x^2 + 8x^3 + \\cdots) - (1 + x + x^2 + x^3 + \\cdots)\\\\\n",
        "      & = & (1 - 1) + (2 - 1)x + (4 - 1)x^2 + (8 - 1)x^3 + \\cdots.\\\\\n",
        "  \\end{array}$$\n",
        "\n",
        "Thus we see that $G_n$, the coefficient of $x^{n}$, is $2^{n} - 1$, which agrees with what we showed above.\n",
        "\n",
        "The so-called [Theoretical Computer Science Cheat Sheet](https://www.tug.org/texshowcase/cheat.pdf) on page 2 gives the general method for solving recurrences using generating functions.\n",
        "\n",
        "\n"
      ]
    },
    {
      "cell_type": "markdown",
      "metadata": {
        "id": "dvPq2YKwgIdd"
      },
      "source": [
        "## Definitely Going Above and Beyond"
      ]
    },
    {
      "cell_type": "markdown",
      "metadata": {
        "id": "HN-hpOf9gMtL"
      },
      "source": [
        "Here is another (harder) example, following the steps in the \"Cheat Sheet\", giving a few more details of the process."
      ]
    },
    {
      "cell_type": "markdown",
      "metadata": {
        "id": "xr8zw8oPgZHd"
      },
      "source": [
        "Solve the recurrence relation\n",
        "$$a_{k} = 5a_{k-1} - 6a_{k-2},$$\n",
        "\n",
        "with initial conditions\n",
        "$$a_0 = 6\\ \\mbox{and}\\ a_1 = 30.$$\n",
        "\n",
        "Step 1, multiply both sides by $x^k$:\n",
        "$$a_{k}x^k = 5a_{k-1}x^k - 6a_{k-2}x^k.$$\n",
        "\n",
        "Step 2, sum (from $k=2$):\n",
        "$$\\sum_{k=2}^{\\infty}a_{k}x^k = \\sum_{k=2}^{\\infty}5a_{k-1}x^k - \\sum_{k=2}^{\\infty}6a_{k-2}x^k.$$\n",
        "\n",
        "Step 3, let $$G(x) = \\sum_{k=0}^{\\infty}a_kx^k.$$\n",
        "\n",
        "Step 4, rewriting the equation in terms of the generating function $G(x)$ has lots of substeps!\n",
        "\n",
        "First, add $a_0 + a_1x$ to both sides:\n",
        "$$a_0 + a_1x + \\sum_{k=2}^{\\infty}a_{k}x^k = a_0 + a_1x +\n",
        "\\sum_{k=2}^{\\infty}5a_{k-1}x^k - \\sum_{k=2}^{\\infty}6a_{k-2}x^k.$$\n",
        "\n",
        "Simplify the left-hand side by \"folding\" it into one zero-based summation so it will look like $G(x)$:\n",
        "$$\\sum_{k=0}^{\\infty}a_{k}x^k = a_0 + a_1x +\n",
        "\\sum_{k=2}^{\\infty}5a_{k-1}x^k - \\sum_{k=2}^{\\infty}6a_{k-2}x^k.$$\n",
        "\n",
        "Factor out the constants 5 and 6:\n",
        "$$\\sum_{k=0}^{\\infty}a_{k}x^k = a_0 + a_1x +\n",
        "5\\sum_{k=2}^{\\infty}a_{k-1}x^k - 6\\sum_{k=2}^{\\infty}a_{k-2}x^k.$$\n",
        "\n",
        "\n",
        "Note that this last equation is *almost* in a form where we can replace the summations with the expressions in terms of $G(x)$ that we introduced earlier, namely:\n",
        "$$G(x)=\\sum_{k=0}^{\\infty}a_kx^k, xG(x) = \\sum_{k=1}^{\\infty}a_{k - 1}x^k\\ \\mbox{and}\\ x^2G(x) = \\sum_{k=2}^{\\infty}a_{k - 2}x^k.$$\n",
        "\n",
        "To make it conform, we must adjust the first summation on the right-hand side, using the obvious (!) fact that\n",
        "$$\\sum_{k=2}^{\\infty}a_{k - 1}x^k = \\sum_{k=1}^{\\infty}a_{k - 1}x^k - a_0x.$$\n",
        "\n",
        "So now we have\n",
        "$$\\sum_{k=0}^{\\infty}a_{k}x^k = a_0 + a_1x + 5\\left(\\sum_{k = 1}^{\\infty}a_{k - 1}x^k - a_0x\\right) - 6\\sum_{k=2}^{\\infty}a_{k - 2}x^k.$$\n",
        "\n",
        "And after distributing the 5, we're pretty much ready:\n",
        "$$\\sum_{k=0}^{\\infty}a_{k}x^k = a_0 + a_1x + 5\\sum_{k=1}^{\\infty}a_{k - 1}x^k - 5a_0x - 6\\sum_{k=2}^{\\infty}a_{k - 2}x^k.\n",
        "$$\n",
        "\n",
        "Wait! Here's where we can use our initial conditions, $a_0 = 6\\ \\mbox{and}\\ a_1 = 30$:\n",
        "$$\\sum_{k=0}^{\\infty}a_{k}x^k = 6 + 30x + 5\\sum_{k=1}^{\\infty}a_{k - 1}x^k - 5(6)x - 6\\sum_{k=2}^{\\infty}a_{k - 2}x^k.$$\n",
        "\n",
        "Which, after noting that $5 \\cdot 6 = 30$ (how convenient!) and rearranging gives us:\n",
        "$$\\sum_{k=0}^{\\infty}a_{k}x^k = 5\\sum_{k=1}^{\\infty}a_{k - 1}x^k - 6\\sum_{k=2}^{\\infty}a_{k - 2}x^k + 6 + 30x - 30x.$$\n",
        "\n",
        "Now we're ready for those substitutions:\n",
        "$$G(x) = 5xG(x) - 6x^2G(x) + 6.$$\n",
        "\n",
        "Move all the $G(x)$ terms to the left-hand side:\n",
        "$$G(x) - 5xG(x) + 6x^2G(x) = 6.$$\n",
        "\n",
        "Factor out $G(x)$:\n",
        "$$G(x)(1 - 5x + 6x^2) = 6.$$\n",
        "\n",
        "Factor the trinomial in parentheses, divide both sides by it, and we're *finally* ready for Step 5---solving for $G(x)$:\n",
        "$$G(x) = \\frac{6}{(1 - 3x)(1 - 2x)}.$$\n",
        "\n",
        "First break up the denominator using partial fractions:\n",
        "$$\\frac{6}{(1 - 3x)(1 - 2x)} = \\frac{A}{(1 - 3x)} + \\frac{B}{(1 - 2x)},$$\n",
        "\n",
        "$A$ and $B$ are constants we can solve for as follows:\n",
        "\n",
        "Multiply through by the common denominator:\n",
        "$$\\frac{6}{(1 - 3x)(1 - 2x)} = \\frac{A(1 - 2x) + B(1 - 3x)}{(1 - 3x)(1 - 2x)}.$$\n",
        "\n",
        "Distribute the $A$ and $B$ on the left-hand side numerator:\n",
        "$$A - 2Ax + B - 3Bx.$$\n",
        "\n",
        "Regroup:\n",
        "$$(A + B) + (-2A - 3B)x.$$\n",
        "\n",
        "Noting that $6 = 6 + 0x$, we equate the numerators on both sides to get:\n",
        "$$6 = (A + B)\\ \\mbox{and}\\ 0 = (-2A - 3B).$$\n",
        "\n",
        "From this it's easy to see that $A = 18$ and $B = -12.$ Thus\n",
        "$$G(x) = \\frac{18}{(1 - 3x)} + \\frac{-12}{(1 - 2x)}.$$\n"
      ]
    },
    {
      "cell_type": "markdown",
      "metadata": {
        "id": "xq7Tz9pqim4w"
      },
      "source": [
        "Finally, using the (as mentioned in class, easily-verifiable) fact that\n",
        "$$\\sum_{k=0}^{\\infty} a^{k}x^{k} = 1 + ax + a^{2}x^2 + a^{3}x^3 + \\cdots = \\frac{1}{1 - ax},$$\n",
        "\n",
        "$$G(x) = \\sum_{k = 0}^{\\infty}(18 \\cdot 3^k - 12 \\cdot 2^k)x^k.$$\n",
        "\n",
        "Thereby giving our closed-form formula for the original recurrence:\n",
        "$$a_k = 18 \\cdot 3^k - 12 \\cdot 2^k.$$\n",
        "\n",
        "It would be good for you to check this answer by computing the next term of the sequence from both the recurrence equation and the formula, to see if they both agree!  (So, what is $a_2$?)"
      ]
    },
    {
      "cell_type": "markdown",
      "metadata": {
        "id": "YjODKIYqp9IP"
      },
      "source": [
        "### One More Time"
      ]
    },
    {
      "cell_type": "markdown",
      "metadata": {
        "id": "koM-E5lhp_Yj"
      },
      "source": [
        "This one also has some messy algebra, but please try to follow it:\n",
        "\n",
        "Use generating functions to solve the (again, linear but **non-homogeneous**) recurrence relation\n",
        "$$a_k = a_{k-1} + 2a_{k-2} + 2^k$$\n",
        "with initial conditions $a_0 = 4$ and $a_1 = 12$.\n",
        "\n",
        "Here's the solution:\n",
        "\n",
        "Let\n",
        "$$G(x) = \\sum_{k=0}^{\\infty}a_{k}x^k.$$\n",
        "\n",
        "Then\n",
        "$$xG(x) = \\sum_{k=0}^{\\infty}a_{k}x^{k+1} = \\sum_{k=1}^{\\infty}a_{k-1}x^k$$\n",
        "\n",
        "(by changing the name of the variable from $k$ to $k+1$), and\n",
        "\n",
        "$$x^2G(x) = \\sum_{k=0}^{\\infty}a_{k}x^{k+2} = \\sum_{k=2}^{\\infty}a_{k-2}x^k.$$\n",
        "\n",
        "Thus\n",
        "\n",
        "$$G(x) - xG(x) - 2x^2G(x) = \\sum_{k=0}^{\\infty}a_{k}x^k - \\sum_{k=1}^{\\infty}a_{k-1}x^k - \\sum_{k=2}^{\\infty}2a_{k-2}x^k$$\n",
        "$$= a_0 + a_{1}x - a_{0}x + \\sum_{k=2}^{\\infty}2^k \\cdot x^k$$\n",
        "\n",
        "$$= 4 + 8x + \\frac{1}{1 - 2x} - 1 - 2x = \\frac{4 - 12x^2}{1 - 2x},$$\n",
        "\n",
        "because of the given recurrence relation, the initial conditions, facts we've seen, and algebra.\n",
        "\n",
        "Since the left-hand side of this equation factors as $G(x)(1 - 2x)(1 + x)$, divide through to get\n",
        "$$G(x) = \\frac{4 - 12x^2}{(1 + x)(1 - 2x)^2}.$$\n",
        "\n",
        "This is where you can use partial fractions to break up the denominator. But you'll need *three* constants this time, because of the $x^2$ term. So, setting\n",
        "\n",
        "$$\\frac{4 - 12x^2}{(1 + x)(1 - 2x)^2} = \\frac{A}{1 + x} + \\frac{B}{1 - 2x} + \\frac{C}{(1 - 2x)^2},$$\n",
        "\n",
        "multiplying through by the common denominator, and equating coefficients, you'll find that $A = -8/9,\n",
        "B = 38/9$, and $C = 2/3$. Thus\n",
        "\n",
        "$$G(x) = \\frac{-8/9}{1 + x} + \\frac{38/9}{1 - 2x} + \\frac{2/3}{(1 - 2x)^2} = \\sum_{k=0}^{\\infty}\\left(-\\frac{8}{9}(-1)^k + \\frac{38}{9} \\cdot 2^k + \\frac{2}{3}(k + 1)2^k \\right)x^k$$\n",
        "\n",
        "Therefore $a_k = (-8/9)(-1)^k + (38/9)2^k + (2/3)(k + 1)2^k$.\n",
        "\n",
        "So, again, please check correctness by computing the next few terms of the sequence from both the recurrence relation and this formula: $a_2 = 24$ (both ways), $a_3 = ?$, $a_4 = ?$, etc."
      ]
    },
    {
      "cell_type": "markdown",
      "metadata": {
        "id": "deBVL3f6j3v6"
      },
      "source": [
        "### Advanced Counting with Generating Functions"
      ]
    },
    {
      "cell_type": "markdown",
      "metadata": {
        "id": "2mLn2AALj7S0"
      },
      "source": [
        "To accompany the \"how many ways can you make change for a dollar\" problem, here's another advanced counting problem involving comestibles instead of coins!\n",
        "\n",
        "How many ways are there to choose a dozen cookies from three varieties --- chocolate chip, oatmeal and peanut butter --- if at least two cookies of each kind but no more than three oatmeal cookies are chosen?\n",
        "\n",
        "Solution:\n",
        "\n",
        "Use generating functions!\n",
        "\n",
        "The factors in the generating function for choosing the chocolate chip and peanut butter cookies are both $(x^2 + x^3 + x^4 + \\cdots)$ --- at least two of each --- and the factor for choosing the oatmeal cookies is $(x^2 + x^3)$ --- at least two but no more than three.\n",
        "\n",
        "Therefore the generating function for this problem is the product of these factors:\n",
        "$$(x^2 + x^3 + x^4 + \\cdots)^2 \\cdot (x^2 + x^3).$$\n",
        "\n",
        "We want to find the coefficient of $x^{12}$, since we want 12 cookies.\n",
        "\n",
        "This is equivalent to finding the coefficient of $x^6$ in\n",
        "$$(1 + x + x^2 + x^3 + \\cdots)^2 \\cdot (1 + x).$$\n",
        "\n",
        "(Why is that?)\n",
        "\n",
        "Two facts, one you've seen already:\n",
        "$$\\sum_{k=0}^{\\infty}x^k = 1 + x + x^2 + x^3 + \\cdots = \\frac{1}{(1-x)}.$$                \n",
        "                 \n",
        "and\n",
        "$$\\sum_{k=0}^{\\infty}(k + 1)x^k = 1 + 2x + 3x^2 + 4x^3 + \\cdots = \\frac{1}{(1-x)^2}.$$\n",
        "\n",
        "mean the function for our cookies problem is $(1 + x)/(1 - x)^2$, so we want the coefficient of $x^6$ in $1/(1 - x)^2$, which is 7, plus the coefficient of $x^5$ in $1/(1 - x)^2$, which is 6.\n",
        "\n",
        "So the answer is $7 + 6 = 13$.\n",
        "\n",
        "This can also be confirmed by [Wolfram Alpha](https://www.wolframalpha.com) if you enter:\n",
        "\n",
        "```(x^2 + x^3)(x^2 + x^3 + x^4 + x^5 + x^6 + x^7 + x^8)^2```\n",
        "\n",
        "as shown:"
      ]
    },
    {
      "cell_type": "markdown",
      "metadata": {
        "id": "Mg4pCrr6olkA"
      },
      "source": [
        "![WolframAlphaEx16a.png](data:image/png;base64,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)"
      ]
    },
    {
      "cell_type": "markdown",
      "metadata": {
        "id": "gQUHhADAoyBG"
      },
      "source": [
        "![WolframAlphaEx16b.png](data:image/png;base64,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)"
      ]
    },
    {
      "cell_type": "markdown",
      "metadata": {
        "id": "5TIhT8-Go8N8"
      },
      "source": [
        "Again, it's the coefficient of $x^{12}$ we're looking for, which is 13."
      ]
    },
    {
      "cell_type": "markdown",
      "metadata": {
        "id": "dBlM8W9jb8aL"
      },
      "source": [
        "The equivalent Python way to expand this product of polynomials is to use the ```sympy``` module:"
      ]
    },
    {
      "cell_type": "code",
      "metadata": {
        "id": "jVij-icea7ox"
      },
      "source": [
        "from sympy import Symbol, expand\n",
        "x = Symbol('x')\n",
        "((x**2 + x**3) * (x**2 + x**3 + x**4 + x**5 + x**6 + x**7 + x**8)**2).expand()"
      ],
      "execution_count": null,
      "outputs": []
    },
    {
      "cell_type": "markdown",
      "metadata": {
        "id": "HhJXS1sAcq8i"
      },
      "source": [
        "Try this with the equivalent product, as mentioned above, to see if the coefficient of $x^6$ is the same, namely 13:"
      ]
    },
    {
      "cell_type": "code",
      "metadata": {
        "colab": {
          "base_uri": "https://localhost:8080/",
          "height": 38
        },
        "id": "NltL3cndcxO3",
        "outputId": "189f6330-5f95-4fce-a0ba-baeb0813d5a2"
      },
      "source": [
        "from sympy import Symbol, expand\n",
        "x = Symbol('x')\n",
        "((1 + x) * (1 + x + x**2 + x**3 + x**4 + x**5 + x**6)**2).expand()"
      ],
      "execution_count": 3,
      "outputs": [
        {
          "output_type": "execute_result",
          "data": {
            "text/latex": "$\\displaystyle x^{13} + 3 x^{12} + 5 x^{11} + 7 x^{10} + 9 x^{9} + 11 x^{8} + 13 x^{7} + 13 x^{6} + 11 x^{5} + 9 x^{4} + 7 x^{3} + 5 x^{2} + 3 x + 1$",
            "text/plain": [
              "x**13 + 3*x**12 + 5*x**11 + 7*x**10 + 9*x**9 + 11*x**8 + 13*x**7 + 13*x**6 + 11*x**5 + 9*x**4 + 7*x**3 + 5*x**2 + 3*x + 1"
            ]
          },
          "metadata": {
            "tags": []
          },
          "execution_count": 3
        }
      ]
    },
    {
      "cell_type": "markdown",
      "metadata": {
        "id": "83CEAHcvpkWw"
      },
      "source": [
        "#### Take a Step Back"
      ]
    },
    {
      "cell_type": "markdown",
      "metadata": {
        "id": "VfrJg0E_pnC_"
      },
      "source": [
        "Let's back up and come at this more systematically.\n",
        "\n",
        "(WARNING: Don't read this on an empty stomach!)"
      ]
    },
    {
      "cell_type": "markdown",
      "metadata": {
        "id": "cVR2R1Ygpw2s"
      },
      "source": [
        "Recall the key fact to remember when learning about generating functions:\n",
        "$$x^ax^b = x^{a + b}$$\n",
        "\n",
        "That means if $$S = \\{a_0, a_1, a_2, a_3, \\ldots\\}$$\n",
        "\n",
        "and $$T = \\{b_0, b_1, b_2, b_3, \\ldots\\}$$\n",
        "\n",
        "then there will be a contribution of $a_mb_n$ to the $(m + n)^{th}$\n",
        "power of $x$ in the product of the generating functions for $S$ and\n",
        "$T$.\n",
        "\n",
        "For example:\n",
        "\n",
        "Suppose you want to count the integer solutions to $a + b = 10$, but with $a$ and $b$ constrained by $1 \\le a \\le 6$ and $3 \\le b \\le 9$.\n",
        "\n",
        "There are six possible solutions:\n",
        "$$\\begin{array}{lcl}\n",
        "1 & + & 9\\\\\n",
        "2 & + & 8\\\\\n",
        "3 & + & 7\\\\\n",
        "4 & + & 6\\\\\n",
        "5 & + & 5\\\\\n",
        "6 & + & 4\n",
        "\\end{array}$$\n",
        "\n",
        "where the first number is $a$ and the second number is $b$.\n",
        "\n",
        "If you construct the sequences $$A = \\{0, 1, 1, 1, 1, 1, 1, 0, 0, \\ldots\\}$$\n",
        "\n",
        "and $$B = \\{0, 0, 0, 1, 1, 1, 1, 1, 1, 1, 0, 0, \\ldots\\}$$\n",
        "\n",
        "where $a_k = 1$ if $k$ is a possible value of $a$ (and $a_k = 0$\n",
        "otherwise) and ditto for $b_k$, then the product of the two generating\n",
        "functions for $A$ and $B$ will have the total possible solutions\n",
        "to $$a + b = 10$$ as the coefficient of $x^{10}$, which is\n",
        "$$\\sum_{k = 0}^{10}a_{k}b_{10 - k}.$$\n",
        "\n",
        "$$= 0 + 1 + 1 + 1 + 1 + 1 + 1 + 0 + 0 + 0 = 6$$\n",
        "\n",
        "which agrees with the number of solutions in the listing above.\n",
        "\n",
        "Now recall the binomial expansion:\n",
        "\n",
        "$$(1 + x)^{n} = {n \\choose 0} + {n \\choose 1}x + \\cdots + {n \\choose r}x^{r} + \\cdots + {n \\choose n}x^{n}.$$\n",
        "\n",
        "Plug in $n = 5$ to concretize:\n",
        "$$(1 + x)^5 = {5 \\choose 0} + {5 \\choose 1}x + {5 \\choose 2}x^2 +  {5 \\choose 3}x^3 +  {5 \\choose 4}x^4 + {5 \\choose 5}x^5$$\n",
        "$$=1 + 5x + 10x^2 + 10x^3 + 5x^4 + x^5.$$\n",
        "\n",
        "Note that in this expansion of $(1 + x)^5$ the coefficient of, say $x^3$, is the number of ways of choosing 3 objects from a set of 5 objects.\n",
        "\n",
        "And in general, the coefficient of $x^r$ is the number of ways of choosing $r$ objects from a set of 5 objects.\n",
        "\n",
        "Seen another way, this coefficient is just the number of ways of choosing the $x$ instead of the 1 from exactly $r$ factors of\n",
        "$$(1 + x)(1 + x)(1 + x)(1 + x)(1 + x).$$\n",
        "\n",
        "Say you're picking two pieces of fruit from a basket containing an apple, an orange, a peach, a pear, and a banana. How many ways can you do this?\n",
        "\n",
        "Since you're choosing 2 from a set of 5, the number of ways is 10, the\n",
        "coefficient of 2 in the expansion of $(1 + x)^5$ which, again, is\n",
        "$$1 + 5x + 10x^2 + 10x^3 + 5x^4 + x^5.$$\n",
        "\n",
        "Of course, remember that this expansion also gives the number of ways you can choose any other number of items.\n",
        "\n",
        "Now replace $(1 + x)(1 + x)(1 + x)(1 + x)(1 + x)$ with\n",
        "\n",
        "(0 apples + 1 apple)(0 oranges + 1 orange)(0 peaches + 1 peach)(0 pears + 1 pear)(0 bananas + 1 banana)\n",
        "\n",
        "See the connection between choosing $r$ fruits and the coefficient of $x^r$ in the $(1 + x)^5$ polynomial?\n",
        "\n",
        "Suppose you replace the peach with an apple. If you consider the two apples to be identical, how many ways can you choose two items now?\n",
        "\n",
        "Here's a polynomial similar to the one above:\n",
        "\n",
        "$$\\begin{array}{cccc}\n",
        "(1 + x + x^2) & (1 + x) & (1 + x) & (1 + x) \\\\\n",
        "{\\bf apple}  & {\\bf orange} & {\\bf pear} & {\\bf banana}\\\\\n",
        "\\end{array}$$\n",
        "\n",
        "Again, it may help to concretize this as above:\n",
        "\n",
        "(0 apples + 1 apple + 2 apples)(0 oranges + 1 orange)\\\\(0 pears + 1 pear)(0 bananas + 1 banana)\n",
        "\n",
        "You may choose 0, 1 or 2 apples and 0 or 1 oranges, pears and bananas, for a total of two items.\n",
        "The number of ways of doing this is exactly the coefficient of $x^2$ in this new polynomial.\n",
        "\n",
        "By multiplying it out:\n",
        "\n",
        "$$(1 + x + x^2)(1 + x)(1 + x)(1 + x) = 1 + 4x + 7x^2 + 7x^3 + 4x^4 + x^5$$\n",
        "\n",
        "you can see that the number of ways is 7. As a check, list all 7 of them in a table:\n",
        "$$\\begin{array}{llllllll}\n",
        "                & 1 & 2 & {\\bf 3} & 4 & 5 & 6 & 7\\\\ \\hline\n",
        "\\#\\ \\mbox{of}\\ apples    & 2 & 1 & {\\bf 1} & 1 & 0 & 0 & 0\\\\\n",
        "\\#\\ \\mbox{of}\\ oranges   & 0 & 1 & {\\bf 0} & 0 & 1 & 1 & 0\\\\\n",
        "\\#\\ \\mbox{of}\\ pears     & 0 & 0 & {\\bf 1} & 0 & 1 & 0 & 1\\\\\n",
        "\\#\\ \\mbox{of}\\ bananas   & 0 & 0 & {\\bf 0} & 1 & 0 & 1 & 1\\\\\n",
        "\\end{array}$$\n",
        "\n",
        "\n",
        "\n"
      ]
    },
    {
      "cell_type": "markdown",
      "metadata": {
        "id": "-w36wTdVy_Hv"
      },
      "source": [
        "Here column **3** corresponds to forming $x^2$ by choosing $x$ from the first factor, 1 from the second factor, $x$ from the third factor and $1$ from the fourth factor.\n",
        "\n",
        "Of course this new expression tells much more. It says that you can choose **no** item in 1 way, one item in 4 ways, two items in 7 ways, three items in 4 ways, etc.\n",
        "\n",
        "Note that distinguishable items (say, an orange and a pear) give rise to different factors, whereas indistinguishable items (the two apples) are included in the same factor.\n",
        "\n",
        "To generalize the above examples, consider an infinite sequence $a_0, a_1, a_2, \\ldots$ where for some integer $n$ every term after the $n^{th}$ is zero.\n",
        "\n",
        "So $a_{n + 1} = a_{n + 2} = \\cdots = 0$.\n",
        "\n",
        "Again, **define** the generating function for this sequence to be the polynomial\n",
        "$$a_0 + a_1x + a_2x^2 + a_3x^3 + \\cdots + a_nx^n.$$"
      ]
    },
    {
      "cell_type": "markdown",
      "metadata": {
        "id": "nYYBuhpc0YW6"
      },
      "source": [
        "#### Now Take It Up a Notch"
      ]
    },
    {
      "cell_type": "markdown",
      "metadata": {
        "id": "dJNJ66Hw0Rvn"
      },
      "source": [
        "Suppose each of $r$ people wants to order a donut from a bakery.\n",
        "\n",
        "Unfortunately, the bakery only has 3 chocolate, 2 glazed and 4 raspberry donuts left!\n",
        "\n",
        "Let $d_r$ be the sequence for the number of fillable orders for the $r$ donuts.\n",
        "\n",
        "What is a generating function for the $d_r$ sequence?\n",
        "\n",
        "In particular, what is $d_7$?\n",
        "\n",
        "Solution:\n",
        "\n",
        "The generating function is\n",
        "\n",
        "$$\\begin{array}{ccc}\n",
        "(1 + x + x^2 + x^3) & (1 + x + x^2) & (1 + x + x^2 + x^3 + x^4)\\\\\n",
        "{\\bf chocolate}  & {\\bf glazed} & {\\bf raspberry}\\\\\n",
        "\\end{array}$$\n",
        "\n",
        "since orders can only be filled for 0-3 chocolate donuts, 0-2 glazed donuts, and 0-4 raspberry donuts,\n",
        "for a total of $r$ donuts.  It is fitting that this is a polynomial of degree 9 (multiply it out)\n",
        "since the bakery only has 9 donuts! So clearly, $d_r = 0$ for $r > 9$.\n",
        "\n",
        "As for $d_7$, multiplying the polynomial out gives\n",
        "$$1 + 3x + 6x^2 + 9x^3 + 11x^4 + 11x^5 + 9x^6 + 6x^7 + 3x^8 + x^9$$\n",
        "so there are exactly 6 fillable orders for the 7 donuts.  Let's check:\n",
        "\n",
        "$$\\begin{array}{lllllll}\n",
        "                       & 1 & 2 & 3 & {\\bf 4} & 5 & 6\\\\ \\hline\n",
        "\\#\\ \\mbox{of chocolate donuts} & 3 & 3 & 3 & {\\bf 2} & 2 & 1\\\\\n",
        "\\#\\ \\mbox{of glazed donuts}    & 2 & 1 & 0 & {\\bf 2} & 1 & 2\\\\\n",
        "\\#\\ \\mbox{of raspberry donuts} & 2 & 3 & 4 & {\\bf 3} & 4 & 4\\\\\n",
        "\\end{array}$$\n",
        "\n",
        "Here column **4** corresponds to forming $x^7$ by choosing $x^2$ from the first factor, $x^2$ from the second factor, and $x^3$ from the third factor.\n",
        "\n",
        "Now suppose that raspberry donuts only come two to a box, and so the bakery will only sell them in multiples of two. Then the generating function for the number of fillable orders for $r$ donuts becomes\n",
        "\n",
        "$$\\begin{array}{ccc}\n",
        "(1 + x + x^2 + x^3) & (1 + x + x^2) & (1 + x^2 + x^4)\\\\\n",
        "{\\bf chocolate}  & {\\bf glazed} & {\\bf raspberry}\\\\\n",
        "\\end{array}$$\n",
        "\n",
        "since only 0, 2 or 4 raspberry donuts can be had. Multiplying this out gives\n",
        "$$1 + 2x + 4x^2 + 5x^3 + 6x^4 + 6x^5 + 5x^6 + 4x^7 + 2x^8 + x^9$$\n",
        "\n",
        "Since the coefficient of $x^7$ is 4, for example, there are 4 ways to order 7 donuts with the new restriction. These are shown in columns 1, 3, 5 and 6 in the above table.\n",
        "\n",
        "In the above example, at most 9 donuts could be ordered. What if the number of choices were effectively infinite? It doesn't matter that this is not a realistic scenario, just **suppose** that the supply of glazed donuts has become unlimited. But there are still only 3 chocolate and 4 raspberry donuts available, and the raspberry donuts must still be bought two at a time.  Is there still a generating function for the number of ways of buying $r$ donuts?\n",
        "\n",
        "Of course! Since any number of donuts can be supplied, the thing to do is to replace the **glazed** (middle) factor in\n",
        "\n",
        "$$\\begin{array}{ccc}\n",
        "(1 + x + x^2 + x^3) & (1 + x + x^2) & (1 + x^2 + x^4)\\\\\n",
        "{\\bf chocolate}  & {\\bf glazed} & {\\bf raspberry}\\\\\n",
        "\\end{array}$$\n",
        "\n",
        "with $$(1 + x + x^2 + x^3 + \\cdots)$$\n",
        "\n",
        "where the powers of $x$ go on increasing forever.\n",
        "\n",
        "Remember, there really is no problem with this expression, even though it suggests\n",
        "that you'll be adding up infinitely many quantities!\n",
        "\n",
        "No problem, that is, as long as you never try to substitute a specific number for $x$!\n",
        "\n",
        "In other words, *there is no issue of convergence here!* We treat the expression in a **formal** way, combining it with similar expressions using the usual rules for adding and multiplying polynomials.\n",
        "\n",
        "As [Herbert Wilf](https://en.wikipedia.org/wiki/Generating_function#Definitions) so illustratively put it, the variable $x$ and its powers form a **clothesline** where we can hang things in an orderly manner, where hanging means assigning a *position* to each *coefficient*.  The order is imposed by the increasing powers of $x$.\n",
        "\n",
        "This is powerful!  Especially because we can use closed-form expressions that *collapse* the generating functions of certain sequences to allow formal symbol manipulation (algebra) to solve a huge variety of counting problems.  If the series converges, these closed-form expressions can compute some function of $x$, but right now we're not interested in computations, just in combinations!\n",
        "\n",
        "For example, we could combine (add) $$(1 + 2x + 5x^3) + (1 + x + x^2 + x^3 + \\ldots)$$\n",
        "\n",
        "$$\\begin{array}{rrrrrrrrrrr}\n",
        " & = & (1 + 1) & + & (2 + 1)x  & + & (0 + 1)x^2 & + & (5 + 1)x^3 & + & (0 + 1)x^4 + \\ldots\\\\\n",
        " & = &    2    & + &       3x  & + &        x^2 & + &       6x^3 & + &       x^4 + \\ldots\n",
        "\\end{array}$$\n",
        "\n",
        "and we could combine (multiply) $$(x^0 + x^1 + x^2 + x^3)(x^0 + x^1 + x^2 + x^3 + \\ldots)$$\n",
        "\n",
        "$$\\begin{array}{rrrrrrrrrrrrrrrrr}\n",
        " & = & x^0 & (x^0 & + & x^1 & +   & x^2 & +   & x^3  & + & x^4  & + & x^5 & + & x^6 + \\ldots)\\\\\n",
        " & + & x^1 & (x^0 & + & x^1 & +   & x^2 & +   & x^3  & + & x^4  & + & x^5 & + & x^6 + \\ldots)\\\\\n",
        " & + & x^2 & (x^0 & + & x^1 & +   & x^2 & +   & x^3  & + & x^4  & + & x^5 & + & x^6 + \\ldots)\\\\\n",
        " & + & x^3 & (x^0 & + & x^1 & +   & x^2 & +   & x^3  & + & x^4  & + & x^5 & + & x^6 + \\ldots)\\\\\n",
        " &   &     &      &   &     &     &     &     &      &   &      &   &     &   & \\\\\n",
        " & = & 1   &      & + & x   & +   & x^2 & +   & x^3  & + & x^4  & + & x^5 & + & x^6 + \\ldots\\\\\n",
        " &   &     &      & + & x   & +   & x^2 & +   & x^3  & + & x^4  & + & x^5 & + & x^6 + \\ldots\\\\\n",
        " &   &     &      &   &     & +   & x^2 & +   & x^3  & + & x^4  & + & x^5 & + & x^6 + \\ldots\\\\\n",
        " &   &     &      &   &     &     &     & +   & x^3  & + & x^4  & + & x^5 & + & x^6 + \\ldots\\\\\n",
        " &   &     &      &   &     &     &     &     &      &   &      &   &     &   & \\\\\n",
        " & = & 1   &      & + & 2x  & +   & 3x^2 & +  & 4x^3 & + & 4x^4 & + & 4x^5 & + & 4x^6 + \\ldots\n",
        "\\end{array}$$\n",
        "\n",
        "Going back to the example of an infinite number of glazed donuts, recall the generating function for the sequence $d_r$:\n",
        "$$\\begin{array}{ccc}\n",
        "(1 + x + x^2 + x^3) & (1 + x + x^2 + x^3 + \\cdots) & (1 + x^2 + x^4)\\\\\n",
        "{\\bf chocolate}  & {\\bf glazed} & {\\bf raspberry}\\\\\n",
        "\\end{array}$$\n",
        "\n",
        "We have already multiplied out the first two factors. Combining this product with the third factor gives\n",
        "$$\\begin{array}{rrrrrrrrrrrrrrrrrrr}\n",
        " &   & (1 & + & 2x & + & 3x^2 & + & 4x^3  & + & 4x^4  & + & 4x^5 & + & 4x^6 & + &\\ldots) &   &\\\\\n",
        " &   & (1 & + & x^2& + &  x^4)&   &       &   &       &   &      &   &      &   &        &   &\\\\\n",
        " &   &    &   &    &   &      &   &       &   &       &   &      &   &      &   &        &   &\\\\\n",
        " & = & (1 & + & 2x & + & 3x^2 & + & 4x^3  & + & 4x^4  & + & 4x^5 & + & 4x^6 & + &\\ldots) & 1 & +\\\\\n",
        " &   & (1 & + & 2x & + & 3x^2 & + & 4x^3  & + & 4x^4  & + & 4x^5 & + & 4x^6 & + &\\ldots) &x^2& +\\\\\n",
        " &   & (1 & + & 2x & + & 3x^2 & + & 4x^3  & + & 4x^4  & + & 4x^5 & + & 4x^6 & + &\\ldots) &x^4& +\\\\\n",
        " &   &    &   &    &   &      &   &       &   &       &   &      &   &      &   &        &   &\\\\\n",
        " & = & 1  & + & 2x & + & 3x^2 & + & 4x^3  & + & 4x^4  & + & 4x^5 & + & 4x^6 & + & 4x^7   & + &\\ldots\\\\\n",
        " &   &    &   &    & + &  x^2 & + & 2x^3  & + & 3x^4  & + & 4x^5 & + & 4x^6 & + & 4x^7   & + &\\ldots\\\\\n",
        " &   &    &   &    &   &      &   &       & + &  x^4  & + & 2x^5 & + & 3x^6 & + & 4x^7   & + &\\ldots\\\\\n",
        " &   &    &   &    &   &      &   &       &   &       &   &      &   &      &   &        &   &\\\\\n",
        " & = & 1  & + & 2x & + & 4x^2 & + & 6x^3  & + & 8x^4  & + &10x^5 & + &11x^6 & + &12x^7   & + &\\ldots\\\\\n",
        "\\end{array}$$\n",
        "\n",
        "where for $r \\ge 7$ the coefficient of $x^r$ is always 12. In particular, there are now 12 ways of choosing 7 donuts, since the coefficient of $x^7$ is 12. Here they are:\n",
        "\n",
        "$$\\begin{array}{rrrrrrrrrrrrr}\n",
        "                       & 1 & 2 & 3 & 4 & 5 & 6 & 7 & 8 & 9 & 10& 11& 12\\\\ \\hline\n",
        "\\#\\ \\mbox{of chocolate donuts} & 0 & 0 & 0 & 1 & 1 & 1 & 2 & 2 & 2 & 3 & 3 & 3\\\\\n",
        "\\#\\ \\mbox{of glazed donuts}    & 3 & 5 & 7 & 2 & 4 & 6 & 1 & 3 & 5 & 0 & 2 & 4\\\\\n",
        "\\#\\ \\mbox{of raspberry donuts} & 4 & 2 & 0 & 4 & 2 & 0 & 4 & 2 & 0 & 4 & 2 & 0\\\\\n",
        "\\end{array}$$\n",
        "\n",
        "Finally, in light of this example, we should extend the definition of a generating function given above to be an expression of the form\n",
        "$$a_0 + a_1x + a_2x^2 + a_3x^3 + \\cdots$$\n",
        "\n",
        "where **infinitely many** of the coefficients $a_r$ are allowed to be nonzero. Such an expression is called a **formal power series**, and is usually abbreviated $\\sum_{k=0}^{\\infty}a_{k}x^{k}$ and expressed as a function of $x$, as we've seen:\n",
        "$$G(x) = \\sum_{k=0}^{\\infty}a_{k}x^{k}.$$"
      ]
    },
    {
      "cell_type": "markdown",
      "metadata": {
        "id": "sJwYDc1KiWe8"
      },
      "source": [
        "##### A Couple of Exercises For You to Try"
      ]
    },
    {
      "cell_type": "markdown",
      "metadata": {
        "id": "60GBxk1-idgL"
      },
      "source": [
        "Use this table for reference:\n",
        "\n",
        "| No. | Generating function $G(x)$  | $a_k$ in $\\sum_{k=0}^{\\infty} a_{k}x^k$                      |\n",
        "|-----|-----------------------------|-----------------------------|\n",
        "|  1  | $\\frac{1 - x^{n+1}}{1 - x}$ | 1 if $k \\le n$; 0 otherwise |\n",
        "|  2  | $\\frac{1}{1 - x^d}$         | 1 if $d \\mid k$; 0 otherwise|\n",
        "|  3  | $\\frac{1}{1 - ax}$          | $a^k$                       |\n",
        "|  4  | $\\frac{1}{(1 - x)^2}$       | $k + 1$                     |\n",
        "|  5  | $(1 + x)^n$                 | ${n \\choose k}$             |\n",
        "|  6  | $\\frac{1}{(1 - x)^n}$       | ${n + k - 1 \\choose k}$     |"
      ]
    },
    {
      "cell_type": "markdown",
      "metadata": {
        "id": "28phgGKukcAf"
      },
      "source": [
        "###### 1"
      ]
    },
    {
      "cell_type": "markdown",
      "metadata": {
        "id": "FLWiGpseY68V"
      },
      "source": [
        "How many ways can you fill a bag with $n$ fruits subject to the following constraints?\n",
        "\n",
        "* The number of apples must be even.\n",
        "* The number of bananas must be a multiple of 5.\n",
        "* There can be at most 4 oranges.\n",
        "* There can be at most 1 pear.\n",
        "\n",
        "For example, there are 7 ways to fill a bag with 6 fruits:\n",
        "\n",
        "|         | 1 | 2 | 3 | 4 | 5 | 6 | 7 |\n",
        "|---------|---|---|---|---|---|---|---|\n",
        "| Apples  | 6 | 4 | 4 | 2 | 2 | 0 | 0 |\n",
        "| Bananas | 0 | 0 | 0 | 0 | 0 | 5 | 5 |\n",
        "| Oranges | 0 | 2 | 1 | 4 | 3 | 1 | 0 |\n",
        "| Pears   | 0 | 0 | 1 | 0 | 1 | 0 | 1 |\n",
        "\n",
        "Specifically, answer the question with $n = 15$, i.e., how many ways can you fill a bag with 15 fruits subject to the constraints?"
      ]
    },
    {
      "cell_type": "markdown",
      "metadata": {
        "id": "aqBy_9TCtEWy"
      },
      "source": [
        "Hint: If you make the correct matching between type of fruit and the generating function used to count it, you'll be well on your way!\n",
        "\n",
        "a. Apple\n",
        "\n",
        "b. Banana\n",
        "\n",
        "c. Orange\n",
        "\n",
        "d. Pear\n",
        "\n",
        "1. $1 + x^5 + x^{10} + x^{15} + \\cdots$\n",
        "2. $1 + x^2 + x^4 + \\cdots$\n",
        "3. $1 + x$\n",
        "4. $1 + x + x^2 + x^3 + x^4$"
      ]
    },
    {
      "cell_type": "markdown",
      "metadata": {
        "id": "FUf3Vw4Lu5Qe"
      },
      "source": [
        "###### 2"
      ]
    },
    {
      "cell_type": "markdown",
      "metadata": {
        "id": "BOZZKGAsu6Ql"
      },
      "source": [
        "This is a multiple choice question:\n",
        "\n",
        "$G(x) = \\frac{1 + x}{(1 - x)^3}$ is the generating function for which sequence?\n",
        "\n",
        "Hint: Decompose $G(x)$ into the sum of two functions and see the reference table above."
      ]
    },
    {
      "cell_type": "markdown",
      "metadata": {
        "id": "CQUkPknDvNzz"
      },
      "source": [
        "a. $1, 1, 1, 1, 1, \\ldots$\n",
        "\n",
        "b. $0, 1, 4, 9, 16, \\ldots$\n",
        "\n",
        "c. $1, 2, 3, 4, 5, \\ldots$\n",
        "\n",
        "d. $1, 4, 9, 16, 25, \\ldots$\n"
      ]
    }
  ]
}