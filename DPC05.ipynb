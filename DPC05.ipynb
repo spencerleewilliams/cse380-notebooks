{
  "nbformat": 4,
  "nbformat_minor": 0,
  "metadata": {
    "kernelspec": {
      "display_name": "Python 3",
      "language": "python",
      "name": "python3"
    },
    "language_info": {
      "codemirror_mode": {
        "name": "ipython",
        "version": 3
      },
      "file_extension": ".py",
      "mimetype": "text/x-python",
      "name": "python",
      "nbconvert_exporter": "python",
      "pygments_lexer": "ipython3",
      "version": "3.9.0"
    },
    "colab": {
      "name": "about_generating_permutations_and_combinations.ipynb",
      "provenance": []
    }
  },
  "cells": [
    {
      "cell_type": "markdown",
      "metadata": {
        "id": "SFzsO9Bh19Vn"
      },
      "source": [
        "# About Generating Permutations and Combinations\n",
        "## Divide Pair Conquer\n",
        "### Due: Monday, 1 February 2021, 11:59pm\n"
      ]
    },
    {
      "cell_type": "markdown",
      "metadata": {
        "id": "0AP0LkWQ19Vw"
      },
      "source": [
        "There are many occasions when you need to *generate* the permutations or\n",
        "combinations of a set, not just count them.\n",
        "\n",
        "There are many algorithms for generating permutations and combinations --- you\n",
        "can find them if you look.\n",
        "\n",
        "For an application, from a biographical sketch about Donald Knuth by Kenneth\n",
        "Rosen, we learn that\n"
      ]
    },
    {
      "cell_type": "markdown",
      "metadata": {
        "id": "HHnPyNti19Vw"
      },
      "source": [
        "> \"Knuth grew up in Milwaukee, where his father taught bookkeeping at a Lutheran\n",
        "high school and owned a small printing business. He was an excellent student,\n",
        "earning academic achievement awards. He applied his intelligence in\n",
        "unconventional ways, winning a contest when he was in the eighth grade by\n",
        "finding as many words as possible that could be formed from the letters in\n",
        "\n",
        "---\n",
        "\n",
        "> **Ziegler's Giant Bar**.\n",
        "\n",
        "___\n",
        "\n",
        "> This won a television set for his school and a candy bar for everyone in his class.\n"
      ]
    },
    {
      "cell_type": "markdown",
      "metadata": {
        "id": "kzv-ZU-119Vx"
      },
      "source": [
        "Knuth found over 4500 words. How many can **you** find?"
      ]
    },
    {
      "cell_type": "code",
      "metadata": {
        "id": "KmDJgKtK1_wR",
        "outputId": "c0db4c55-c59b-4150-cc74-eed731f199d9",
        "colab": {
          "base_uri": "https://localhost:8080/"
        }
      },
      "source": [
        "# Import a set of english words (contains 25487 words)\r\n",
        "!pip install english-words\r\n",
        "from english_words import english_words_set\r\n",
        "\r\n",
        "# Compare each word in the set to the word phrase \"Ziegler's Giant Bar.\" \r\n",
        "# If the word's letters are found in the word phrase, then return true/else false.\r\n",
        "# Map through the entire process storing the count of each true case, printing the final result.\r\n",
        "\r\n",
        "word_phrase = {'z','i','e','g','l','e','r','s','g','i','a','n','t','b','a','r'}\r\n",
        "\r\n",
        "# Compare letter of word to the letters of the word phrase.\r\n",
        "# If found in the set, then return true.\r\n",
        "def check_letter(letter): \r\n",
        "  if (letter in word_phrase):\r\n",
        "    return True\r\n",
        "  else:\r\n",
        "    return False\r\n",
        "\r\n",
        "\r\n",
        "# Count how many words can be made from the word phrase\r\n",
        "word_count = 0\r\n",
        "\r\n",
        "for word in english_words_set:\r\n",
        "  # Count letters of the word found in the word phrase.\r\n",
        "  letter_count = 0\r\n",
        "  for letter in word:\r\n",
        "    if (check_letter(letter)):\r\n",
        "      letter_count += 1\r\n",
        "  # If letter_count is the same as the length of the word, then it can be made.\r\n",
        "  if (letter_count == len(word)):\r\n",
        "    word_count += 1\r\n",
        "\r\n",
        "print(word_count)"
      ],
      "execution_count": 22,
      "outputs": [
        {
          "output_type": "stream",
          "text": [
            "Requirement already satisfied: english-words in /usr/local/lib/python3.6/dist-packages (1.0.3)\n",
            "1085\n"
          ],
          "name": "stdout"
        }
      ]
    },
    {
      "cell_type": "markdown",
      "metadata": {
        "id": "dcu5xAMa--8T"
      },
      "source": [
        "I was only able to find 1085 words from the set of words that I used. Knuth found over 4500 words. After researching the problem, I found that the judges to the competition had only about 2000 words, which mine is less than both. I tested my solution against smaller test sets that I created. My solution was able to produce the correct number of words from each test set. I wonder what I could do to improve mine? "
      ]
    }
  ]
}