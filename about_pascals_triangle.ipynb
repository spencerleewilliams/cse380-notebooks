{
  "nbformat": 4,
  "nbformat_minor": 0,
  "metadata": {
    "kernelspec": {
      "display_name": "Python 3",
      "language": "python",
      "name": "python3"
    },
    "language_info": {
      "codemirror_mode": {
        "name": "ipython",
        "version": 3
      },
      "file_extension": ".py",
      "mimetype": "text/x-python",
      "name": "python",
      "nbconvert_exporter": "python",
      "pygments_lexer": "ipython3",
      "version": "3.9.0"
    },
    "colab": {
      "name": "about_pascals_triangle.ipynb",
      "provenance": []
    }
  },
  "cells": [
    {
      "cell_type": "markdown",
      "metadata": {
        "id": "Xt32YQmU35rx"
      },
      "source": [
        "# About Pascal’s Triangle\n",
        "## Class Directed Learning\n",
        "### Due: Tuesday, 2 February 2021, 11:59 pm"
      ]
    },
    {
      "cell_type": "markdown",
      "metadata": {
        "id": "oziGY7v735r9"
      },
      "source": [
        "## A Helper Function\n",
        "Exercise 253 on page 161 shows a recursive definition of `nCk`. Here's a much more efficient way to compute binomial coefficients, which perhaps you can profitably use in your investigations:\n"
      ]
    },
    {
      "cell_type": "code",
      "metadata": {
        "id": "i7o_Cua135r_"
      },
      "source": [
        "from math import gcd\n",
        "\n",
        "def nCk(n, k):\n",
        "  if k < 0 or k > n:\n",
        "    return 0\n",
        "  else:\n",
        "    result = 1\n",
        "    d = 1\n",
        "    g = 1\n",
        "    m = min(k, n - k)\n",
        "    while (d <= m):\n",
        "      g = gcd(result, d)\n",
        "      result = n * (result // g)\n",
        "      result = (result // (d // g))\n",
        "      n -= 1\n",
        "      d += 1\n",
        "    return result"
      ],
      "execution_count": 43,
      "outputs": []
    },
    {
      "cell_type": "markdown",
      "metadata": {
        "id": "qIRTLb_v35sA"
      },
      "source": [
        "## Predominant and Fundamental\n",
        "The predominant pattern, the fundamental symmetry in Pascal's triangle is captured by the identity:\n",
        "$${n \\choose k} = {n \\choose n - k}$$\n",
        "## Identify Identities\n",
        "Here are two different identities that point out the same patterns in Pascal's triangle. What is the name of this pattern?\n",
        "### Identity 1\n",
        "For nonnegative integers $r$ and $n$:\n",
        "$$\\sum^n_{k=0} {r+k \\choose k} = {r+n+1 \\choose n}$$\n",
        "### Identity 2\n",
        "For nonnegative integers $m$ and $n$:\n",
        "$$\\sum^n_{k=0} {k \\choose m} = {n+1 \\choose m+1}$$"
      ]
    },
    {
      "cell_type": "markdown",
      "metadata": {
        "id": "-N0t2Zxy35sA"
      },
      "source": [
        "# Investigate A Possible Relationship\n",
        "Does any row in Pascal's Triangle have the Fibonacci numbers' relationship between three consecutive entries? In other words, where x, y, and z are three consecutive entries in a single row, does x + y = z?\n",
        "\n",
        "  The number of rows where this relationship could possibly hold is:\n",
        "  - [ ] Zero.\n",
        "  - [ ] At least one.\n",
        "  - [ ] At most one.\n",
        "  - [ ] Exactly one.\n",
        "  - [ ] It cannot be determined."
      ]
    },
    {
      "cell_type": "code",
      "metadata": {
        "colab": {
          "base_uri": "https://localhost:8080/",
          "height": 231
        },
        "id": "3S9B6M-d4U6q",
        "outputId": "78510de2-7b3c-471c-9336-0bb5e94a86e8"
      },
      "source": [
        "# It cannot be determined as their is an infinite set of finite sequences (where there is a least 1 but infinite rows).\r\n",
        "# A set of pascals triangle with each subset as a row\r\n",
        "pascal_set = [[1], [1, 1], [1, 2, 1], [1, 3, 3, 1], [1, 4, 6, 4, 1], [1, 5, 10, 10, 5, 1], [1, 6, 15, 20, 15, 6, 1], [1, 7, 21, 35, 35, 21, 7, 1], [1, 8, 28, 56, 70, 56, 28, 8, 1], [1, 9, 36, 84, 126, 126, 84, 36, 9, 1]]\r\n",
        "\r\n",
        "# Difficulty implementing indexing and or some form of iteration to check the nth row of every sequence.\r\n",
        "def fib_check(row):\r\n",
        "  return true\r\n",
        "\r\n",
        "# True cases\r\n",
        "relationships = 0\r\n",
        "# The sum of x + y\r\n",
        "sum = 0 \r\n",
        "# The count of position n in respect to the sequence.\r\n",
        "count = 0\r\n",
        "\r\n",
        "# Go through each row of each line comparing the rule of x + y = z, if true add one to relationships (printing the number of true cases). \r\n",
        "for line in pascal_set:\r\n",
        "    for row in line:\r\n",
        "        if (fib_check(line)):\r\n",
        "          relationships += 1\r\n",
        "\r\n",
        "print(relationships)\r\n"
      ],
      "execution_count": 49,
      "outputs": [
        {
          "output_type": "error",
          "ename": "TypeError",
          "evalue": "ignored",
          "traceback": [
            "\u001b[0;31m---------------------------------------------------------------------------\u001b[0m",
            "\u001b[0;31mTypeError\u001b[0m                                 Traceback (most recent call last)",
            "\u001b[0;32m<ipython-input-49-ae2183888ef9>\u001b[0m in \u001b[0;36m<module>\u001b[0;34m()\u001b[0m\n\u001b[1;32m     12\u001b[0m \u001b[0;32mfor\u001b[0m \u001b[0mline\u001b[0m \u001b[0;32min\u001b[0m \u001b[0mpascal_set\u001b[0m\u001b[0;34m:\u001b[0m\u001b[0;34m\u001b[0m\u001b[0;34m\u001b[0m\u001b[0m\n\u001b[1;32m     13\u001b[0m     \u001b[0;32mfor\u001b[0m \u001b[0mrow\u001b[0m \u001b[0;32min\u001b[0m \u001b[0mline\u001b[0m\u001b[0;34m:\u001b[0m\u001b[0;34m\u001b[0m\u001b[0;34m\u001b[0m\u001b[0m\n\u001b[0;32m---> 14\u001b[0;31m       \u001b[0;32mfor\u001b[0m \u001b[0mline\u001b[0m \u001b[0;32min\u001b[0m \u001b[0mrow\u001b[0m\u001b[0;34m:\u001b[0m\u001b[0;34m\u001b[0m\u001b[0;34m\u001b[0m\u001b[0m\n\u001b[0m\u001b[1;32m     15\u001b[0m         \u001b[0;32mif\u001b[0m \u001b[0;34m(\u001b[0m\u001b[0mfib_check\u001b[0m\u001b[0;34m(\u001b[0m\u001b[0mline\u001b[0m\u001b[0;34m)\u001b[0m\u001b[0;34m)\u001b[0m\u001b[0;34m:\u001b[0m\u001b[0;34m\u001b[0m\u001b[0;34m\u001b[0m\u001b[0m\n\u001b[1;32m     16\u001b[0m           \u001b[0mrelationships\u001b[0m \u001b[0;34m+=\u001b[0m \u001b[0;36m1\u001b[0m\u001b[0;34m\u001b[0m\u001b[0;34m\u001b[0m\u001b[0m\n",
            "\u001b[0;31mTypeError\u001b[0m: 'int' object is not iterable"
          ]
        }
      ]
    },
    {
      "cell_type": "markdown",
      "metadata": {
        "id": "__LKYNPY35sA"
      },
      "source": [
        "# Investigate Another Possible Relationship\n",
        "Does any row in Pascal's Triangle have three consecutive entries in the ratio 1:2:3? (12:24:36 is an example of three numbers in a 1:2:3 ratio.)?\n",
        "\n",
        "  The number of rows where this relationship could possibly hold is:\n",
        "  - [ ] Zero.\n",
        "  - [ ] At least one.\n",
        "  - [ ] At most one.\n",
        "  - [ ] Exactly one.\n",
        "  - [ ] It cannot be determined."
      ]
    },
    {
      "cell_type": "code",
      "metadata": {
        "id": "wbYj-Csya223"
      },
      "source": [
        "# Like the first question, there is at least one (1,2,3), but it cannot be determined as there is an infinite set of possible rows from Pascal's triangle. \r\n",
        "# Where the first comparison of relationship was through addition, this comparison of relationships is through ratios of multiplication.\r\n",
        "# Implementation would be simliar to the first question to check for validity, except I'm having issues implementing program. "
      ],
      "execution_count": null,
      "outputs": []
    }
  ]
}
