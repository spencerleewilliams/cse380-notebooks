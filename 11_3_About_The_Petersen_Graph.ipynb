{
  "nbformat": 4,
  "nbformat_minor": 0,
  "metadata": {
    "colab": {
      "name": "11_3_About_The_Petersen_Graph.ipynb",
      "provenance": [],
      "authorship_tag": "ABX9TyNAmHlPgKOYTC4XMSkz3cCR",
      "include_colab_link": true
    },
    "kernelspec": {
      "name": "python3",
      "display_name": "Python 3"
    }
  },
  "cells": [
    {
      "cell_type": "markdown",
      "metadata": {
        "id": "view-in-github",
        "colab_type": "text"
      },
      "source": [
        "<a href=\"https://colab.research.google.com/github/byui-cse/cse380-notebooks/blob/master/11_3_About_The_Petersen_Graph.ipynb\" target=\"_parent\"><img src=\"https://colab.research.google.com/assets/colab-badge.svg\" alt=\"Open In Colab\"/></a>"
      ]
    },
    {
      "cell_type": "markdown",
      "metadata": {
        "id": "0lYSr_8JNUpQ"
      },
      "source": [
        "# About The Petersen Graph\n",
        "## Class Directed Learning\n",
        "### Due: Tuesday, 16 March 2021, 11:59 pm"
      ]
    },
    {
      "cell_type": "markdown",
      "metadata": {
        "id": "0PuwZHqzNfTa"
      },
      "source": [
        "## TODO Explore and Wonder"
      ]
    },
    {
      "cell_type": "markdown",
      "metadata": {
        "id": "Gsu1FnbuNptP"
      },
      "source": [
        "The Petersen graph is described as the complement of the line graph of $K_5$.\n",
        "\n",
        "Draw each step of this construction using any graph-drawing tools in your toolbox.\n",
        "\n",
        "Teach one another how to use the tools you each have."
      ]
    }
  ]
}