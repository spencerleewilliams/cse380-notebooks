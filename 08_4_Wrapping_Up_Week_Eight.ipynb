{
  "nbformat": 4,
  "nbformat_minor": 0,
  "metadata": {
    "colab": {
      "name": "08_4_Wrapping_Up_Week_Eight.ipynb",
      "provenance": [],
      "authorship_tag": "ABX9TyPkc0ou2dslGjgX49amHzfU",
      "include_colab_link": true
    },
    "kernelspec": {
      "name": "python3",
      "display_name": "Python 3"
    }
  },
  "cells": [
    {
      "cell_type": "markdown",
      "metadata": {
        "id": "view-in-github",
        "colab_type": "text"
      },
      "source": [
        "<a href=\"https://colab.research.google.com/github/byui-cse/cse380-notebooks/blob/master/08_4_Wrapping_Up_Week_Eight.ipynb\" target=\"_parent\"><img src=\"https://colab.research.google.com/assets/colab-badge.svg\" alt=\"Open In Colab\"/></a>"
      ]
    },
    {
      "cell_type": "markdown",
      "metadata": {
        "id": "qY7zGKIkM1ho"
      },
      "source": [
        "# Wrapping Up Week Eight\n",
        "## Answer Selected Questions"
      ]
    },
    {
      "cell_type": "markdown",
      "metadata": {
        "id": "Q_Sfe0b1DTcm"
      },
      "source": [
        "### 1"
      ]
    },
    {
      "cell_type": "markdown",
      "metadata": {
        "id": "9bpXdE9tDVj_"
      },
      "source": [
        "Are there other ways to extract the designated RSA players beside the pycryptodome module's Crypto.PublicKey.RSA way?"
      ]
    },
    {
      "cell_type": "markdown",
      "metadata": {
        "id": "sZ7l2ss6DnPx"
      },
      "source": [
        "#### Answer"
      ]
    },
    {
      "cell_type": "markdown",
      "metadata": {
        "id": "mjqkuIm6Dotf"
      },
      "source": [
        "Yes. Use openssl."
      ]
    },
    {
      "cell_type": "code",
      "metadata": {
        "id": "Kaf2taqEMsQ8"
      },
      "source": [
        "f = open('rsa-private-key.txt', 'w')\n",
        "f.write(thePEMstring)\n",
        "f.close()\n",
        "!openssl rsa -in rsa-private-key.txt -text\n"
      ],
      "execution_count": null,
      "outputs": []
    },
    {
      "cell_type": "markdown",
      "metadata": {
        "id": "tWlv8LHTAuMf"
      },
      "source": [
        "### 2"
      ]
    },
    {
      "cell_type": "markdown",
      "metadata": {
        "id": "bhEHqCA8A-iA"
      },
      "source": [
        "I think I have a pretty good idea of how to find the \"fittest\" substring of the Title Page of the Book of Mormon.\n",
        "\n",
        "How do I know I'm on the right track?"
      ]
    },
    {
      "cell_type": "markdown",
      "metadata": {
        "id": "LSpdFVZcBYze"
      },
      "source": [
        "#### Answer"
      ]
    },
    {
      "cell_type": "markdown",
      "metadata": {
        "id": "9cFbpTL7BapE"
      },
      "source": [
        "Good question!"
      ]
    },
    {
      "cell_type": "code",
      "metadata": {
        "id": "zuMrvtaFGhME"
      },
      "source": [
        "title_page = 'THE BOOK OF MORMON AN ACCOUNT WRITTEN BY THE HAND OF MORMON UPON PLATES TAKEN FROM THE PLATES OF NEPHI WHEREFORE IT IS AN ABRIDGMENT OF THE RECORD OF THE PEOPLE OF NEPHI AND ALSO OF THE LAMANITES WRITTEN TO THE LAMANITES WHO ARE A REMNANT OF THE HOUSE OF ISRAEL AND ALSO TO JEW AND GENTILE WRITTEN BY WAY OF COMMANDMENT AND ALSO BY THE SPIRIT OF PROPHECY AND OF REVELATION WRITTEN AND SEALED UP AND HID UP UNTO THE LORD THAT THEY MIGHT NOT BE DESTROYED TO COME FORTH BY THE GIFT AND POWER OF GOD UNTO THE INTERPRETATION THEREOF SEALED BY THE HAND OF MORONI AND HID UP UNTO THE LORD TO COME FORTH IN DUE TIME BY WAY OF THE GENTILE THE INTERPRETATION THEREOF BY THE GIFT OF GOD AN ABRIDGMENT TAKEN FROM THE BOOK OF ETHER ALSO WHICH IS A RECORD OF THE PEOPLE OF JARED WHO WERE SCATTERED AT THE TIME THE LORD CONFOUNDED THE LANGUAGE OF THE PEOPLE WHEN THEY WERE BUILDING A TOWER TO GET TO HEAVEN WHICH IS TO SHOW UNTO THE REMNANT OF THE HOUSE OF ISRAEL WHAT GREAT THINGS THE LORD HATH DONE FOR THEIR FATHERS AND THAT THEY MAY KNOW THE COVENANTS OF THE LORD THAT THEY ARE NOT CAST OFF FOREVER AND ALSO TO THE CONVINCING OF THE JEW AND GENTILE THAT JESUS IS THE CHRIST THE ETERNAL GOD MANIFESTING HIMSELF UNTO ALL NATIONS AND NOW IF THERE ARE FAULTS THEY ARE THE MISTAKES OF MEN WHEREFORE CONDEMN NOT THE THINGS OF GOD THAT YE MAY BE FOUND SPOTLESS AT THE JUDGMENT SEAT OF CHRIST'\n",
        "\n",
        "def abr(n, b):\n",
        "    d = n // b\n",
        "    m = n % b\n",
        "    if (d == 0):\n",
        "        return [m]\n",
        "    else:\n",
        "        l = abr(d, b)\n",
        "        l.append(m)\n",
        "        return l\n",
        "\n",
        "def reconstruct_number_from_abr(list_of_coefficients, base):\n",
        "    result = 0\n",
        "    power = 1\n",
        "    for coeff in list_of_coefficients:\n",
        "        result += coeff * power\n",
        "        power *= base\n",
        "    return result\n",
        "\n",
        "def from27to10(alphabetic_message):\n",
        "    l = list(map(lambda n: int(ord(n) - ord('@')), alphabetic_message))\n",
        "    l.reverse()\n",
        "    return reconstruct_number_from_abr(l, 27)\n",
        "\n",
        "def to27from10(decimal_number):\n",
        "    l = list(map(lambda n: chr(n + ord('@')), abr(decimal_number, 27)))\n",
        "    return ''.join(l)\n",
        "\n",
        "def igcd(b, n):\n",
        "    x0, x1, y0, y1 = 1, 0, 0, 1\n",
        "    while n != 0:\n",
        "        q, b, n = b // n, n, b % n\n",
        "        x0, x1 = x1, x0 - q * x1\n",
        "        y0, y1 = y1, y0 - q * y1\n",
        "    return b, x0, y0\n",
        "\n",
        "def TUMMI(e, t):\n",
        "    hcf, x, y = igcd(e, t)\n",
        "    if hcf != 1:\n",
        "        raise ValueError(f\"TUMMI does not exist for e = {e} and t = {t}.\")\n",
        "    return x % t\n",
        "\n",
        "def RSAencrypt(m, e, n, encoder=lambda x: x):\n",
        "    message_encoded = encoder(m)\n",
        "    encrypted = pow(message_encoded, e, n)\n",
        "    return encrypted\n",
        "\n",
        "def RSAdecrypt(encrypted, d, n, decoder=lambda x: x):\n",
        "    decrypted = pow(encrypted, d, n)\n",
        "    message_decoded = decoder(decrypted)\n",
        "    return message_decoded\n",
        "\n",
        "RSAplayers = {}\n",
        "\n",
        "def populateRSAplayers(p, q, e = 2 ** 16 + 1):\n",
        "    global RSAplayers\n",
        "    n = p * q\n",
        "    t = (p - 1) * (q - 1)\n",
        "    d = TUMMI(e, t)\n",
        "    RSAplayers['p'] = p\n",
        "    RSAplayers['q'] = q\n",
        "    RSAplayers['n'] = n\n",
        "    RSAplayers['t'] = t\n",
        "    RSAplayers['e'] = e\n",
        "    RSAplayers['d'] = d\n",
        "\n",
        "def round_trip(message, n, e, d, encoder=lambda x: x, decoder=lambda x: x):\n",
        "    return message == RSAdecrypt(RSAencrypt(message, e, n, encoder), d, n, decoder)\n",
        "\n",
        "def testRSA(message_with_spaces):\n",
        "    global RSAplayers\n",
        "    message = '@'.join(message_with_spaces.split(' '))\n",
        "    n = RSAplayers['n']\n",
        "    e = RSAplayers['e']\n",
        "    d = RSAplayers['d']\n",
        "    encrypted = RSAencrypt(message, e, n, from27to10)\n",
        "    decrypted = RSAdecrypt(encrypted, d, n, to27from10)\n",
        "    decrypted_message_with_spaces = ' '.join(decrypted.split('@'))\n",
        "    success = (message_with_spaces == decrypted_message_with_spaces)\n",
        "    print('\"{}\" was encoded and encrypted as\\n\\n{}\\n\\nthen decrypted and decoded as\\n\\n\"{}\"\\n'.\n",
        "          format(message_with_spaces, encrypted, decrypted_message_with_spaces))\n",
        "    print('{}successfully.'.format('' if success else 'un'))\n",
        "    return success"
      ],
      "execution_count": 15,
      "outputs": []
    },
    {
      "cell_type": "code",
      "metadata": {
        "id": "kSDTSHpoE5Ic"
      },
      "source": [
        "# Efficiency requires NOT using testRSA!\n",
        "\n",
        "title_page_without_spaces = title_page.replace(' ', '@')\n",
        "\n",
        "size = len(title_page_without_spaces)\n",
        "\n",
        "size\n",
        "key.n"
      ],
      "execution_count": null,
      "outputs": []
    },
    {
      "cell_type": "code",
      "metadata": {
        "id": "unBSFwo-Qs2W"
      },
      "source": [
        "from math import ceil, log\n",
        "\n",
        "ceil(log(key.n - 2, 27))\n",
        "\n",
        "populateRSAplayers(key.p, key.q)\n",
        "\n",
        "testRSA(title_page[3:433])"
      ],
      "execution_count": null,
      "outputs": []
    },
    {
      "cell_type": "code",
      "metadata": {
        "id": "xdNt65lhSHvp"
      },
      "source": [
        "for start in range(size - 431, -1, -1):\n",
        "  substr = title_page_without_spaces[start:start+431]\n",
        "  if substr[0] != '@' and (start == 0 or title_page_without_spaces[start-1] == '@') \\\n",
        "                      and (start+431 == size or title_page_without_spaces[start+432] == '@'):\n",
        "    if from27to10(substr) < key.n - 2:\n",
        "      print(substr[-10:])"
      ],
      "execution_count": null,
      "outputs": []
    },
    {
      "cell_type": "markdown",
      "metadata": {
        "id": "tOIkiJcLM7Hs"
      },
      "source": [
        "### 3"
      ]
    },
    {
      "cell_type": "markdown",
      "metadata": {
        "id": "8gxpAdqGM-_i"
      },
      "source": [
        "With our second grade claim coming up, I know what the syllabus says about it, but I'd like just a little more, please, on exactly what do you look for in 'A' student behavior?"
      ]
    },
    {
      "cell_type": "markdown",
      "metadata": {
        "id": "1mw9agpqNaTC"
      },
      "source": [
        "#### **Answer**"
      ]
    },
    {
      "cell_type": "markdown",
      "metadata": {
        "id": "aR7_QkGDNdpI"
      },
      "source": [
        "An 'A' student:"
      ]
    },
    {
      "cell_type": "markdown",
      "metadata": {
        "id": "00xZ1JErNjgb"
      },
      "source": [
        "##### 1"
      ]
    },
    {
      "cell_type": "markdown",
      "metadata": {
        "id": "GZdZZyPiNmjW"
      },
      "source": [
        "Does not need to be \"commanded in all things\".\n",
        "\n",
        "[Doctrine and Covenants 58:26](https://www.churchofjesuschrist.org/study/scriptures/dc-testament/dc/58.26?lang=eng#p26#26)"
      ]
    },
    {
      "cell_type": "markdown",
      "metadata": {
        "id": "zInSr2TNNng3"
      },
      "source": [
        "##### 2"
      ]
    },
    {
      "cell_type": "markdown",
      "metadata": {
        "id": "JeMr0swJNo0L"
      },
      "source": [
        "Goes above and beyond what's required."
      ]
    },
    {
      "cell_type": "markdown",
      "metadata": {
        "id": "KQd8hRUB-Qxh"
      },
      "source": [
        "##### 3"
      ]
    },
    {
      "cell_type": "markdown",
      "metadata": {
        "id": "TWyTtzfi-Qxn"
      },
      "source": [
        "Diligently applies the gersy principle."
      ]
    },
    {
      "cell_type": "markdown",
      "metadata": {
        "id": "zhiZ716z-RgP"
      },
      "source": [
        "##### 4"
      ]
    },
    {
      "cell_type": "markdown",
      "metadata": {
        "id": "ZqMi-nFX-RgR"
      },
      "source": [
        "Does not need to be told to take this or that GPAO."
      ]
    },
    {
      "cell_type": "markdown",
      "metadata": {
        "id": "jtayuTBc-Rli"
      },
      "source": [
        "##### 5"
      ]
    },
    {
      "cell_type": "markdown",
      "metadata": {
        "id": "95VKPYVS-Rli"
      },
      "source": [
        "Takes initiative in serving other students."
      ]
    },
    {
      "cell_type": "markdown",
      "metadata": {
        "id": "mkRSUCgq-Rpu"
      },
      "source": [
        "##### 6"
      ]
    },
    {
      "cell_type": "markdown",
      "metadata": {
        "id": "PSpisHAR-Rpu"
      },
      "source": [
        "Helps classmates learn."
      ]
    },
    {
      "cell_type": "markdown",
      "metadata": {
        "id": "PVUWkiOl-Rt8"
      },
      "source": [
        "##### 7"
      ]
    },
    {
      "cell_type": "markdown",
      "metadata": {
        "id": "MENph98j-Rt8"
      },
      "source": [
        "Studies other topics related to the main topic of the week."
      ]
    },
    {
      "cell_type": "markdown",
      "metadata": {
        "id": "L2ciDIoY-R1t"
      },
      "source": [
        "##### 8"
      ]
    },
    {
      "cell_type": "markdown",
      "metadata": {
        "id": "9Rh6HA1P-R1u"
      },
      "source": [
        "Makes connections to other areas of learning."
      ]
    },
    {
      "cell_type": "markdown",
      "metadata": {
        "id": "TRQAKPoY-R7S"
      },
      "source": [
        "##### 9"
      ]
    },
    {
      "cell_type": "markdown",
      "metadata": {
        "id": "ZHf00gHI-R7T"
      },
      "source": [
        "Applies learning to life."
      ]
    },
    {
      "cell_type": "markdown",
      "metadata": {
        "id": "4KMs-EuX-R-2"
      },
      "source": [
        "##### 10"
      ]
    },
    {
      "cell_type": "markdown",
      "metadata": {
        "id": "yTbg5lvg-R-3"
      },
      "source": [
        "Reports evidence of these behaviors."
      ]
    }
  ]
}