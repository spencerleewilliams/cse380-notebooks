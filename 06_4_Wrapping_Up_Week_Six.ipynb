{
  "nbformat": 4,
  "nbformat_minor": 0,
  "metadata": {
    "colab": {
      "name": "06_4_Wrapping_Up_Week_Six.ipynb",
      "provenance": [],
      "authorship_tag": "ABX9TyOHO9AQgZUcJ8dd52T53joj",
      "include_colab_link": true
    },
    "kernelspec": {
      "name": "python3",
      "display_name": "Python 3"
    }
  },
  "cells": [
    {
      "cell_type": "markdown",
      "metadata": {
        "id": "view-in-github",
        "colab_type": "text"
      },
      "source": [
        "<a href=\"https://colab.research.google.com/github/byui-cse/cse380-notebooks/blob/master/06_4_Wrapping_Up_Week_Six.ipynb\" target=\"_parent\"><img src=\"https://colab.research.google.com/assets/colab-badge.svg\" alt=\"Open In Colab\"/></a>"
      ]
    },
    {
      "cell_type": "markdown",
      "metadata": {
        "id": "onuhEXXHySz8"
      },
      "source": [
        "# Wrapping Up Week Six"
      ]
    },
    {
      "cell_type": "markdown",
      "metadata": {
        "id": "k-VrFimNyWhN"
      },
      "source": [
        "## Answer Selected Questions"
      ]
    },
    {
      "cell_type": "markdown",
      "metadata": {
        "id": "rEvE8Vq47N8K"
      },
      "source": [
        "### What is the right formula for $P_n(odds)$?"
      ]
    },
    {
      "cell_type": "markdown",
      "metadata": {
        "id": "nf74X6SB7Vkb"
      },
      "source": [
        "The best way is to express $P_n(odds)$ is to make $n$ is a power of 2 (so the numerator works out nicely) and then take the limit as $n$ goes to infinity.\n",
        "\n",
        "Since the numbers form a triangle, it should come as no surprise that the triangular numbers feature in the denominator of the fraction.\n",
        "\n",
        "$$P_{2^n}(odds) = \\frac{3^n}{\\frac{(2^n)(2^n + 1)}{2}} = \\frac{2 \\cdot 3^n}{4^n + 2^n}.$$\n",
        "\n",
        "Since we're taking the limit, we can ignore the constant 2 in the numerator and the $2^n$ term in the denominator. Then we have\n",
        "\n",
        "$$lim_{n \\rightarrow \\infty} \\frac{3^n}{4^n} = lim_{n \\rightarrow \\infty} \n",
        "\\left(\\frac{3}{4}\\right)^n = 0.$$\n",
        "\n",
        "So, the probability goes to zero, which means the complementary probability goes to one.\n",
        "\n",
        "The technical lingo for this result is:\n",
        "\n",
        "\"Almost all numbers in Pascal's triangle are even.\"\n"
      ]
    },
    {
      "cell_type": "markdown",
      "metadata": {
        "id": "M7rlpyF6yaLg"
      },
      "source": [
        "### How can we know if we got the right answers to our Ponder and Prove assignment?"
      ]
    },
    {
      "cell_type": "markdown",
      "metadata": {
        "id": "eLlNSVJQykGl"
      },
      "source": [
        "Pay attention!\n",
        "\n",
        "And ask questions!"
      ]
    },
    {
      "cell_type": "markdown",
      "metadata": {
        "id": "WF4t9wuVythq"
      },
      "source": [
        "### What's a good way to visualize Bayes' Theorem Generalized?"
      ]
    },
    {
      "cell_type": "markdown",
      "metadata": {
        "id": "kie8Hs51yys0"
      },
      "source": [
        "Move from 2 mutually exclusive events to 3 mutually exclusive events.\n",
        "See the recording (linked to in the chat channel)."
      ]
    },
    {
      "cell_type": "markdown",
      "metadata": {
        "id": "HvTMtvyTy1OM"
      },
      "source": [
        "### Does the problem about the three sheets of paper have an elegant solution?"
      ]
    },
    {
      "cell_type": "markdown",
      "metadata": {
        "id": "cS_zCWNYy6dC"
      },
      "source": [
        "Yes!"
      ]
    },
    {
      "cell_type": "markdown",
      "metadata": {
        "id": "F70vyEduNW6j"
      },
      "source": [
        "Let's apply Bayes' Theorem Generalized\n",
        "\n",
        "Let E = chose BB.\n",
        "\n",
        "Let F = chose BW.\n",
        "\n",
        "Let G = chose WW.\n",
        "\n",
        "Let S = see B.\n",
        "\n",
        "Want to know P(E|S).\n",
        "\n",
        "P(E) = P(F) = P(G) = 1/3.\n",
        "\n",
        "P(S|E) = 1.\n",
        "\n",
        "P(S|F) = 1/2.\n",
        "\n",
        "P(S|G) = 0.\n",
        "\n",
        "So by BTG:\n",
        "\n",
        "$$P(E|S) = \\frac{P(S|E)P(E)}{P(S|E)P(E) + P(S|F)P(F) + P(S|G)P(G)}$$\n",
        "\n",
        "$$= \\frac{1(1/3)}{1(1/3) + (1/2)(1/3) + 0(1/3)} = \\frac{1}{(1 + 1/2)} = \\frac{1}{3/2} = 2/3.$$"
      ]
    },
    {
      "cell_type": "markdown",
      "metadata": {
        "id": "khNOiLPDPSIW"
      },
      "source": [
        "### Can we see another application of BTG?"
      ]
    },
    {
      "cell_type": "markdown",
      "metadata": {
        "id": "HsIEi30HPXBl"
      },
      "source": [
        "Yes! Monty Hall meets Bayes' Theorem."
      ]
    },
    {
      "cell_type": "markdown",
      "metadata": {
        "id": "KLr_uQaoPmKb"
      },
      "source": [
        "Watch Charlie Eppes of Numb3rs fame explain Basic Probability Theory and then the Monty Hall Three Door Problem:"
      ]
    },
    {
      "cell_type": "code",
      "metadata": {
        "id": "g8ooytITPgi0"
      },
      "source": [
        "from IPython.display import YouTubeVideo\n",
        "YouTubeVideo('pCkiFvyiR_k')"
      ],
      "execution_count": null,
      "outputs": []
    },
    {
      "cell_type": "code",
      "metadata": {
        "id": "WDmO_9AFPwLT"
      },
      "source": [
        "YouTubeVideo('P9WFKmLK0dc')"
      ],
      "execution_count": null,
      "outputs": []
    },
    {
      "cell_type": "markdown",
      "metadata": {
        "id": "9GZqx07wPdCh"
      },
      "source": [
        "  How can we use Bayes\\rsquo Theorem to explain this problem?\n",
        "\n",
        "  Let $i$ = the number of the door you chose, $i \\in \\{1, 2, 3\\}$.\n",
        "\n",
        "  Let $j$ = the number of the door Monty opened, $j \\in \\{1, 2, 3\\}$.\n",
        "\n",
        "  Let $k$ = the number of the winning door, $k \\in \\{1, 2, 3\\}$.\n",
        "\n",
        "  Let W represent the number of the winning door, can take any value in $\\{1, 2, 3\\}$.\n",
        "\n",
        "  Let M represent the number of the door that Monty opens, can also take any\n",
        "  value in $\\{1, 2, 3\\}$.\n",
        "\n",
        "  Choose the $i, j, k$ values for a given \"round\" --- say $i = 1, j = 2,\\ \\mbox{and}\\ k = 3$.\n",
        "\n",
        "  Your chance of winning, P(W = i)$, is 1/3, no matter which door you chose.\n",
        "\n",
        "  If you have chosen a door other than the winning door (i.e., $i \\ne k$),\n",
        "  then Monty opens the other non-winning door.\n",
        "\n",
        "  If you have chosen the winning door (i.e., $i = k$),\n",
        "  then Monty opens one of the other two doors with equal likelihood.\n",
        "\n",
        "  $P(M = j\\ \\vert\\ W = k) = 1$ if $i$, $j$, and $k$ are distinct;\n",
        "\n",
        "  $P(M = j\\ \\vert\\ W = k) = 0$ if $j = k$ or $j = i$; and\n",
        "\n",
        "  $P(M = j\\ \\vert\\ W = k) = 1/2$ if $i = k$ and $j \\ne i$.\n",
        "\n",
        "  Without loss of generality, assume that $i = 1, j = 2$, and $k = 3$ (the same answer results from any combination of distinct values).\n",
        "\n",
        "  By Bayes' Theorem, the probability you will win if you switch your choice is\n",
        "\n",
        "$$P(W = 3\\ \\vert\\ M = 2) =$$\n",
        "\n",
        "$$\\frac{P(M = 2\\ \\vert\\ W = 3)P(W = 3)}{P(M = 2\\ \\vert\\ W = 1)P(W = 1) + P(M = 2\\ \\vert\\ W = 3)P(W = 3) +P(M = 2\\ \\vert\\ W = 2)P(W = 2)}.$$\n",
        "\n",
        "$$= \\frac{1(1/3)}{(1/2)(1/3) + 1(1/3) + 0(1/3)} = \\frac{1}{3/2} = 2/3.$$\n",
        "\n",
        "\n",
        "\n",
        "\n"
      ]
    },
    {
      "cell_type": "markdown",
      "metadata": {
        "id": "4IOBdu0eIepR"
      },
      "source": [
        "### Can we have further light and knowledge on the Compute Four Leaves task?\n"
      ]
    },
    {
      "cell_type": "markdown",
      "metadata": {
        "id": "Bab3fTQmVzT4"
      },
      "source": [
        "Yes, see the recording (linked to in the chat channel)."
      ]
    },
    {
      "cell_type": "markdown",
      "metadata": {
        "id": "Cz1h5APEFPio"
      },
      "source": [
        "### How were you able to verify so very many more numbers than everyone else? What's your secret?\n"
      ]
    },
    {
      "cell_type": "markdown",
      "metadata": {
        "id": "5VZKzhqAFVsi"
      },
      "source": [
        "I used my knowledge of the structure of the problem and the algorithm for computing ${2n \\choose n}$.\n",
        "\n",
        "More coming later..."
      ]
    }
  ]
}