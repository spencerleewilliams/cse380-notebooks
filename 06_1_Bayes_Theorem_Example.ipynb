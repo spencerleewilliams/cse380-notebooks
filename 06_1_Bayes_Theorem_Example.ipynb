{
  "nbformat": 4,
  "nbformat_minor": 0,
  "metadata": {
    "colab": {
      "name": "06_1_Bayes_Theorem_Example.ipynb",
      "provenance": [],
      "authorship_tag": "ABX9TyOD7jjrK5dhy95YiZfQqilR",
      "include_colab_link": true
    },
    "kernelspec": {
      "name": "python3",
      "display_name": "Python 3"
    }
  },
  "cells": [
    {
      "cell_type": "markdown",
      "metadata": {
        "id": "view-in-github",
        "colab_type": "text"
      },
      "source": [
        "<a href=\"https://colab.research.google.com/github/byui-cse/cse380-notebooks/blob/master/06_1_Bayes_Theorem_Example.ipynb\" target=\"_parent\"><img src=\"https://colab.research.google.com/assets/colab-badge.svg\" alt=\"Open In Colab\"/></a>"
      ]
    },
    {
      "cell_type": "markdown",
      "metadata": {
        "id": "QDekmvNgh4VO"
      },
      "source": [
        "# Bayes' Theorem Example"
      ]
    },
    {
      "cell_type": "markdown",
      "metadata": {
        "id": "JUXlDr7hiIge"
      },
      "source": [
        "## For your consideration, profit, and learning\n",
        "### 9 February 2021"
      ]
    },
    {
      "cell_type": "markdown",
      "metadata": {
        "id": "Gg0vIjvpiMkz"
      },
      "source": [
        "## Facts and Rates"
      ]
    },
    {
      "cell_type": "markdown",
      "metadata": {
        "id": "nBvxPrnfi_OZ"
      },
      "source": [
        "We know these facts about a certain disease with a test for detecting its presence in humans:\n",
        "\n",
        ".6 percent of the population has the disease,\n",
        "\n",
        "the *sensitivity* of the test is 95 percent, and\n",
        "\n",
        "the *specificity* of the test is 99.6 percent.\n",
        "\n",
        "Note these two statistical terms: *sensitivity* is the probability that the test is correct when the disease is present, and *specificity* is the probability that the test is correct when the disease is absent.\n",
        "\n",
        "  Given the above, for this disease and test, what is\n",
        "  - the *false positive rate*?\n",
        "  - the *true positive rate*?\n",
        "  - the *false negative rate*?\n",
        "  - the *true negative rate*?\n"
      ]
    },
    {
      "cell_type": "markdown",
      "metadata": {
        "id": "BDTeQdQnjVQB"
      },
      "source": [
        "## Truth versus Test"
      ]
    },
    {
      "cell_type": "markdown",
      "metadata": {
        "id": "bAo2DpjVjYCy"
      },
      "source": [
        "$$\\begin{array}{|r|r|r|r|}\n",
        "  \\hline\n",
        "  & & & \\\\\n",
        "  & P(\\overline{H}) & P(H) & Margin \\\\\n",
        "  \\hline\n",
        "  & & & \\\\\n",
        "  P(T) & P(\\overline{H} \\cap T) & P(H \\cap T) &  \\\\\n",
        "  & & & \\\\\n",
        "  & = P(\\overline{H}\\vert{}T) \\cdot P(T) & = P(H\\vert{}T) \\cdot P(T) & \\\\\n",
        "  & = P(T\\vert{}\\overline{H}) \\cdot P(\\overline{H}) & = P(T\\vert{}H) \\cdot P(H) & \\\\\n",
        "  & & & \\\\\n",
        "  \\hline\n",
        "  & & & \\\\\n",
        "  P(\\overline{T}) & P(\\overline{H} \\cap \\overline{T}) & P(H \\cap \\overline{T}) & \\\\\n",
        "  & & & \\\\\n",
        "  & = P(\\overline{H}\\vert{}\\overline{T}) \\cdot P(\\overline{T}) & = P(H\\vert{}\\overline{T}) \\cdot P(\\overline{T}) & \\\\\n",
        "  & = P(\\overline{T}\\vert{}\\overline{H}) \\cdot P(\\overline{H}) & = P(\\overline{T}\\vert{}H) \\cdot P(H) & \\\\\n",
        "  & & & \\\\\n",
        "  \\hline\n",
        "  & & & \\\\\n",
        "  & & & \\\\\n",
        "  \\hline\n",
        "  \\end{array}$$"
      ]
    },
    {
      "cell_type": "markdown",
      "metadata": {
        "id": "Ou4pIofkjx4c"
      },
      "source": [
        "## What We're Given"
      ]
    },
    {
      "cell_type": "markdown",
      "metadata": {
        "id": "gfbC9ZB3j37u"
      },
      "source": [
        "P(H) = .006\n",
        "\n",
        "P(T|H) = .95\n",
        "\n",
        "P(!T|!H) = .996"
      ]
    },
    {
      "cell_type": "markdown",
      "metadata": {
        "id": "PdUVOJ5WkXFT"
      },
      "source": [
        "## What We Need To Calculate"
      ]
    },
    {
      "cell_type": "markdown",
      "metadata": {
        "id": "xftqNPr6kaUL"
      },
      "source": [
        "$P(H \\cap T) = (.95)(.006) = .0057$\n",
        "\n",
        "$P(H \\cap !T) = .006 - .0057 = .0003$\n",
        "\n",
        "$P(T|!H) = 1 - .996 = .004$\n",
        "\n",
        "$P(!H \\cap T) = (.004)(.994) = .003976$\n",
        "\n",
        "$P(!H \\cap !T) = (.994)(.996) = .990024$\n",
        "\n",
        "$P(!T) = P(!H \\cap !T) + P(H \\cap !T) = .990024 + .0003 = .990324$\n",
        "\n",
        "$P(T) = 1 - P(!T) = 1 - .990324 = 0.009676$\n",
        "\n",
        "**The FPR (False Positive Rate)**: $P(!H \\cap T) / P(T)$\n",
        "\n",
        "Or in numbers, (# of false positives) / (# of positives (true and false)).\n",
        "\n",
        "So the FPR $= .003976 / .009676 = 0.41091360066143034 \\approx 0.4109.$\n",
        "\n",
        "**The TPR (True Positive Rate)**: $P(H \\cap T) / P(T)$\n",
        "\n",
        "Or in numbers, (# of true positives) / (# of positives (true and false)).\n",
        "\n",
        "So the TPR $= .0057 / .009676 = 0.5890863993385697 \\approx 0.59.$\n",
        "\n",
        "**The FNR (False Negative Rate)**: $P(H \\cap !T) / P(!T)$\n",
        "\n",
        "Or in numbers, (# of false negatives) / (# of negatives (true and false)).\n",
        "\n",
        "So the FNR $= .0003 / .990324 = 0.00030293116192276463 \\approx 0.0003.$\n",
        "\n",
        "**The TNR (True Negative Rate)**: $P(!H \\cap !T) / P(!T)$\n",
        "\n",
        "Or in numbers, (# of true negatives) / (# of negatives (true and false)).\n",
        "\n",
        "So the TNR $= .990024 / .990324 = 0.9996970688380773 \\approx 0.9997.$"
      ]
    },
    {
      "cell_type": "markdown",
      "metadata": {
        "id": "Bv1VbTLpl9HT"
      },
      "source": [
        "## How About A Little Code?"
      ]
    },
    {
      "cell_type": "code",
      "metadata": {
        "id": "vTjXZye6hvST"
      },
      "source": [
        "from fractions import Fraction as frac\n",
        "from pprint import pprint\n",
        "\n",
        "def frac2float(f):\n",
        "    return '{:5.4f}'.format(f.numerator / f.denominator)\n",
        "\n",
        "# k for knowns, c, d, e, f, and g for calculated values\n",
        "k = {'p(H)': frac(6, 1000),\n",
        "     'p(!H)': frac(994, 1000),\n",
        "     'p(T|H)': frac(95, 100),\n",
        "     'p(!T|!H)': frac(996, 1000)}\n",
        "\n",
        "c = {'p(H&T)': k['p(T|H)'] * k['p(H)']}\n",
        "\n",
        "d = {'p(H&!T)': k['p(H)'] - c['p(H&T)'],\n",
        "     'p(T|!H)': 1 - k['p(!T|!H)']}\n",
        "\n",
        "e = {'p(!H&T)': d['p(T|!H)'] * k['p(!H)'],\n",
        "     'p(!H&!T)': k['p(!H)']  * k['p(!T|!H)']}\n",
        "\n",
        "f = {'p(!T)': e['p(!H&!T)'] + d['p(H&!T)']}\n",
        "\n",
        "g = {'p(T)': 1 - f['p(!T)']}\n",
        "\n",
        "FPR = e['p(!H&T)'] / g['p(T)']\n",
        "\n",
        "TPR = c['p(H&T)'] / g['p(T)']\n",
        "\n",
        "FNR = d['p(H&!T)'] / f['p(!T)']\n",
        "\n",
        "TNR = e['p(!H&!T)'] / f['p(!T)']\n",
        "\n",
        "print('FPR =', frac2float(FPR))\n",
        "\n",
        "print('TPR =', frac2float(TPR))\n",
        "\n",
        "print('FNR =', frac2float(FNR))\n",
        "\n",
        "print('TNR =', frac2float(TNR))\n"
      ],
      "execution_count": null,
      "outputs": []
    },
    {
      "cell_type": "markdown",
      "metadata": {
        "id": "4NYHG2_RmctX"
      },
      "source": [
        "## Or In Strictly Whole Numbers"
      ]
    },
    {
      "cell_type": "code",
      "metadata": {
        "id": "CKMHtXZYmhVa"
      },
      "source": [
        "from pprint import pprint\n",
        "\n",
        "total_population = 10 ** 6\n",
        "\n",
        "k = {'n(H)': 6 * 1000,\n",
        "     'n(T|H)': 950 * 1000,\n",
        "     'n(!T|!H)': 996 * 1000}\n",
        "\n",
        "m = {'n(!H)': total_population - k['n(H)']}\n",
        "\n",
        "o = {'n(H&T)': k['n(T|H)'] * k['n(H)'] / total_population}\n",
        "\n",
        "p = {'n(H&!T)': k['n(H)'] - o['n(H&T)'],\n",
        "     'n(T|!H)': total_population - k['n(!T|!H)']}\n",
        "\n",
        "q = {'n(!H&T)': p['n(T|!H)'] * m['n(!H)'] / total_population,\n",
        "     'n(!H&!T)': m['n(!H)'] * k['n(!T|!H)'] / total_population}\n",
        "\n",
        "r = {'n(!T)': q['n(!H&!T)'] + p['n(H&!T)']}\n",
        "\n",
        "s = {'n(T)': total_population - r['n(!T)']}\n",
        "\n",
        "FPR = q['n(!H&T)'] / s['n(T)']\n",
        "\n",
        "TPR = o['n(H&T)'] / s['n(T)']\n",
        "\n",
        "FNR = p['n(H&!T)'] / r['n(!T)']\n",
        "\n",
        "TNR = q['n(!H&!T)'] / r['n(!T)']\n",
        "\n",
        "print('NFP =', round(FPR * total_population))\n",
        "\n",
        "print('NTP =', round(TPR * total_population))\n",
        "\n",
        "print('NFN =', round(FNR * total_population))\n",
        "\n",
        "print('NTN =', round(TNR * total_population))"
      ],
      "execution_count": null,
      "outputs": []
    }
  ]
}