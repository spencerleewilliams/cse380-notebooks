{
  "nbformat": 4,
  "nbformat_minor": 0,
  "metadata": {
    "colab": {
      "name": "Copy of 12_4_About_Nondeterministic_Finite_Automata.ipynb",
      "provenance": [],
      "include_colab_link": true
    },
    "kernelspec": {
      "name": "python3",
      "display_name": "Python 3"
    },
    "language_info": {
      "name": "python"
    }
  },
  "cells": [
    {
      "cell_type": "markdown",
      "metadata": {
        "id": "view-in-github",
        "colab_type": "text"
      },
      "source": [
        "<a href=\"https://colab.research.google.com/github/spencerleewilliams/cse380-notebooks/blob/master/12_4_About_Nondeterministic_Finite_Automata.ipynb\" target=\"_parent\"><img src=\"https://colab.research.google.com/assets/colab-badge.svg\" alt=\"Open In Colab\"/></a>"
      ]
    },
    {
      "cell_type": "markdown",
      "metadata": {
        "id": "pdoHIeHSb4sU"
      },
      "source": [
        "# About Nondeterministic Finite Automata\n",
        "## 24 March 2021"
      ]
    },
    {
      "cell_type": "markdown",
      "metadata": {
        "id": "_sABk4VXkGBa"
      },
      "source": [
        "## The Idea of Nondeterminism"
      ]
    },
    {
      "cell_type": "markdown",
      "metadata": {
        "id": "QUjoBPuXkpeJ"
      },
      "source": [
        "Nondeterminism essentially means determinism is out the window, and the ramifications of this are twofold:\n",
        "\n",
        "1. Nondeterministic Finite Automata (NFA) are easier to deal with in some ways, and harder in others, than Deterministic Finite Automata (DFA). Rather than having a single state to transition to on a given input character, there can be two or more possibilities. And that opening up of possibilities means...\n",
        "2. There is power in being able to postpone decisions --- in other words, keep multiple options open."
      ]
    },
    {
      "cell_type": "markdown",
      "metadata": {
        "id": "PIYHJaiQoDlP"
      },
      "source": [
        "To see one advantage of nondeterminism, consider the exponential explosion in the number of states that you saw with the language family:\n",
        "\n",
        "$L_k = \\{x0z\\ \\mid\\ x \\in \\{0, 1\\}^*, z \\in \\{0, 1\\}^k\\}$\n",
        "\n",
        "Or, using Regular Expressions with $+$ meaning $\\cup$, for $k = 0, 1, 2, 3, \\ldots$\n",
        "\n",
        "* $k = 0: (0+1)^*0$\n",
        "* $k = 1: (0+1)^*0(0+1)$\n",
        "* $k = 2: (0+1)^*0(0+1)(0+1)$\n",
        "* $k = 3: (0+1)^*0(0+1)(0+1)(0+1)$\n",
        "* $\\cdots$"
      ]
    },
    {
      "cell_type": "markdown",
      "metadata": {
        "id": "5qGbuwMvp4zp"
      },
      "source": [
        "As you discovered, defining DFA (parameterized on $k$) that recognize this language family is **not** easy.\n",
        "\n",
        "See the graphs [of minimal DFA!](https://rickneff.github.io/non-determinism-to-determinism-cost.pdf).\n",
        "\n",
        "See also elegantly symmetrical hand-drawn equivalents of DFA recognizing $L_1, L_2,$ and $L_3$ at [nth last 0 with a twist](https://rickneff.github.io/images/nth-last-0-with-a-twist.jpg)."
      ]
    },
    {
      "cell_type": "markdown",
      "metadata": {
        "id": "f6_LndCBqpFn"
      },
      "source": [
        "## With NFA"
      ]
    },
    {
      "cell_type": "markdown",
      "metadata": {
        "id": "s_bi7j_rqrjz"
      },
      "source": [
        "... it is **super** easy!\n",
        "\n",
        "We'll draw them this time without the \"empty\" (invisible) state and just stipulate that the leftmost state is the start state."
      ]
    },
    {
      "cell_type": "markdown",
      "metadata": {
        "id": "iiELKPMZqwx9"
      },
      "source": [
        "### $L_0$"
      ]
    },
    {
      "cell_type": "code",
      "metadata": {
        "id": "_20W6yOV2BPL"
      },
      "source": [
        "from graphviz import Source"
      ],
      "execution_count": null,
      "outputs": []
    },
    {
      "cell_type": "code",
      "metadata": {
        "id": "QlrAEfBLq0P_"
      },
      "source": [
        "last_bit_zero = '''\n",
        "digraph {\n",
        "  rankdir=\"LR\"\n",
        "  node [shape=circle]\n",
        "  S0 [label=\"\"]\n",
        "  S1 [shape=doublecircle, label=\"\"]\n",
        "\n",
        "  S0 -> S0 [label=\"0,1\"]\n",
        "  S0 -> S1 [label=0]\n",
        "}\n",
        "'''\n",
        "Source(last_bit_zero)"
      ],
      "execution_count": null,
      "outputs": []
    },
    {
      "cell_type": "markdown",
      "metadata": {
        "id": "HbJq4BI6ry9d"
      },
      "source": [
        "### $L_1$"
      ]
    },
    {
      "cell_type": "code",
      "metadata": {
        "id": "J7iQ3BeLry9e"
      },
      "source": [
        "second_to_last_bit_zero = '''\n",
        "digraph {\n",
        "  rankdir=\"LR\"\n",
        "  node [shape=circle]\n",
        "  S0 [label=\"\"]\n",
        "  S1 [label=\"\"]\n",
        "  S2 [shape=doublecircle, label=\"\"]\n",
        "\n",
        "  S0 -> S0 [label=\"0,1\"]\n",
        "  S0 -> S1 [label=0]\n",
        "  S1 -> S2 [label=\"0,1\"]\n",
        "}\n",
        "'''\n",
        "Source(second_to_last_bit_zero)"
      ],
      "execution_count": null,
      "outputs": []
    },
    {
      "cell_type": "markdown",
      "metadata": {
        "id": "tsE2L_GXrzFM"
      },
      "source": [
        "### $L_2$"
      ]
    },
    {
      "cell_type": "code",
      "metadata": {
        "id": "JUM4GgmprzFM"
      },
      "source": [
        "third_to_last_bit_zero = '''\n",
        "digraph {\n",
        "  rankdir=\"LR\"\n",
        "  node [shape=circle]\n",
        "  S0 [label=\"\"]\n",
        "  S1 [label=\"\"]\n",
        "  S2 [label=\"\"]\n",
        "  S3 [shape=doublecircle, label=\"\"]\n",
        "\n",
        "  S0 -> S0 [label=\"0,1\"]\n",
        "  S0 -> S1 [label=0]\n",
        "  S1 -> S2 [label=\"0,1\"]\n",
        "  S2 -> S3 [label=\"0,1\"]\n",
        "}\n",
        "'''\n",
        "Source(third_to_last_bit_zero)"
      ],
      "execution_count": null,
      "outputs": []
    },
    {
      "cell_type": "markdown",
      "metadata": {
        "id": "CipdnZHxrzLN"
      },
      "source": [
        "### $L_3$"
      ]
    },
    {
      "cell_type": "code",
      "metadata": {
        "id": "qO1Cg4UJrzLO"
      },
      "source": [
        "fourth_to_last_bit_zero = '''\n",
        "digraph {\n",
        "  rankdir=\"LR\"\n",
        "  node [shape=circle]\n",
        "  S0 [label=\"\"]\n",
        "  S1 [label=\"\"]\n",
        "  S2 [label=\"\"]\n",
        "  S3 [label=\"\"]\n",
        "  S4 [shape=doublecircle, label=\"\"]\n",
        "\n",
        "  S0 -> S0 [label=\"0,1\"]\n",
        "  S0 -> S1 [label=0]\n",
        "  S1 -> S2 [label=\"0,1\"]\n",
        "  S2 -> S3 [label=\"0,1\"]\n",
        "  S3 -> S4 [label=\"0,1\"]\n",
        "}\n",
        "'''\n",
        "Source(fourth_to_last_bit_zero)"
      ],
      "execution_count": null,
      "outputs": []
    },
    {
      "cell_type": "markdown",
      "metadata": {
        "id": "P1snmvGmrzQn"
      },
      "source": [
        "## The Effect of Nondeterminism"
      ]
    },
    {
      "cell_type": "markdown",
      "metadata": {
        "id": "JXcz5AlQ20Ki"
      },
      "source": [
        "... on automaton operations is striking, particularly its use for describing regular languages.\n",
        "\n",
        "The presence of nondeterminism affects the ease with which certain automaton operations can be carried out.\n",
        "\n",
        "1. The operations of *union*, *concatenation*, and *star* become **easier** to preform.\n",
        "2. The operations of *complementation*, *intersection*, and *equivalence* become **harder** to perform.\n",
        "\n",
        "A video made by Professor Ganesh Gopalakrishnan as he demonstrates the \"Jove\" tools is available. Watch it on YouTube [here](https://www.youtube.com/watch?v=eRiLkERXNwE&feature=youtu.be) or by executing the code block below.\n",
        "\n",
        "Start around the 37th minute, thus skipping some information normally treated in DM4 (CSE 480).\n",
        "\n",
        "Around 47:30 is where Ganesh formally explains what NFA are and how they behave."
      ]
    },
    {
      "cell_type": "code",
      "metadata": {
        "id": "5N0zHne2rzQn"
      },
      "source": [
        "from IPython.display import YouTubeVideo\n",
        "YouTubeVideo('eRiLkERXNwE')"
      ],
      "execution_count": null,
      "outputs": []
    },
    {
      "cell_type": "code",
      "metadata": {
        "id": "V5T25U6ULov4"
      },
      "source": [
        "!cat Jove/jove/Def_NFA.py"
      ],
      "execution_count": null,
      "outputs": []
    },
    {
      "cell_type": "markdown",
      "metadata": {
        "id": "LkME8WUcGHds"
      },
      "source": [
        "## Try it with Threads"
      ]
    },
    {
      "cell_type": "code",
      "metadata": {
        "id": "vwL2T8LpGGhD"
      },
      "source": [
        "from threading import Thread\n",
        "\n",
        "class NFA(Thread):\n",
        "  def __init__(self, input, next_input_index, history,\n",
        "               current_state, next_state_dict):\n",
        "    super().__init__()\n",
        "    self.input = input\n",
        "    self.next_input_index = next_input_index\n",
        "    self.history = history\n",
        "    self.current_state = current_state\n",
        "    self.next_state_dict = next_state_dict\n",
        "    super().start()\n",
        "\n",
        "  def run(self):\n",
        "    while self.has_more_input():\n",
        "      self.consume_input()\n",
        "    self.return_and_report()   \n",
        "\n",
        "  def has_more_input(self):\n",
        "    return self.next_input_index < len(self.input)\n",
        "  \n",
        "  def consume_input(self):\n",
        "    next_symbol = self.input[self.next_input_index]\n",
        "    # handle transitions on next_symbol if any\n",
        "    key = (self.current_state, next_symbol)\n",
        "    if key in self.next_state_dict:\n",
        "      next_states = self.next_state_dict[key]\n",
        "      for next_state in next_states:\n",
        "        NFA(self.input, self.next_input_index + 1,\n",
        "            self.history + '--' + next_symbol + '-->' + next_state,\n",
        "            next_state, self.next_state_dict)\n",
        "    # handle \"empty string\" transitions\n",
        "    next_symbol = ''\n",
        "    key = (self.current_state, next_symbol)\n",
        "    if key in self.next_state_dict:\n",
        "      next_states = self.next_state_dict[key]\n",
        "      for next_state in next_states:\n",
        "        NFA(self.input, self.next_input_index, # NOTE: no \"+ 1\"\n",
        "            self.history + '---->' + next_state,\n",
        "            next_state, self.next_state_dict)\n",
        "    self.stop()\n",
        "\n",
        "  def stop(self):\n",
        "    \"\"\"Force exit from while loop in run for this machine,\n",
        "       all remaining input will be consumed by the\n",
        "       \"forked copies\", if any.\n",
        "    \"\"\"\n",
        "    self.input = ''\n",
        "\n",
        "  def is_in_final_state(self):\n",
        "    \"\"\"By convention, final states have 'F' in their name.\n",
        "    \"\"\"\n",
        "    return self.current_state.count('F')\n",
        "\n",
        "  def return_and_report(self):\n",
        "    self.history += (', final state, so ACCEPT.'\n",
        "      if self.is_in_final_state() \n",
        "      else ', NOT a final state, so REJECT.')\n",
        "    print(self.history if self.input else '', flush=True)"
      ],
      "execution_count": null,
      "outputs": []
    },
    {
      "cell_type": "code",
      "metadata": {
        "id": "XrPOsZ_eVEge"
      },
      "source": [
        "NFA('00', 0, 'I', 'I',\n",
        "    {('I', ''): {'F1', 'F2'},\n",
        "     ('F1', '0'): {'B'},\n",
        "     ('F2', '0'): {'C'},\n",
        "     ('B', '0'): {'F1'},\n",
        "     ('C', '0'): {'D'},\n",
        "     ('D', '0'): {'F2'}});"
      ],
      "execution_count": null,
      "outputs": []
    },
    {
      "cell_type": "markdown",
      "metadata": {
        "id": "6Q_EVpdrxeEl"
      },
      "source": [
        "## Try it with Jove"
      ]
    },
    {
      "cell_type": "code",
      "metadata": {
        "id": "0WySwdTWOCwr"
      },
      "source": [
        "#~~~~~~~~~~~~~~~~~~~~~~~~~~~~~~~~~~~~~~~~~~~~~~~~~~~~~~~\n",
        "import sys\n",
        "\n",
        "# -- Detect if in Own Install or in Colab\n",
        "try:\n",
        "    import google.colab\n",
        "    OWN_INSTALL = False\n",
        "except:\n",
        "    OWN_INSTALL = True\n",
        "    \n",
        "if OWN_INSTALL:\n",
        "  \n",
        "  sys.path[0:0] = ['../../../../..',  '../../../../../3rdparty',  \n",
        "                   '../../../..',  '../../../../3rdparty',  \n",
        "                   '../../..',     '../../../3rdparty', \n",
        "                   '../..',        '../../3rdparty',\n",
        "                   '..',           '../3rdparty',\n",
        "                   '../Jove',      '../Jove/jove']\n",
        "\n",
        "else: # In colab\n",
        "  ! if [ ! -d Jove ]; then git clone https://github.com/ganeshutah/Jove Jove; fi\n",
        "  sys.path.append('./Jove')\n",
        "  sys.path.append('./Jove/jove')\n",
        "\n",
        "# -- common imports --\n",
        "from jove.DotBashers import *\n",
        "from jove.Def_md2mc  import *\n",
        "from jove.Def_NFA    import *\n",
        "from jove.Def_DFA    import *\n",
        "from jove.Def_NFA2RE import *\n",
        "from jove.Def_RE2NFA import *\n",
        "from jove.AnimateNFA import *\n",
        "#~~~~~~~~~~~~~~~~~~~~~~~~~~~~~~~~~~~~~~~~~~~~~~~~~~~~~~~"
      ],
      "execution_count": null,
      "outputs": []
    },
    {
      "cell_type": "code",
      "metadata": {
        "id": "O5lkFBBUOI8q"
      },
      "source": [
        "nfa = md2mc(\"\"\"\n",
        " NFA \n",
        "   I: '' -> F1,F2\n",
        "  F1: 0 -> B\n",
        "   B: 0 -> F1 \n",
        "  F2: 0 -> C\n",
        "   C: 0 -> D\n",
        "   D: 0 -> F2\n",
        "\"\"\")"
      ],
      "execution_count": null,
      "outputs": []
    },
    {
      "cell_type": "code",
      "metadata": {
        "id": "GdghUdR0ISdH"
      },
      "source": [
        "nfa"
      ],
      "execution_count": null,
      "outputs": []
    },
    {
      "cell_type": "code",
      "metadata": {
        "id": "-FYpRuJZKfRk"
      },
      "source": [
        "dotObj_dfa(min_dfa(nfa2dfa(nfa)))"
      ],
      "execution_count": null,
      "outputs": []
    },
    {
      "cell_type": "code",
      "metadata": {
        "id": "z5ZXbr0qIqau"
      },
      "source": [
        "dotObj_nfa(nfa)"
      ],
      "execution_count": null,
      "outputs": []
    },
    {
      "cell_type": "code",
      "metadata": {
        "id": "Bdf9jXNe0LlZ"
      },
      "source": [
        "AnimateNFA(nfa)\n",
        "display(HTML('<link rel=\\\"stylesheet\\\" href=\\\"//stackpath.bootstrapcdn.com/font-awesome/4.7.0/css/font-awesome.min.css\\\"/>'))"
      ],
      "execution_count": null,
      "outputs": []
    },
    {
      "cell_type": "markdown",
      "metadata": {
        "id": "SsJl-p3DKQbQ"
      },
      "source": [
        "To see more of what Jove can do, [go here](https://colab.research.google.com/github/ganeshutah/Jove/blob/master/For_The_Public/SIGCSE21/SIGCSE_2021_Demo_of_Jove.ipynb)."
      ]
    }
  ]
}