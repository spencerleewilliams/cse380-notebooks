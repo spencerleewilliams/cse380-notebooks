{
  "nbformat": 4,
  "nbformat_minor": 0,
  "metadata": {
    "colab": {
      "name": "07_4_Further_Light_and_Knowledge.ipynb",
      "provenance": [],
      "authorship_tag": "ABX9TyNQRQ+rp2KLVXGzSlTLLnhG",
      "include_colab_link": true
    },
    "kernelspec": {
      "name": "python3",
      "display_name": "Python 3"
    }
  },
  "cells": [
    {
      "cell_type": "markdown",
      "metadata": {
        "id": "view-in-github",
        "colab_type": "text"
      },
      "source": [
        "<a href=\"https://colab.research.google.com/github/byui-cse/cse380-notebooks/blob/master/07_4_Further_Light_and_Knowledge.ipynb\" target=\"_parent\"><img src=\"https://colab.research.google.com/assets/colab-badge.svg\" alt=\"Open In Colab\"/></a>"
      ]
    },
    {
      "cell_type": "markdown",
      "metadata": {
        "id": "gQAT6GiKVw-E"
      },
      "source": [
        "# Further Light and Knowledge\n",
        "## As We End Week 07"
      ]
    },
    {
      "cell_type": "markdown",
      "metadata": {
        "id": "irNHlN6SV2u2"
      },
      "source": [
        "## More About Primes and Probability"
      ]
    },
    {
      "cell_type": "markdown",
      "metadata": {
        "id": "1ju2l8G4WDId"
      },
      "source": [
        "### Most Likely Correct\n"
      ]
    },
    {
      "cell_type": "markdown",
      "metadata": {
        "id": "sa8oJuJMWQ-B"
      },
      "source": [
        "With some clever workarounds to deal with pseudoprimes, a probabilistic algorithm can implement a **fast** primality test that *almost always works* (meaning it has an extremely low failure rate) with two nice properties:\n",
        "\n",
        "1. If $N$ is prime, then for **any** choice of $X$, it says \"true, $N$ is prime.\" Guaranteed!\n",
        "2. If $N$ is composite (nonprime), then for **most** choices of $X$, it says \"false, $N$ is nonprime.\""
      ]
    },
    {
      "cell_type": "markdown",
      "metadata": {
        "id": "XaDRq3tsWqss"
      },
      "source": [
        "### Which means?"
      ]
    },
    {
      "cell_type": "markdown",
      "metadata": {
        "id": "t_8HPCOPWxTc"
      },
      "source": [
        "Suppose a nonprime will fail 3/4 of these primality tests. That's a 75% success rate, because the test failing means a nonprime is certifiably nonprime.\n",
        "\n",
        "Thus, if you use five such independent tests, the chance that a nonprime will fail to be certified nonprime is only $\\frac{1}{4^5}$, or about $\\frac{1}{1000}$."
      ]
    },
    {
      "cell_type": "markdown",
      "metadata": {
        "id": "aHuHr5EmXF0f"
      },
      "source": [
        "### Say It Again"
      ]
    },
    {
      "cell_type": "markdown",
      "metadata": {
        "id": "O0qhsgobXLZp"
      },
      "source": [
        "Because \"fail to be certified nonprime\" is a confusing double-negative, a better way to say that is:\n",
        "\n",
        "Thus, the chance is small, 1 in 4, that the algorithm will incorrectly say that a nonprime is prime. Being wrong twice in a row is less likely, $\\frac{1}{4} \\cdot \\frac{1}{4}$, being wrong three times in a row is even less likely, $\\frac{1}{4^3}$. Only once in about a thousand tries (probability $\\frac{1}{4^5}$ which is approximately $\\frac{1}{1000}$) will it be wrong five times in a row."
      ]
    },
    {
      "cell_type": "markdown",
      "metadata": {
        "id": "xhrJ8uAkX0qg"
      },
      "source": [
        "### Put It Together"
      ]
    },
    {
      "cell_type": "markdown",
      "metadata": {
        "id": "-HtuSgpXX4kf"
      },
      "source": [
        "If you successfully used the **Prime Number Theorem** to estimate the probability that a randomly-chosen **k**-digit number is prime, then you're ready to use Bayes' Theorem in a trutH versus tesT context!"
      ]
    },
    {
      "cell_type": "markdown",
      "metadata": {
        "id": "FDcnJOtLYRVF"
      },
      "source": [
        "\n",
        "Let $H$ be the event that a randomly-chosen $k$-digit number is prime.\n",
        "\n",
        "Let $T$ be the event that our probabilistic algorithm says it's prime after running for $n$ iterations.\n",
        "\n",
        "$P(H) = \\frac{1}{log\\ 10^k}$\n",
        "\n",
        "$P(!H) = 1 - P(H)$\n",
        "\n",
        "$P(T|H)  = 1$\n",
        "\n",
        "$P(T|!H) = \\frac{1}{4^n}$\n",
        "\n",
        "$P(H|T) = \\frac{P(T|H)P(H)}{P(T|H)P(H) + P(T|!H)P(!H)}$\n",
        "\n",
        "$P(H|T) = \\frac{1}{1 + \\frac{P(T|!H)P(!H)}{P(T|H)P(H)}} = \\frac{1}{1 + \\frac{\\frac{1}{v}\\left(1 - \\frac{1}{x}\\right)}{\\frac{1}{x}}} = \\frac{1}{1 + \\frac{x\\left(1 - \\frac{1}{x}\\right)}{v}} = \\frac{1}{1 + \\frac{x - 1}{v}}$\n",
        "\n",
        "where $v = 4^n$ and $x = log\\ 10^k$.\n",
        "\n",
        "So, after multiplying top and bottom by $v$\n",
        "\n",
        "the expression to evaluate is $\\frac{v}{v + x - 1}$"
      ]
    },
    {
      "cell_type": "code",
      "metadata": {
        "colab": {
          "base_uri": "https://localhost:8080/"
        },
        "id": "hrGOic2fYCLg",
        "outputId": "2765d470-41cf-477c-decb-aafbcf492618"
      },
      "source": [
        "from math import log\n",
        "\n",
        "def show_probability_complicated_and_simplified(k):\n",
        "  ten_to_the_k = 10 ** k\n",
        "  ten_to_the_k_minus_1 = ten_to_the_k / 10\n",
        "  result = ((ten_to_the_k / log(ten_to_the_k)) - \\\n",
        "            (ten_to_the_k_minus_1 / log(ten_to_the_k_minus_1))) / \\\n",
        "            (ten_to_the_k - ten_to_the_k_minus_1)\n",
        "  simplified = 1 / log(ten_to_the_k)\n",
        "  return result, simplified, simplified - result\n",
        "\n",
        "print('(complicated, simplified, difference)')\n",
        "for k in range(3, 10):\n",
        "  print(show_probability_complicated_and_simplified(k))\n",
        "print()\n",
        "\n",
        "def probability_H_given_T(k, n):\n",
        "  v = 4 ** n\n",
        "  x = k * log(10)\n",
        "  return v / (v + x - 1)\n",
        "\n",
        "for n in range(1, 11):\n",
        "  p = probability_H_given_T(300, n)\n",
        "  print(f\"{n} --> {p}\")"
      ],
      "execution_count": 1,
      "outputs": [
        {
          "output_type": "stream",
          "text": [
            "(complicated, simplified, difference)\n",
            "(0.13672233689546817, 0.14476482730108395, 0.008042490405615776)\n",
            "(0.10455237527300504, 0.10857362047581294, 0.004021245202807902)\n",
            "(0.08444614925896564, 0.08685889638065036, 0.0024127471216847246)\n",
            "(0.07077391556941881, 0.07238241365054197, 0.0016084980811231636)\n",
            "(0.06089314164251943, 0.06204206884332169, 0.0011489272008022577)\n",
            "(0.053425114837304784, 0.05428681023790647, 0.0008616954006016864)\n",
            "(0.04758473489989333, 0.04825494243369465, 0.0006702075338013216)\n",
            "\n",
            "1 --> 0.005765553610860217\n",
            "2 --> 0.02267009745669094\n",
            "3 --> 0.08490591380494147\n",
            "4 --> 0.27067733563471014\n",
            "5 --> 0.5975111578678223\n",
            "6 --> 0.8558696445587064\n",
            "7 --> 0.959600293047596\n",
            "8 --> 0.9895844854605345\n",
            "9 --> 0.9973756206693267\n",
            "10 --> 0.9993426112392247\n"
          ],
          "name": "stdout"
        }
      ]
    },
    {
      "cell_type": "markdown",
      "metadata": {
        "id": "8m9zVb0laSGz"
      },
      "source": [
        "## Answer Selected Questions"
      ]
    },
    {
      "cell_type": "markdown",
      "metadata": {
        "id": "2LDCygJ4dp0r"
      },
      "source": [
        "### Question about Fermat's Little Theorem"
      ]
    },
    {
      "cell_type": "markdown",
      "metadata": {
        "id": "lXL7Zn-5duyG"
      },
      "source": [
        "FLT is also stated: $X^{N-1} \\equiv_N 1$, if $N$ is prime and does not divide $X$.\n",
        "\n",
        "Wouldn't this version suggest that a way you can find a mod-$N$ MMI of $X$ is by calculating $X^{N-2}$ mod $N$, because $X \\cdot X^{N-2} = X^{N-1}$ which is $\\equiv_N 1$ by FLT?"
      ]
    },
    {
      "cell_type": "markdown",
      "metadata": {
        "id": "od2RfJPpeZv9"
      },
      "source": [
        "#### Answer"
      ]
    },
    {
      "cell_type": "markdown",
      "metadata": {
        "id": "uNWC7wYOecO2"
      },
      "source": [
        "Yes! However, it won't work if $N$ is not prime."
      ]
    },
    {
      "cell_type": "markdown",
      "metadata": {
        "id": "QWchN27Advv_"
      },
      "source": [
        "### Questions about Ponder and Prove"
      ]
    },
    {
      "cell_type": "markdown",
      "metadata": {
        "id": "YTXP8-ushQXH"
      },
      "source": [
        "How would you suggest we go about proving that the first 4-digit **bppp** will \"fool the FLT test for every base coprime to it\"?\n",
        "\n",
        "My first thought was that I would write some code that would brute-force check lots of numbers, but that is inefficient and would take a long time.\n",
        "\n",
        "Coming up with a proof first would probably be smarter, but given that we don't know the **bppp** before writing the proof, how would you suggest we start?\n",
        "\n",
        "3 big questions. The first is what is meant by the consequence of coprimality and how is it different from the definition of coprime? The second is how to use the Chinese Remainder Theorem in proving our number. Third, what is a good approach to creating a proof generally?"
      ]
    },
    {
      "cell_type": "markdown",
      "metadata": {
        "id": "4v2hCx3whI7z"
      },
      "source": [
        "#### Answer"
      ]
    },
    {
      "cell_type": "code",
      "metadata": {
        "id": "ncjyHxyrhbiq"
      },
      "source": [
        "# Actually, there are only 9000 4-digit numbers,\n",
        "# so how hard can it be to look at all of them?\n",
        "\n",
        "# But even better, since we want the smallest *bppp*,\n",
        "# we can stop as soon as we find it!\n",
        "\n",
        "from math import gcd\n",
        "from sympy import isprime\n",
        "\n",
        "def passes_FLT_test_even_though_not_prime(b, n):\n",
        "  # primes don't count as pseudoprimes\n",
        "  return not isprime(n) and (b ** n) % n == b\n",
        "\n",
        "def is_bppp(n):\n",
        "  bases_coprime_to_n = [b for b in range(2, n) if gcd(b, n) == 1]\n",
        "  return all(list(map(lambda b: passes_FLT_test_even_though_not_prime(b, n), \n",
        "                      bases_coprime_to_n)))\n",
        "\n",
        "n = 1000\n",
        "while not is_bppp(n):\n",
        "  n += 1\n",
        "\n",
        "n"
      ],
      "execution_count": null,
      "outputs": []
    },
    {
      "cell_type": "code",
      "metadata": {
        "id": "-dip2YNSgvJY"
      },
      "source": [
        "# If we want to see all of them then we must be prepared to wait!\n",
        "all_4_digit_bppp = [n for n in range(1000, 10000) if is_bppp(n)]\n",
        "\n",
        "all_4_digit_bppp"
      ],
      "execution_count": null,
      "outputs": []
    },
    {
      "cell_type": "markdown",
      "metadata": {
        "id": "2ubzoSWIdzHS"
      },
      "source": [
        "Remember, your proof must use all of the following, succinctly and correctly:\n",
        "\n",
        "1. the definition of coprime,\n",
        "2. a consequence of coprimality,\n",
        "3. the factorization of the **bppp**,\n",
        "4. FLT, and\n",
        "5. CRT (Chinese Remainder Theorem).\n"
      ]
    },
    {
      "cell_type": "markdown",
      "metadata": {
        "id": "CaaO7hjohFDF"
      },
      "source": [
        "##### Start Small"
      ]
    },
    {
      "cell_type": "markdown",
      "metadata": {
        "id": "PxfyPL0otqOS"
      },
      "source": [
        "But not too small! :-)\n",
        "\n",
        "A 3-digit alleged **bppp**, 561, is composite because 561 = 3 x 11 x 17.\n",
        "\n",
        "If gcd($b$, 561) = 1, then gcd($b$, 3) = gcd($b$, 11) = gcd($b$, 17) = 1.\n",
        "\n",
        "This is saying that if a number, $b$, is coprime to 561 it is automatically coprime to its prime factors, 3, 11 and 17.\n",
        "\n",
        "(Do you agree?)\n",
        "\n",
        "By FLT, these three facts follow:\n",
        "\n",
        "1. $b^{2} \\equiv_3 1$\n",
        "2. $b^{10} \\equiv_{11} 1$\n",
        "3. $b^{16} \\equiv_{17} 1$\n",
        "\n",
        "Because 560 is 1 less than 561, and is also a multiple of 2, 10, and 16 --- which are 1 less than 3, 11, and 17 --- it follows that:\n",
        "\n",
        "$(b^2)^{280} = b^{560} \\equiv_{3} 1$\n",
        "\n",
        "$(b^{10})^{56} = b^{560} \\equiv_{11} 1$\n",
        "\n",
        "$(b^{16})^{35} = b^{560} \\equiv_{17} 1$\n",
        "\n",
        "Therefore, $b^{560} \\equiv_{561} 1$.\n",
        "\n",
        "This follows from a consequence of the Chinese Remainder Theorem.\n",
        "\n",
        "(Do you see how? In your proof, be convincing that you understand this argument!)\n",
        "\n",
        "If you need further insights, try it on 1729 (Ramanujan's number), which is also a 4-digit **bppp** (just not the smallest 4-digit **bppp**).\n",
        "\n",
        "The one to do your proof for is *the* **bppp** less than 1729 but greater than 561 --- the single **bppp** that lies between them."
      ]
    },
    {
      "cell_type": "code",
      "metadata": {
        "id": "MwtLRaR1OjZb"
      },
      "source": [
        "from pprint import pprint\n",
        "import functools, math, operator, sys\n",
        "\n",
        "if sys.version_info >= (3, 8):\n",
        "  product = math.prod\n",
        "\n",
        "  def lcm(*numbers):\n",
        "    return math.prod(numbers) // math.gcd(*numbers)\n",
        "else:\n",
        "  product = functools.partial(functools.reduce, operator.mul)\n",
        "  greatest_common_divisor = functools.partial(functools.reduce, math.gcd)\n",
        "  def lcm(*numbers):\n",
        "    return product(numbers) // greatest_common_divisor(numbers)\n",
        "\n",
        "def format_one_line(n, *moduli):\n",
        "  residues = list(map(lambda m: n % m, moduli))\n",
        "  return f'{n} <--> ({residues})'\n",
        "\n",
        "def represBG(*moduli):\n",
        "  \"\"\"Repeating residues with\n",
        "     bijectivity guaranteed\n",
        "     made by modding\n",
        "     range(lcm(*moduli))\n",
        "     by each of an arbitrary\n",
        "     number of moduli, one\n",
        "     tuple of residues per row.\n",
        "  \"\"\"\n",
        "  return list(map(lambda n:format_one_line(n, *moduli),\n",
        "                  range(lcm(*moduli))))\n",
        "\n",
        "pprint(represBG(3, 5))"
      ],
      "execution_count": null,
      "outputs": []
    },
    {
      "cell_type": "markdown",
      "metadata": {
        "id": "MfB6VMKriNY9"
      },
      "source": [
        "##### By The Way"
      ]
    },
    {
      "cell_type": "markdown",
      "metadata": {
        "id": "3LBWRYaLifyd"
      },
      "source": [
        "\n",
        "In case you didn't already know, \"Carmichael number\" is the real name for **bppp**!\n",
        "\n",
        "Above and beyond: Find the connection between Carmichael numbers and the probabilistic primality testing algorithm."
      ]
    },
    {
      "cell_type": "markdown",
      "metadata": {
        "id": "Uc5r3wpOGyyx"
      },
      "source": [
        "### How Did I Do It?"
      ]
    },
    {
      "cell_type": "markdown",
      "metadata": {
        "id": "soZG4KZPG2_N"
      },
      "source": [
        "How was I able to verify the number-of-twos-in-two-n-choose-n-equals-the-number-of-ones-in-n conjecture up to 3190430 in 24 hours?"
      ]
    },
    {
      "cell_type": "markdown",
      "metadata": {
        "id": "nuPQ4GKLHABG"
      },
      "source": [
        "#### Answer"
      ]
    },
    {
      "cell_type": "markdown",
      "metadata": {
        "id": "Dt4SrjVWHCt4"
      },
      "source": [
        "I used my knowledge of the structure of the problem and the algorithm for computing ${2n \\choose n}$, otherwise known as the Central Binomial Coefficients.\n",
        "\n",
        "Computing the Binomial Coefficients ${𝑛 \\choose 𝑘}$ can be done many different ways. The worst (least efficient) way is using the recursive definition, but even a \"dynamic programming\" algorithm (which you will learn about when you take CSE 381) will have Θ(𝑛𝑘) time complexity, even though it involves no multiplication, only addition operations. Multiplication and division (plus one subtraction) are needed by the algorithm based on the factorials-based definition:\n"
      ]
    },
    {
      "cell_type": "markdown",
      "metadata": {
        "id": "1RwOGU0jK0uS"
      },
      "source": [
        "$${n \\choose k} = \\frac{n!}{(n-k)!k!}.$$"
      ]
    },
    {
      "cell_type": "markdown",
      "metadata": {
        "id": "XecYzdLYLmss"
      },
      "source": [
        "The straightforward but naive way to implement this formula requires $(n-2) + (n-k-2) + (k-2) + 1 = 2n - 5$ multiplications and one division. That's assuming $0 < k < n$. The following code shows this:"
      ]
    },
    {
      "cell_type": "code",
      "metadata": {
        "id": "Hw-llxRfsyMf"
      },
      "source": [
        "numMults = 0 # count the number of multiplications"
      ],
      "execution_count": null,
      "outputs": []
    },
    {
      "cell_type": "code",
      "metadata": {
        "id": "IR81I4H8QfsX"
      },
      "source": [
        "def nCk_fact_naive(n, k):\n",
        "  global numMults\n",
        "  numer = 1\n",
        "  for i in range(n, 1, -1):\n",
        "    numer *= i\n",
        "    numMults += 1\n",
        "  numMults -= 1 # adjust for multiplication by 1, which is unnecessary\n",
        "  denom1 = 1\n",
        "  for i in range(n-k, 1, -1):\n",
        "    denom1 *= i\n",
        "    numMults += 1\n",
        "  numMults -= 1 # ditto\n",
        "  denom2 = 1\n",
        "  for i in range(k, 1, -1):\n",
        "    denom2 *= i\n",
        "    numMults += 1\n",
        "  denom = denom1 * denom2\n",
        "  # normally we would do 'numMults += 1', but ditto\n",
        "  return numer // denom"
      ],
      "execution_count": null,
      "outputs": []
    },
    {
      "cell_type": "code",
      "metadata": {
        "id": "cNkJHOqXZIs7"
      },
      "source": [
        "nCk_fact_naive(12, 0)"
      ],
      "execution_count": null,
      "outputs": []
    },
    {
      "cell_type": "code",
      "metadata": {
        "id": "k70VqLfRZi9g"
      },
      "source": [
        "numMults"
      ],
      "execution_count": null,
      "outputs": []
    },
    {
      "cell_type": "code",
      "metadata": {
        "id": "B8dSVVR3yGkX"
      },
      "source": [
        "def nCk_better(n, k):\n",
        "  falling = 1\n",
        "  rising = 1\n",
        "  next_falling = n\n",
        "  for r in range(1, k+1):\n",
        "    rising *= r\n",
        "    falling *= next_falling\n",
        "    next_falling -= 1\n",
        "  return falling // rising"
      ],
      "execution_count": null,
      "outputs": []
    },
    {
      "cell_type": "code",
      "metadata": {
        "id": "cWKLiuhzy7LD"
      },
      "source": [
        "import functools, operator\n",
        "\n",
        "product = functools.partial(functools.reduce, operator.mul)\n",
        "\n",
        "def nCk1(n, k):\n",
        "  if k > n - k:\n",
        "     k = n - k\n",
        "  if k == 0 or k == n:\n",
        "    return 1\n",
        "  top = list(range(n, n - k, -1))\n",
        "  bot = list(range(1, k + 1))\n",
        "  return top, bot\n",
        "\n",
        "def nCk2(n, k):\n",
        "  if k > n - k:\n",
        "     k = n - k\n",
        "  if k == 0 or k == n:\n",
        "    return 1\n",
        "  top = product(list(range(n, n - k, -1)))\n",
        "  bot = product(list(range(1, k + 1)))\n",
        "  return top // bot"
      ],
      "execution_count": null,
      "outputs": []
    },
    {
      "cell_type": "code",
      "metadata": {
        "id": "tpmBRais4vj0"
      },
      "source": [
        "for n in range(1, 10):\n",
        "  print(nCk1(2 * n, n))"
      ],
      "execution_count": null,
      "outputs": []
    },
    {
      "cell_type": "code",
      "metadata": {
        "id": "Pkimhy_v4SNa"
      },
      "source": [
        "def nth_row_Pascals_triangle(n):\n",
        "  return list(map(lambda k: nCk2(n, k), range(n + 1)))"
      ],
      "execution_count": null,
      "outputs": []
    },
    {
      "cell_type": "code",
      "metadata": {
        "id": "JIzTbmZNzuBb"
      },
      "source": [
        "for n in range(0, 15):\n",
        "  print(nth_row_Pascals_triangle(n))"
      ],
      "execution_count": null,
      "outputs": []
    },
    {
      "cell_type": "markdown",
      "metadata": {
        "id": "WsGsmXT6LLwV"
      },
      "source": [
        "The supplied code looks complicated, but it's really just optimizing these calculations, by eliminating redundant multiplications (at the cost of doing some gcd calculations --- which are just to make the divisors smaller and thus make the necessary division operations faster)."
      ]
    },
    {
      "cell_type": "code",
      "metadata": {
        "id": "UZIKdguQLZVY"
      },
      "source": [
        "from math import gcd\n",
        "\n",
        "def nCk(n, k):\n",
        "  if k < 0 or k > n:\n",
        "    return 0\n",
        "  else:\n",
        "    result = 1\n",
        "    d = 1\n",
        "    g = 1\n",
        "    m = min(k, n - k)\n",
        "    while (d <= m):\n",
        "      g = gcd(result, d)\n",
        "      result = n * (result // g)\n",
        "      result = (result // (d // g))\n",
        "      n -= 1\n",
        "      d += 1\n",
        "    return result\n"
      ],
      "execution_count": null,
      "outputs": []
    },
    {
      "cell_type": "markdown",
      "metadata": {
        "id": "CBE8095C7dlM"
      },
      "source": [
        "Tabulate the first few CBCs (Central Binomial Coefficients):"
      ]
    },
    {
      "cell_type": "markdown",
      "metadata": {
        "id": "WV70qy6OHjOa"
      },
      "source": [
        "| n | ${2n \\choose n}$ | result |\n",
        "|---|------------------|-----|\n",
        "| 1 | ${2 \\choose 1}$  |   2 |\n",
        "| 2 | ${4 \\choose 2}$  |   6 |\n",
        "| 3 | ${6 \\choose 3}$  |  20 |\n",
        "| 4 | ${8 \\choose 4}$  |  70 |\n",
        "| 5 | ${10 \\choose 5}$ | 252 |\n",
        "| 6 | ${12 \\choose 6}$ | 924 |"
      ]
    },
    {
      "cell_type": "markdown",
      "metadata": {
        "id": "4JSt6OX_7moZ"
      },
      "source": [
        "The CBCs run down the middle of Pascal's triangle, and, of course, they are the largest numbers in each row. But it's not necessary to calculate them \"from scratch\" every time! That is the key insight, explained as follows:"
      ]
    },
    {
      "cell_type": "markdown",
      "metadata": {
        "id": "T9qxGJ5c8Aie"
      },
      "source": [
        "##### The Progression"
      ]
    },
    {
      "cell_type": "markdown",
      "metadata": {
        "id": "hqPRbDm-8Djd"
      },
      "source": [
        "To go from the result of the ```ccbc``` to the ```ncbc``` (\"current\" CBC to \"next\" CBC), look at the formula:\n",
        "\n",
        "${2n \\choose n} \\rightarrow {2(n+1) \\choose n + 1} = {2n + 2 \\choose n + 1}$.\n",
        "\n",
        "So, given that we have ```ccbc``` $= \\frac{(2n)!}{n!n!}$, how do we compute ```ncbc``` $= \\frac{(2n + 2)!}{(n+1)!(n+1)!}$?\n",
        "\n",
        "```ncbc``` $=$ ```ccbc``` $ \\times \\frac{(2n+1)(2n+2)}{(n+1)(n+1)} = $ ```ccbc``` $\\times \\frac{(2n+1)2(n+1)}{(n+1)(n+1)} = $ ```ccbc``` $\\times \\frac{2(2n+1)}{(n+1)}$ after canceling the $(n+1)$ in the numerator and denominator."
      ]
    },
    {
      "cell_type": "markdown",
      "metadata": {
        "id": "intAECwZDMME"
      },
      "source": [
        "##### Retabulate"
      ]
    },
    {
      "cell_type": "markdown",
      "metadata": {
        "id": "Zn5vTVK2HsfU"
      },
      "source": [
        "With the above in mind, we recreate the above table, adding a fourth column for the ```ncbc``` value as calculated from the previous row's ```ccbc``` value:\n",
        "\n",
        "| n | ${2n \\choose n}$ | ccbc | ncbc |\n",
        "|---|------------------|-----|-------|\n",
        "| 1 | ${2 \\choose 1}$  |   2 | = ccbc(2)(nextodd)/n   |\n",
        "| 2 | ${4 \\choose 2}$  |   6 | = 2(2)(3)/2            |\n",
        "| 3 | ${6 \\choose 3}$  |  20 | = 6(2)(5)/3            |\n",
        "| 4 | ${8 \\choose 4}$  |  70 | = 20(2)(7)/4           |\n",
        "| 5 | ${10 \\choose 5}$ | 252 | = 70(2)(9)/5           |\n",
        "| 6 | ${12 \\choose 6}$ | 924 | = 252(2)(11)/6         |"
      ]
    },
    {
      "cell_type": "markdown",
      "metadata": {
        "id": "1kP_cI1qHuDs"
      },
      "source": [
        "This suggests an efficient implementation, where ```ccbc``` and ```ncbc``` are simply \"collapsed\" into one variable, ```tncn``` (two-n-choose-n), and running counters are incremented for the next odd and the next n values in the main loop:"
      ]
    },
    {
      "cell_type": "markdown",
      "metadata": {
        "id": "I01fkrAIH0WZ"
      },
      "source": [
        "###### The Code"
      ]
    },
    {
      "cell_type": "code",
      "metadata": {
        "id": "XWVOUUGpH2P3"
      },
      "source": [
        "def degree2(n):\n",
        "    '''The number (degree, exponent) of 2's in the prime factorization of n,\n",
        "       efficiently calculated.\n",
        "    '''\n",
        "    degree = 0\n",
        "    while (n % 2 == 0):\n",
        "        n //= 2\n",
        "        degree += 1\n",
        "    return degree\n",
        "\n",
        "tncn = 2\n",
        "n = 1\n",
        "no = 3\n",
        "try:\n",
        "  while degree2(tncn) == bin(n).count('1'):\n",
        "    n += 1\n",
        "    tncn = tncn * 2 * no // n\n",
        "    no += 2\n",
        "except:\n",
        "    print(f'\\nn = {n}')"
      ],
      "execution_count": null,
      "outputs": []
    }
  ]
}