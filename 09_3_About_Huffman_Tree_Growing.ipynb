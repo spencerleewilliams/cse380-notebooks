{
  "nbformat": 4,
  "nbformat_minor": 0,
  "metadata": {
    "colab": {
      "name": "09_3_About_Huffman_Tree_Growing.ipynb",
      "provenance": [],
      "authorship_tag": "ABX9TyN52YHKfopcKZXzgGtSyE9P",
      "include_colab_link": true
    },
    "kernelspec": {
      "name": "python3",
      "display_name": "Python 3"
    }
  },
  "cells": [
    {
      "cell_type": "markdown",
      "metadata": {
        "id": "view-in-github",
        "colab_type": "text"
      },
      "source": [
        "<a href=\"https://colab.research.google.com/github/byui-cse/cse380-notebooks/blob/master/09_3_About_Huffman_Tree_Growing.ipynb\" target=\"_parent\"><img src=\"https://colab.research.google.com/assets/colab-badge.svg\" alt=\"Open In Colab\"/></a>"
      ]
    },
    {
      "cell_type": "markdown",
      "metadata": {
        "id": "BjNb99LGmm11"
      },
      "source": [
        "# About Huffman Tree Growing\n",
        "## Class Directed Learning\n",
        "### Due: Tuesday, 2 March 2021, 11:59 pm"
      ]
    },
    {
      "cell_type": "markdown",
      "metadata": {
        "id": "VED3Iwgbo4jJ"
      },
      "source": [
        "## Answer to DPC"
      ]
    },
    {
      "cell_type": "markdown",
      "metadata": {
        "id": "M4k33027o7Fl"
      },
      "source": [
        "This dictionary maps n:cr for the first n odd primes gap lists' cr (compression ratios):\n"
      ]
    },
    {
      "cell_type": "code",
      "metadata": {
        "id": "gagrJ3vrpCa6"
      },
      "source": [
        "ncr = {2: 0, 3: 0, 4: 0, 5: 0, 6: 0, 7: 25, 8: 28, 9: 25, 10: 23, 11: 25, 12: 23, 13: 21, 14: 20, 15: 22, 16: 21, 17: 19, 18: 21, 19: 20, 20: 19, 21: 18, 22: 0, 23: 0, 24: 2, 25: 2, 26: 4, 27: 4, 28: 32, 29: 33, 30: 32, 31: 32}\n",
        "for n in ncr.keys():\n",
        "  print(f\"For the first {n} odd primes' gap list, the compression ratio is {ncr[n]}%.\")"
      ],
      "execution_count": null,
      "outputs": []
    },
    {
      "cell_type": "markdown",
      "metadata": {
        "id": "A06Y_UzotDok"
      },
      "source": [
        "### Calculated how??"
      ]
    },
    {
      "cell_type": "code",
      "metadata": {
        "id": "4T4a5Pq1tF_S"
      },
      "source": [
        "!pip install anytree\n",
        "from anytree import Node, RenderTree, PreOrderIter, Walker\n",
        "from anytree.util import leftsibling, rightsibling\n",
        "from anytree.exporter.dotexporter import DotExporter\n",
        "from collections import Counter\n",
        "from queue import PriorityQueue\n",
        "from math import ceil, floor, log\n",
        "from sympy import primerange\n",
        "\n",
        "def realprimes_up_to(n):\n",
        "  return list(primerange(4, n))\n",
        "\n",
        "def get_list_of_gaps(pl):\n",
        "  gaps_list = list(map(lambda i: pl[i] - pl[i - 1], range(1, len(pl))))\n",
        "  gaps_list = [2] + gaps_list # [2] for the gap between 3 and 5\n",
        "  return gaps_list\n",
        "\n",
        "class GapNode(Node):\n",
        "  def __lt__(self, other):\n",
        "    return self.count < other.count\n",
        "\n",
        "node_counter = 0\n",
        "def next_node_name():\n",
        "  global node_counter\n",
        "  name = 'gn' + str(node_counter)\n",
        "  node_counter += 1\n",
        "  return name\n",
        "\n",
        "def new_node(gp, ct):\n",
        "  return GapNode(next_node_name(), gap = gp, count = ct)\n",
        "\n",
        "def new_internal_node(left, right):\n",
        "  return GapNode(next_node_name(), children = [left, right],\n",
        "                 gap = 0, count = left.count + right.count)\n",
        "\n",
        "def make_huffman_tree(gaps_list):\n",
        "  gap_dict = Counter(gaps_list)\n",
        "  q = PriorityQueue()\n",
        "  for key, val in gap_dict.items():\n",
        "    q.put(new_node(key, val))\n",
        "\n",
        "  while q.qsize() > 1:\n",
        "    left = q.get()\n",
        "    right = q.get()\n",
        "    q.put(new_internal_node(left, right))\n",
        "\n",
        "  return q.get()\n",
        "\n",
        "def get_codes(root):\n",
        "  leaves = [node for node in PreOrderIter(root, filter_=lambda n: not n.children)]\n",
        "  codes = {}\n",
        "  w = Walker()\n",
        "  for leaf in leaves:\n",
        "    path = w.walk(leaf, root)[0]\n",
        "    code = ''\n",
        "    for node in path:\n",
        "      code = ('1' if leftsibling(node) else '0') + code\n",
        "    codes[leaf.gap] = tuple([code, leaf.count])\n",
        "  return codes\n",
        "\n",
        "def compression_ratio(f, v):\n",
        "  return 100 * (f - v) / f\n",
        "\n",
        "def get_encoded_size(codes):\n",
        "  return sum([len(code) * count for gap, (code, count) in codes.items()])\n",
        "\n",
        "def get_fixed_size(codes):\n",
        "  num_keys = len(codes)\n",
        "  num_bits_per_key = ceil(log(num_keys, 2))\n",
        "  return sum([num_bits_per_key * count for gap, (code, count) in codes.items()])\n",
        "\n",
        "def report(codes):\n",
        "  return compression_ratio(get_fixed_size(codes), get_encoded_size(codes))\n",
        "\n",
        "def test_up_to(primes, upper, results):\n",
        "  list_of_gaps = get_list_of_gaps(primes[:upper])\n",
        "  print(primes[:upper])\n",
        "  print(list_of_gaps)\n",
        "  root = make_huffman_tree(list_of_gaps)\n",
        "  print(RenderTree(root))\n",
        "  DotExporter(root).to_picture(f'gap-tree-{upper:02d}.png')\n",
        "  codes = get_codes(root)\n",
        "  print(upper, '-->', get_encoded_size(codes))\n",
        "  cr = round(report(codes))\n",
        "  results[upper - 1] = cr # adjust since upper is the number of primes, -1 to make it just odd primes\n",
        "\n",
        "primes = realprimes_up_to(10001)\n",
        "results = {}\n",
        "for n in range(3, 33):\n",
        "    test_up_to(primes, n, results)\n",
        "\n",
        "results"
      ],
      "execution_count": null,
      "outputs": []
    },
    {
      "cell_type": "markdown",
      "metadata": {
        "id": "6qppc1W8m07l"
      },
      "source": [
        "## Explore and Wonder"
      ]
    },
    {
      "cell_type": "markdown",
      "metadata": {
        "id": "kHEYJMd9nKQc"
      },
      "source": [
        "The Huffman Tree Algorithm is one of my favorite algorithms!"
      ]
    },
    {
      "cell_type": "markdown",
      "metadata": {
        "id": "fvsdyKX7nNG4"
      },
      "source": [
        "### Reason #1"
      ]
    },
    {
      "cell_type": "markdown",
      "metadata": {
        "id": "WzEV8GvBnbzd"
      },
      "source": [
        "It is easy to understand and implement --- a classic greedy algorithm."
      ]
    },
    {
      "cell_type": "markdown",
      "metadata": {
        "id": "cJO4n-JRnWnm"
      },
      "source": [
        "### Reason #2"
      ]
    },
    {
      "cell_type": "markdown",
      "metadata": {
        "id": "p7gj8RzPnhuQ"
      },
      "source": [
        "It is provably optimal among methods encoding symbols separately."
      ]
    },
    {
      "cell_type": "markdown",
      "metadata": {
        "id": "BxD5XjgInZWH"
      },
      "source": [
        "### Reason #3"
      ]
    },
    {
      "cell_type": "markdown",
      "metadata": {
        "id": "EKTZwf90nlTH"
      },
      "source": [
        "I think David Huffman was inspired!"
      ]
    },
    {
      "cell_type": "markdown",
      "metadata": {
        "id": "poJ7bLJanpOJ"
      },
      "source": [
        "#### History"
      ]
    },
    {
      "cell_type": "markdown",
      "metadata": {
        "id": "S93G-zHKnqnl"
      },
      "source": [
        "From the History section of Wikipedia's page on Huffman coding:\n",
        "\n",
        "> In 1951, David A. Huffman and his MIT information theory classmates were given the choice of a term paper or a final exam. The professor, Robert M. Fano, assigned a term paper on the problem of finding the most efficient binary code. Huffman, unable to prove any codes were the most efficient, was about to give up and start studying for the final when he hit upon the idea of using a frequency-sorted binary tree and quickly proved this method the most efficient.\n",
        "\n",
        "> In doing so, Huffman outdid Fano, who had worked with information theory inventor Claude Shannon to develop a similar code. Building the tree from the bottom up guaranteed optimality, unlike top-down Shannon-Fano coding.\n",
        "\n",
        "\n",
        "\n"
      ]
    },
    {
      "cell_type": "markdown",
      "metadata": {
        "id": "RGJlfNDGoHj-"
      },
      "source": [
        "## TODO Read and Draw"
      ]
    },
    {
      "cell_type": "markdown",
      "metadata": {
        "id": "uy8UQIoioPMb"
      },
      "source": [
        "Read [A Method for the Construction of Minimum-Redundancy Codes](http://compression.ru/download/articles/huff/huffman_1952_minimum-redundancy-codes.pdf) (David Huffman's original paper) and by drawing pictures, make the connection between trees and rivers vivid in your mind!"
      ]
    }
  ]
}