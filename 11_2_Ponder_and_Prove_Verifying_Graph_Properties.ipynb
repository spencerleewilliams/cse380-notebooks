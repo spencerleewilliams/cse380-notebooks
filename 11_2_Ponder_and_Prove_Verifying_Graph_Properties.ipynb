{
  "nbformat": 4,
  "nbformat_minor": 0,
  "metadata": {
    "colab": {
      "name": "11_2_Ponder_and_Prove_Verifying_Graph_Properties.ipynb",
      "provenance": [],
      "authorship_tag": "ABX9TyOQZGRpkJnFKMDXgs0R0WYN",
      "include_colab_link": true
    },
    "kernelspec": {
      "name": "python3",
      "display_name": "Python 3"
    }
  },
  "cells": [
    {
      "cell_type": "markdown",
      "metadata": {
        "id": "view-in-github",
        "colab_type": "text"
      },
      "source": [
        "<a href=\"https://colab.research.google.com/github/byui-cse/cse380-notebooks/blob/master/11_2_Ponder_and_Prove_Verifying_Graph_Properties.ipynb\" target=\"_parent\"><img src=\"https://colab.research.google.com/assets/colab-badge.svg\" alt=\"Open In Colab\"/></a>"
      ]
    },
    {
      "cell_type": "markdown",
      "metadata": {
        "id": "VeWHqnJIVg5T"
      },
      "source": [
        "# Ponder and Prove Verifying Graph Properties\n",
        "## Due: Saturday, 20 March 2021, 11:59 pm"
      ]
    },
    {
      "cell_type": "markdown",
      "metadata": {
        "id": "_E77JvrzViCZ"
      },
      "source": [
        "## Introduction"
      ]
    },
    {
      "cell_type": "markdown",
      "metadata": {
        "id": "CSWn0ZQRVhte"
      },
      "source": [
        "The goal of this assignment is to investigate verifying certain properties of graphs. This is an opportunity to apply your knowledge of complete graphs, graph representations, and subgraphs.\n",
        "\n",
        "Another name for a complete graph is a word that in high school is often mispronounced as **click**. Making it rhyme with the second syllable of the words **antique** or **technique** is the correct way to pronounce **clique**.\n",
        "\n",
        "Think about how to **verify** this graph property, **and its opposite**.\n",
        "\n",
        "To give an operational definition, a clique is a subgraph of a given graph in which every two nodes are connected by a link. An **anti**-clique is a subgraph in which every two nodes are **not** connected by a link. (Note that this is the same as saying that **no** two nodes in this subgraph are connected. Or in other words, they form an **independent set** of nodes --- nodes that are all independent of each other.) Searching through a specified graph, a verifier would check the alleged \"clique-ness\" or \"anti-clique-ness\" of a given list of nodes.\n",
        "\n",
        "Use the code below as a starting point. Decide how to represent a graph. Use the ```link_exists``` predicate as is, or change it to suit. If you decide as is is good enough, you will still need to implement the ```get_adjacency_list``` function. Test several graphs and various-sized candidate node lists (see below) using a suitably implemented ```check_clique_or_anti_clique``` function."
      ]
    },
    {
      "cell_type": "code",
      "metadata": {
        "id": "oS9bcmG1WbAZ"
      },
      "source": [
        "def link_exists(graph, node1, node2):\n",
        "  \"\"\"Given a graph, is there a link between\n",
        "     node1 and node2?\n",
        "  \"\"\"\n",
        "  return (node1 in get_adjacency_list(graph, node2)) or\n",
        "         (node2 in get_adjacency_list(graph, node1))\n",
        "\n",
        "def check_clique_or_anti_clique(graph, nodes, anti):\n",
        "  \"\"\"Checks if the graph contains a subgraph consisting of\n",
        "     the given nodes that is a clique (if anti is False)\n",
        "     or an anti-clique (if anti is True). Returns True or\n",
        "     False appropriately.\n",
        "  \"\"\"\n",
        "  # YOUR CODE GOES HERE\n",
        "  raise NotImplementedError # replace this line"
      ],
      "execution_count": null,
      "outputs": []
    },
    {
      "cell_type": "markdown",
      "metadata": {
        "id": "Py3uqa03Yhmb"
      },
      "source": [
        "## Caution"
      ]
    },
    {
      "cell_type": "markdown",
      "metadata": {
        "id": "cypfjKdLYkLc"
      },
      "source": [
        "Be aware that a possible misconception is that finding the maximal clique in an undirected graph using something like the Bron-Kerbosch algorithm is a clever strategy for this assignment. Not so! Please do not reach this conclusion, which stems from a fundamental misunderstanding of what this assignment is all about."
      ]
    },
    {
      "cell_type": "markdown",
      "metadata": {
        "id": "weZ6yZ-yYp4g"
      },
      "source": [
        "## TODO Test Graphs with Candidate Node Lists"
      ]
    },
    {
      "cell_type": "markdown",
      "metadata": {
        "id": "cTYmS1-pYsm5"
      },
      "source": [
        "There are six test graphs containing from 27 up to just over one million (1,000,000) links. Each line of the input file represents one link, consisting of two nonnegative integers that represent the nodes of the link. All graphs are connected, and the numbers are contiguous from 0 to $n$, where $n$ is some number less than or equal to 60,000. Contiguous means, for example, the nodes 1, 2, 3, 4, 5 and 10, (or any list with gaps) will not occur. However, the nodes may not appear in sorted order in the file, so don't assume they will.\n",
        "\n",
        "Execute the following code block to get the test graph files:"
      ]
    },
    {
      "cell_type": "code",
      "metadata": {
        "id": "LWLQRUqFay3W"
      },
      "source": [
        "!curl -O https://rickneff.github.io/testgraphfiles.zip"
      ],
      "execution_count": null,
      "outputs": []
    },
    {
      "cell_type": "markdown",
      "metadata": {
        "id": "hmjCHijZe73B"
      },
      "source": [
        "Your task is to figure out how this code should work, and supply what it lacks to make it work."
      ]
    },
    {
      "cell_type": "code",
      "metadata": {
        "id": "RxBG-osIZ_Rb"
      },
      "source": [
        "from itertools import product\n",
        "from io import BytesIO\n",
        "from zipfile import ZipFile\n",
        "\n",
        "def make_link(node1, node2):\n",
        "  \"\"\"make link a tuple with lower node number first\n",
        "  \"\"\"\n",
        "  return tuple([node1, node2]) if node1 < node2 else tuple([node2, node1])\n",
        "\n",
        "# This is the slow way (takes almost a minute to verify 24 tests)\n",
        "# by having a graph represented by a list of its links.\n",
        "# See if you can do better!\n",
        "def read_graph(zip_file, N):\n",
        "  contents = BytesIO(zip_file.read('testgraphfiles/graph' + str(N) + '.in'))\n",
        "  graph = []\n",
        "  for line in contents:\n",
        "    node1, node2 = map(int, line.split())\n",
        "    link = make_link(node1, node2)\n",
        "    graph.append(link)\n",
        "  return graph\n",
        "\n",
        "# See above for one way to implement this, but certainly\n",
        "# not the only way, nor even the best way, perhaps.\n",
        "def link_exists(graph, node1, node2):\n",
        "  \"\"\"Does a link exist between node1 and node2 in graph?\n",
        "  \"\"\"\n",
        "  # YOUR CODE GOES HERE\n",
        "  raise NotImplementedError # replace this line\n",
        "\n",
        "# Make use of link_exists, of course, but also the product\n",
        "# function imported from itertools.\n",
        "def check_clique_or_anti_clique(graph, nodes, anti):\n",
        "  \"\"\"Checks if the graph contains a subgraph consisting of\n",
        "     the given nodes that is a clique (if anti is False)\n",
        "     or an anti-clique (if anti is True). Returns True or\n",
        "     False appropriately.\n",
        "  \"\"\"\n",
        "  # YOUR CODE GOES HERE\n",
        "  raise NotImplementedError # replace this line\n",
        "\n",
        "graph_test_dict = {\n",
        "    1: [\n",
        "        [2, 3, 4, 10, 11], True, False,\n",
        "        [2, 4, 5, 10, 11], False, False,\n",
        "        [1, 3, 5, 8], False, True,\n",
        "        [4, 5, 8, 11], False, False\n",
        "    ],\n",
        "    2: [\n",
        "        [251, 417, 517], True, False,\n",
        "        [414, 587, 588], True, False,\n",
        "        [8, 10, 14, 17, 20, 49, 51, 66, 74, 80, 84, 109, 124, 127, 129, 132, 139, 141, 143, 150, 154, 161, 168, 177, 192, 196, 200, 203, 207, 215, 218, 239, 259, 261, 272, 278, 285, 292, 298, 302, 309, 312, 315, 320, 338, 343, 356, 368, 372, 380, 391, 395, 397, 402, 407, 415, 418, 427, 429, 434, 441, 448, 458, 461, 465, 470, 475, 480, 482, 494, 498, 512, 516, 549, 560, 570, 582], False, True,\n",
        "        [17, 290, 129, 212, 354, 497, 192, 381, 389, 112, 386, 341], False, False\n",
        "    ],\n",
        "    3: [\n",
        "\t    [212, 320, 357, 463, 690], True, False,\n",
        "\t    [266, 606, 990, 243, 11], True, False,\n",
        "\t    [534, 787, 579, 430, 849, 399, 561, 798, 72, 623, 422, 197, 8, 336, 1001, 401, 173, 862, 716, 117, 17, 175, 123, 317, 521, 246], False, True,\n",
        "\t    [12, 235, 198, 199, 264, 345, 444, 501, 672, 734, 908], False, False\n",
        "    ],\n",
        "    4: [\n",
        "\t    [664, 1026, 1171], True, False,\n",
        "\t    [838, 1184, 1055, 1480], True, False,\n",
        "\t    [2, 4, 7, 9, 12, 15, 17, 20, 23, 29, 33, 35, 43, 48, 53, 57], False, False,\n",
        "\t    [237, 820, 1665, 301, 453, 952, 1864, 710, 266, 1177, 1798, 392, 339, 1492, 1652, 483, 798, 745, 975, 1638, 1035, 1483, 1065, 1336, 1601, 1567, 1839, 2001, 802, 1456, 434, 504, 1754, 1524, 1889, 1624, 104, 1449, 1322, 1343, 88, 1118, 341, 762, 1311, 599, 993, 280, 288, 792, 1361], False, True\n",
        "    ],\n",
        "    5: [\n",
        "\t    [791, 1516, 1938, 2233], True, False,\n",
        "\t    [836, 2406, 2489, 583, 584], True, False,\n",
        "\t    [911, 1014, 1665, 2297, 1363, 314, 1548, 1469, 743, 622, 1408, 1288, 2228, 545, 1313, 1962, 1509, 1329, 1978, 149, 1945, 1959, 552, 2069, 394, 856, 1, 2171, 888, 2269, 2032, 77, 2494, 646, 1214, 1381], False, True,\n",
        "\t    [15, 18, 110, 246, 314, 981], False, False\n",
        "    ],\n",
        "    6: [\n",
        "\t    [157, 1995, 2059, 2060, 2165, 2511], True, False,\n",
        "\t    [1787, 1300, 52, 2141, 1812, 1184, 695], True, False,\n",
        "\t    [666, 848, 1861, 949, 959, 1728, 1540, 1384, 1412, 2170, 2374, 260, 1519, 2417, 2342, 2738, 2492, 2233, 2041, 2799, 2628, 701, 1498, 589, 2160, 396, 1223, 1962], False, True,\n",
        "\t    [2, 7, 18, 28, 45, 90, 459, 571, 888, 905, 1312, 1450], False, False\n",
        "    ]\n",
        "}\n",
        "\n",
        "def run_tests(test_only):\n",
        "  with ZipFile('testgraphfiles.zip') as zfile:\n",
        "    for N in graph_test_dict:\n",
        "      graph = read_graph(zfile, N)\n",
        "      if not test_only:\n",
        "        print(f'Verifying graph {N}:\\n')\n",
        "      for n in range(4):\n",
        "        index = 3 * n\n",
        "        nodes = graph_test_dict[N][index]\n",
        "        expected_clique = graph_test_dict[N][index + 1]\n",
        "        expected_anticl = graph_test_dict[N][index + 2]\n",
        "        clique = check_clique_or_anti_clique(graph, nodes, False)\n",
        "        anticl = check_clique_or_anti_clique(graph, nodes, True)\n",
        "        if test_only:\n",
        "          assert(expected_clique == clique)\n",
        "          assert(expected_anticl == anticl)\n",
        "        else:\n",
        "          print(f'{nodes}\\n     Clique: {clique}\\nAnti-clique: {anticl}\\n')"
      ],
      "execution_count": 36,
      "outputs": []
    },
    {
      "cell_type": "code",
      "metadata": {
        "id": "UDauB0WIeNKl"
      },
      "source": [
        "run_tests(False)"
      ],
      "execution_count": null,
      "outputs": []
    },
    {
      "cell_type": "code",
      "metadata": {
        "id": "igq5RvLteTXT"
      },
      "source": [
        "%timeit run_tests(True)"
      ],
      "execution_count": null,
      "outputs": []
    },
    {
      "cell_type": "markdown",
      "metadata": {
        "id": "81dbKwHenxnT"
      },
      "source": [
        "# TODO My Report on What I Did and What I Learned"
      ]
    },
    {
      "cell_type": "markdown",
      "metadata": {
        "id": "C8BeiIern33B"
      },
      "source": [
        "## Fun\n"
      ]
    },
    {
      "cell_type": "markdown",
      "metadata": {
        "id": "ElukRLoezyxd"
      },
      "source": [
        "Replace these words with your own detailing how you had fun (if you did)."
      ]
    },
    {
      "cell_type": "markdown",
      "metadata": {
        "id": "OzOkZ3son-u9"
      },
      "source": [
        "## New"
      ]
    },
    {
      "cell_type": "markdown",
      "metadata": {
        "id": "3-nYIdEUz4x5"
      },
      "source": [
        "Replace these words with your own detailing what was something new you learned (if anything)."
      ]
    },
    {
      "cell_type": "markdown",
      "metadata": {
        "id": "mJHvoj6GokaZ"
      },
      "source": [
        "## Meaningful\n"
      ]
    },
    {
      "cell_type": "markdown",
      "metadata": {
        "id": "XOxh3XFTz-6N"
      },
      "source": [
        "Replace these words with your own detailing what you achieved that was meaningful or that you can build upon."
      ]
    },
    {
      "cell_type": "markdown",
      "metadata": {
        "id": "_RBE03fhpNUG"
      },
      "source": [
        "## Other"
      ]
    },
    {
      "cell_type": "markdown",
      "metadata": {
        "id": "d-sXEeq60C3W"
      },
      "source": [
        "Replace this section and these words with your own describing other topics or sections of your report --- Connections, Collaborator Contributions, or anything else you feel impressed to add."
      ]
    },
    {
      "cell_type": "markdown",
      "metadata": {
        "id": "Nrk-8EmgW4NP"
      },
      "source": [
        "# TODO What is True?\n",
        "Click on each warranted checkbox to toggle it to True (or back to False). \n",
        "\n",
        "NOTE: *This only works in Colab. If you run it in some other Jupyter notebook client/server environment you may have to change False to True (or vice versa) manually.*\n",
        "\n",
        "This self-assessment is subject to revision by a grader."
      ]
    },
    {
      "cell_type": "code",
      "metadata": {
        "id": "qGAjzgVRXR4M"
      },
      "source": [
        "#@markdown ## What is True about what I did?\n",
        "#@markdown ### I had fun.\n",
        "cb00 = False #@param {type:'boolean'}\n",
        "#@markdown ### I learned something new.\n",
        "cb01 = False #@param {type:'boolean'}\n",
        "#@markdown ### I achieved something meaningful, or something I can build upon at a later time.\n",
        "cb02 = False #@param {type:'boolean'}\n",
        "#@markdown ## What is True about my report?\n",
        "#@markdown ### I wrote a sufficient number of well-written sentences.\n",
        "cb03 = False #@param {type:'boolean'}\n",
        "#@markdown ### My report is free of mechanical infelicities.\n",
        "cb04 = False #@param {type:'boolean'}\n",
        "#@markdown ### I used Grammarly (or something better described in my report) to check for MIs.\n",
        "cb05 = False #@param {type:'boolean'}\n",
        "#@markdown ### I reported on any connections I found between these problems and something I already know. \n",
        "cb06 = False #@param {type:'boolean'}\n",
        "#@markdown ### I reported who were and what contribution each of my collaborators made.\n",
        "cb07 = False #@param {type:'boolean'}\n",
        "#@markdown ## What is True about my code's size?\n",
        "#@markdown ### I created a body for \"link_exists\" that is no more than 2 lines (not greater than 75 characters each).\n",
        "cb08 = False #@param {type:'boolean'}\n",
        "#@markdown ### I created a body for \"check_clique_or_anti_clique\" that is no more than 6 lines (not greater than 75 characters each).\n",
        "cb09 = False #@param {type:'boolean'}\n",
        "#@markdown ### I created a body for \"check_clique_or_anti_clique\" that is no more than 5 lines (not greater than 75 characters each).\n",
        "cb10 = False #@param {type:'boolean'}\n",
        "#@markdown ### I created a body for \"check_clique_or_anti_clique\" that is no more than 4 lines (not greater than 75 characters each).\n",
        "cb11 = False #@param {type:'boolean'}\n",
        "#@markdown ### I created a body for \"check_clique_or_anti_clique\" that is no more than 3 lines (not greater than 75 characters each).\n",
        "cb12 = False #@param {type:'boolean'}\n",
        "#@markdown ### I created a body for \"check_clique_or_anti_clique\" that is no more than 2 lines (not greater than 75 characters each).\n",
        "cb13 = False #@param {type:'boolean'}\n",
        "#@markdown ## What is True about my code's efficiency?\n",
        "#@markdown ### My code is efficient enough to run all 4 tests on all 6 graphs in less than 5 minutes.\n",
        "cb14 = False #@param {type:'boolean'}\n",
        "#@markdown ### My code is efficient enough to run all 4 tests on all 6 graphs in less than 2 minutes.\n",
        "cb15 = False #@param {type:'boolean'}\n",
        "#@markdown ### My code is efficient enough to run all 4 tests on all 6 graphs in less than 1 minute.\n",
        "cb16 = False #@param {type:'boolean'}\n",
        "#@markdown ### My code is efficient enough to run all 4 tests on all 6 graphs in less than 30 seconds.\n",
        "cb17 = False #@param {type:'boolean'}\n",
        "#@markdown ### My code is efficient enough to run all 4 tests on all 6 graphs in less than 15 seconds.\n",
        "cb18 = False #@param {type:'boolean'}\n",
        "#@markdown ### My code is efficient enough to run all 4 tests on all 6 graphs in less than 5 seconds.\n",
        "cb19 = False #@param {type:'boolean'}"
      ],
      "execution_count": 1,
      "outputs": []
    },
    {
      "cell_type": "markdown",
      "metadata": {
        "id": "q8KESLBANSkC"
      },
      "source": [
        "## DO NOT CHANGE ANYTHING IN THE NEXT CODE CELL!!\n",
        "### Delete this cell and the following ones before submitting your work."
      ]
    },
    {
      "cell_type": "code",
      "metadata": {
        "id": "rJ_vaL0DWwoc"
      },
      "source": [
        "points_for_what_I_did = [5]*3\n",
        "points_for_my_report = [8]*5\n",
        "points_for_my_code_size = [5]*6\n",
        "points_for_my_code_efficiency = [2]*4 + [3,4]\n",
        "points = points_for_what_I_did + points_for_my_report + points_for_my_code_size + points_for_my_code_efficiency\n",
        "# cb is short for checkbox\n",
        "total = sum(map(lambda n, p: p if eval(f'cb{n:02}') else 0,\n",
        "                range(len(points)), points))             \n",
        "total"
      ],
      "execution_count": null,
      "outputs": []
    },
    {
      "cell_type": "markdown",
      "metadata": {
        "id": "muxeYgQQKGEU"
      },
      "source": [
        "# For graders"
      ]
    }
  ]
}