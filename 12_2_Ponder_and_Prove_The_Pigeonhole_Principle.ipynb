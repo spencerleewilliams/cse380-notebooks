{
  "nbformat": 4,
  "nbformat_minor": 0,
  "metadata": {
    "colab": {
      "name": "12_2_Ponder_and_Prove_The_Pigeonhole_Principle.ipynb",
      "provenance": [],
      "include_colab_link": true
    },
    "kernelspec": {
      "name": "python3",
      "display_name": "Python 3"
    },
    "language_info": {
      "name": "python"
    }
  },
  "cells": [
    {
      "cell_type": "markdown",
      "metadata": {
        "id": "view-in-github",
        "colab_type": "text"
      },
      "source": [
        "<a href=\"https://colab.research.google.com/github/spencerleewilliams/cse380-notebooks/blob/master/12_2_Ponder_and_Prove_The_Pigeonhole_Principle.ipynb\" target=\"_parent\"><img src=\"https://colab.research.google.com/assets/colab-badge.svg\" alt=\"Open In Colab\"/></a>"
      ]
    },
    {
      "cell_type": "markdown",
      "metadata": {
        "id": "ivY_Ypmxx7Vm"
      },
      "source": [
        "# Ponder and Prove The Pigeonhole Principle\n",
        "## Due: Saturday, 27 March 2021"
      ]
    },
    {
      "cell_type": "markdown",
      "metadata": {
        "id": "zF2K38sxyH5Z"
      },
      "source": [
        "## Exploration"
      ]
    },
    {
      "cell_type": "markdown",
      "metadata": {
        "id": "uBgYLYK5yJzk"
      },
      "source": [
        "You are invited to explore some of the ramifications of the *Pigeonhole Principle*, a fascinating counting principle belonging to combinatorics.\n"
      ]
    },
    {
      "cell_type": "markdown",
      "metadata": {
        "id": "cIS4n3DpyXA1"
      },
      "source": [
        "### Requirements"
      ]
    },
    {
      "cell_type": "markdown",
      "metadata": {
        "id": "FqgealMfyZc8"
      },
      "source": [
        "Read Brother Kent Bessey's essay entitled *Pigeons and Pigeonholes*, think about and explore the topics therein, and write your response thereto.\n",
        "\n",
        "Include in your response a description of a discussion about this essay that you will have had with someone *not in the class* (nor in any of the STEM majors). This person can be a spouse, friend, roommate, or relative. The point is to find someone who is not mathematically strong, and has probably never heard of the Pigeonhole Principle, or combinatorics (or discrete mathematics) in general."
      ]
    },
    {
      "cell_type": "markdown",
      "metadata": {
        "id": "aPEEcqUGzFds"
      },
      "source": [
        "#### Copyright Note"
      ]
    },
    {
      "cell_type": "markdown",
      "metadata": {
        "id": "9EPgpQ0hzHr5"
      },
      "source": [
        "Brother Kent A. Bessey, Professor of Mathematics at BYU-Idaho, holds the copyright to this essay, which means:\n",
        "\n",
        "> All rights reserved (by him). Reproduced by permission (from him).\n",
        "Read-only. Please do not copy, print, transmit or save a copy of\n",
        "this work.\n",
        "\n",
        "He has authorized your temporary use of his work, which [you can find here](https://firstthreeodds.org/17657741833134731255/pigeons-and-pigeonholes.pdf)."
      ]
    },
    {
      "cell_type": "markdown",
      "metadata": {
        "id": "rjQfVKHU3rxb"
      },
      "source": [
        "### Thoughts on the Essay with my non-STEM volunteer:\n",
        "\n",
        "The essay brings the perspective of probability to a new light. For some, and sometimes with myself too, to say that a probability is absolute is an odd conclusion to assert out loud. To say with certainty for small and or common occurrences are easier to say and believe, but to justify that within a city like New York at least this many people share such trait is often hard to visualize. The pigeonhole principle, however, shows that through the principles of graph theory and number theory the certainty is absolute. The essay describes this trait as the certainty-not feature, using the words at least two people will share a given trait. I discussed these thoughts with my Mom, and we both agreed that the principle's feature is a valuable tool with many applications like determining commonality, identity, and the difference between unique versus non-unique traits. Likewise, we had similar thoughts to the philosophical aspect of the pigeonhole principle too.  If the certainty of existence between two triats is helpful for businesses to consider investing, then knowing who exactly are those  people would guarntee a profit on their investments. Like the essay suggests, this knowledge would certainly be very helpful, however, I believe that the solution would vary depending on the specific traits you are looking for.\n",
        "\n",
        "### Thoughts on the problem on page #40\n",
        "The problem seems very random and, by design, thought to be very unlikely. However, after reading more about the principle and its applications, I find this is the point the author is trying to make. It does not matter what the traits and if they are related or not, the principle will work regardless in determining if there are at least two people that fit those traits or not.\n"
      ]
    },
    {
      "cell_type": "markdown",
      "metadata": {
        "id": "vRKIt3NOzkwH"
      },
      "source": [
        "### TODO Concretize the Abstract by Writing Some Code"
      ]
    },
    {
      "cell_type": "markdown",
      "metadata": {
        "id": "ngXSoVu3znIJ"
      },
      "source": [
        "Specifically, write some Python code to help you figure out the problem on page 40, which Brother Bessey prefaces by saying:\n",
        "\n",
        "> I leave it to the reader to verify the calculations for a final (albeit challenging) exercise ...!\n",
        "\n",
        "Include the results of your grappling with this problem, and note the two stubbed functions below that you must flesh out in order to verify the calculations and explain the hows and whys."
      ]
    },
    {
      "cell_type": "markdown",
      "metadata": {
        "id": "EBQNhzqGzzIF"
      },
      "source": [
        "#### Stub Code"
      ]
    },
    {
      "cell_type": "code",
      "metadata": {
        "id": "fCOUkHjqz10k",
        "outputId": "e7ed9496-e628-40e3-ccb8-f7ff2d568c21",
        "colab": {
          "base_uri": "https://localhost:8080/"
        }
      },
      "source": [
        "pigeon_represented_as_a_person_with_traits = {'Name': 'John Doe', 'LDS': True, 'Likes Cats': True, 'Born Before': True, 'Wears Contacts': False, 'Bites Fingernails': False, 'Lives Close': True}\n",
        "\n",
        "# population size of the state of idaho equals over 1.7 million\n",
        "def calculate_number_of_possible_initials_including_middle_initial_if_any(n):\n",
        "  if (n == 3): return 26 * 27 * 26 \n",
        "  else: return 26 * 26\n",
        "  \n",
        "def pigeonhole_from_pigeon(pigeon_represented_as_a_person_with_traits):\n",
        "  n = calculate_number_of_possible_initials_including_middle_initial_if_any(3)\n",
        "  # determine the length and first letters of the name. If there is no middle name, then insert \" \" for that part into the string.\n",
        "  string = ''\n",
        "  name = pigeon_represented_as_a_person_with_traits[\"Name\"]\n",
        "  words = name.split()\n",
        "  letters = ''\n",
        "  for word in words:\n",
        "    letters = letters + word[0]\n",
        "  string += letters[0]\n",
        "  if (len(letters) == 2): \n",
        "    string += \" \"\n",
        "    string += letters[1]\n",
        "  else: \n",
        "    string += letters[1]\n",
        "    string += letters[2]\n",
        "  string += ':'\n",
        "  if (pigeon_represented_as_a_person_with_traits[\"LDS\"] == True): string += '1' \n",
        "  else: string += '0'\n",
        "  if (pigeon_represented_as_a_person_with_traits[\"Likes Cats\"] == True): string += '1' \n",
        "  else: string += '0'\n",
        "  if (pigeon_represented_as_a_person_with_traits[\"Born Before\"] == True): string += '1' \n",
        "  else: string += '0'\n",
        "  if (pigeon_represented_as_a_person_with_traits[\"Wears Contacts\"] == True): string += '1' \n",
        "  else: string += '0'\n",
        "  if (pigeon_represented_as_a_person_with_traits[\"Bites Fingernails\"] == True): string += '1' \n",
        "  else: string += '0'\n",
        "  if (pigeon_represented_as_a_person_with_traits[\"Lives Close\"] == True): string += '1' \n",
        "  else: string += '0'\n",
        "  # The total intial combinations times true or false (1 or 0 == 2) of 6 other traits\n",
        "  values = n * 2 ** 6\n",
        "  assert len(string) == 10\n",
        "  assert values > 1000000\n",
        "  return string\n",
        "\n",
        "print(calculate_number_of_possible_initials_including_middle_initial_if_any(2))\n",
        "print(calculate_number_of_possible_initials_including_middle_initial_if_any(3))\n",
        "print(pigeon_represented_as_a_person_with_traits)\n",
        "print(pigeonhole_from_pigeon(pigeon_represented_as_a_person_with_traits))"
      ],
      "execution_count": 33,
      "outputs": [
        {
          "output_type": "stream",
          "text": [
            "676\n",
            "18252\n",
            "{'Name': 'John Doe', 'LDS': True, 'Likes Cats': True, 'Born Before': True, 'Wears Contacts': False, 'Bites Fingernails': False, 'Lives Close': True}\n",
            "J D:111001\n"
          ],
          "name": "stdout"
        }
      ]
    },
    {
      "cell_type": "markdown",
      "metadata": {
        "id": "JvMpIHMF0JuM"
      },
      "source": [
        "### TODO Find Applications of the Pigeonhole Principle"
      ]
    },
    {
      "cell_type": "markdown",
      "metadata": {
        "id": "9aicPoZG0Lbj"
      },
      "source": [
        "Especially in graph theory --- there are many!\n",
        "## Applications\n",
        "- A geometric application/proves that out of five points that make up a sphere, at least four can be contained in a closed hemisphere.\n",
        "- Similiar to the activity with the traits of people in Idaho, the principle is used to assert the minimum of any kind of trait based on the population size. This ability to determine the minimum can be used in marketing and advertising.\n",
        "- The pigeon-hole principle is also similar to the Ramsey theory in determining the minimum number of nodes required to guarantee that a set condition of arcs, commonalities, etc.... are present."
      ]
    },
    {
      "cell_type": "markdown",
      "metadata": {
        "id": "81dbKwHenxnT"
      },
      "source": [
        "## TODO My Report on What I Did and What I Learned"
      ]
    },
    {
      "cell_type": "markdown",
      "metadata": {
        "id": "C8BeiIern33B"
      },
      "source": [
        "### Fun\n"
      ]
    },
    {
      "cell_type": "markdown",
      "metadata": {
        "id": "ElukRLoezyxd"
      },
      "source": [
        "The ponder and prove assignment was fun as it gave me a new perspective on probability and graph theory as two similar things. The connections and arcs reminded me of the dating discussion from a couple of weeks ago. I find the applications are similar in that determining the connections and certainties that at least two exist is difficult but possible. However, as the essay suggests, it seems that the harder question is not if they exist, but identify who the two are, no? I feel this can certainly be true when trying to date with the mindset of finding the one that matches."
      ]
    },
    {
      "cell_type": "markdown",
      "metadata": {
        "id": "OzOkZ3son-u9"
      },
      "source": [
        "### New"
      ]
    },
    {
      "cell_type": "markdown",
      "metadata": {
        "id": "3-nYIdEUz4x5"
      },
      "source": [
        "Something new that I learned is the absolute certainty that mathematics provides with probabilities. I had known that certain traits and events over time were guarantees at 99.999%, but as a human, I often find myself skeptical of such conclusions, especially when they are only theoretical. Nevertheless, this assignment is helping to expand my mind on the capabilities that mathematics can contribute to computation and application in the real world. The pigeonhole's feature to provide absolute certainty in a set of traits is a valuable feature that many businesses are willing to pay. Most of the applications I read on the web mention theoretical or fun ideas, but I see the potential of connecting them to the possibilities of finding more connections to valuable information like the internet does with graph theory on social media."
      ]
    },
    {
      "cell_type": "markdown",
      "metadata": {
        "id": "mJHvoj6GokaZ"
      },
      "source": [
        "### Meaningful\n"
      ]
    },
    {
      "cell_type": "markdown",
      "metadata": {
        "id": "XOxh3XFTz-6N"
      },
      "source": [
        "An accomplishment I found meaningful during this assignment was to connect and share my learning with those around me. I often find that when teaching or even just sharing with others the valuable contributions to what I am learning helps motivate me to do more and go above and beyond. Languages and grammar in DM1 were one of the more difficult sections to comprehend for me, so I do like the opportunity to review the topics and again and find new, meaning and valuable connections to how they can all be used. I believe the teaching one another and helping each other to succeed together does make an actual difference as I notice a difference when I learn with others inside and outside of class."
      ]
    },
    {
      "cell_type": "markdown",
      "metadata": {
        "id": "d-sXEeq60C3W"
      },
      "source": [
        " ## Connections \n",
        " I found quite of few connections while working on this week's ponder and prove assignment. One thing I saw and discussed with the essay is the similarity to the application problem between dating and graph theory and the pigeonhole principle and guaranteeing at least two matches. When given a large enough probability space, nodes, and connections between the nodes, the path to a connection with all matching traits is inevitable. Similiar to the concept of uncertainty, the pigeonhole principle acts as a counter postive in that there are also given certainties as there are to uncertainties.  "
      ]
    },
    {
      "cell_type": "markdown",
      "metadata": {
        "id": "Qvp8g0B0zO_5"
      },
      "source": [
        "## Collaborator Contributions\n",
        "Sheri Williams: Dicussed and shared thoughts on the essay."
      ]
    },
    {
      "cell_type": "markdown",
      "metadata": {
        "id": "Nrk-8EmgW4NP"
      },
      "source": [
        "## TODO What is True?\n",
        "Click on each warranted checkbox to toggle it to True (or back to False). \n",
        "\n",
        "NOTE: *This only works in Colab. If you run it in some other Jupyter notebook client/server environment you may have to change False to True (or vice versa) manually.*\n",
        "\n",
        "This self-assessment is subject to revision by a grader."
      ]
    },
    {
      "cell_type": "code",
      "metadata": {
        "id": "qGAjzgVRXR4M"
      },
      "source": [
        "#@markdown ## What is True about what I did?\n",
        "#@markdown ### I had fun.\n",
        "cb00 = True #@param {type:'boolean'}\n",
        "#@markdown ### I learned something new.\n",
        "cb01 = True #@param {type:'boolean'}\n",
        "#@markdown ### I achieved something meaningful, or something I can build upon at a later time.\n",
        "cb02 = True #@param {type:'boolean'}\n",
        "#@markdown ## What is True about my report?\n",
        "#@markdown ### I wrote a sufficient number of well-written sentences.\n",
        "cb03 = True #@param {type:'boolean'}\n",
        "#@markdown ### My report is free of mechanical infelicities.\n",
        "cb04 = True #@param {type:'boolean'}\n",
        "#@markdown ### I used Grammarly (or something better described in my report) to check for MIs.\n",
        "cb05 = True #@param {type:'boolean'}\n",
        "#@markdown ### I reported on any connections I found between these problems and something I already know. \n",
        "cb06 = True #@param {type:'boolean'}\n",
        "#@markdown ### I reported who were and what contribution each of my collaborators made.\n",
        "cb07 = True #@param {type:'boolean'}\n",
        "#@markdown ### I reported what I thought about the essay in general.\n",
        "cb08 = True #@param {type:'boolean'}\n",
        "#@markdown ### I reported what I thought about the certainty-not-chance feature of the pigeonhole principle.\n",
        "cb09 = True #@param {type:'boolean'}\n",
        "#@markdown ### I reported what I thought about the philosophical aspect of the pigeonhole principle per page 41.\n",
        "cb10 = True #@param {type:'boolean'}\n",
        "#@markdown ### I reported on how my discussion with a non-STEM non-classmate went.\n",
        "cb11 = True #@param {type:'boolean'}\n",
        "#@markdown ### I reported on how I grappled with the problem at the bottom of page 40.\n",
        "cb12 = True #@param {type:'boolean'}\n",
        "#@markdown ### I reported on the connection I found between the pigeonhole principle and graphs.\n",
        "cb13 = True #@param {type:'boolean'}\n",
        "#@markdown ## What is True about my code?\n",
        "#@markdown ### I implemented the first function (the one with the absurdly long name) in one or two lines of code.\n",
        "cb14 = True #@param {type:'boolean'}\n",
        "#@markdown ### I used either the sum rule and product rule together or else just the product rule in the first function.\n",
        "cb15 = True #@param {type:'boolean'}\n",
        "#@markdown ### The first function calculates and returns the correct value (see Exercise 250).\n",
        "cb16 = True #@param {type:'boolean'}\n",
        "#@markdown ### The second function inputs a dictionary like {'Name': 'John Doe', 'LDS': True, 'Likes Cats': True, 'Born Before': True, 'Wears Contacts': False, 'Bites Fingernails': False, 'Lives Close': True} and returns the string 'J D:111001'.\n",
        "cb17 = True #@param {type:'boolean'}\n",
        "#@markdown ### The second function calls the first function with the appropriate argument and uses the result.\n",
        "cb18 = True #@param {type:'boolean'}\n",
        "#@markdown ### The second function includes an assert that the length of the string being returned is 10.\n",
        "cb19 = True #@param {type:'boolean'}\n",
        "#@markdown ### The second function includes an assert that the cardinality of its codomain (set of possible return values) is over a million.\n",
        "cb20 = True #@param {type:'boolean'}"
      ],
      "execution_count": null,
      "outputs": []
    }
  ]
}