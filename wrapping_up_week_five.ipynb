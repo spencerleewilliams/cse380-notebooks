{
  "nbformat": 4,
  "nbformat_minor": 0,
  "metadata": {
    "colab": {
      "name": "wrapping_up_week_five.ipynb",
      "private_outputs": true,
      "provenance": [],
      "collapsed_sections": [],
      "include_colab_link": true
    },
    "kernelspec": {
      "display_name": "Python 3",
      "language": "python",
      "name": "python3"
    },
    "language_info": {
      "codemirror_mode": {
        "name": "ipython",
        "version": 3
      },
      "file_extension": ".py",
      "mimetype": "text/x-python",
      "name": "python",
      "nbconvert_exporter": "python",
      "pygments_lexer": "ipython3",
      "version": "3.9.0"
    },
    "toc": {
      "colors": {
        "hover_highlight": "#DAA520",
        "running_highlight": "#FF0000",
        "selected_highlight": "#FFD700"
      },
      "moveMenuLeft": true,
      "nav_menu": {
        "height": "121px",
        "width": "252px"
      },
      "navigate_menu": true,
      "number_sections": true,
      "sideBar": true,
      "threshold": 4,
      "toc_cell": false,
      "toc_section_display": "block",
      "toc_window_display": false,
      "widenNotebook": false
    }
  },
  "cells": [
    {
      "cell_type": "markdown",
      "metadata": {
        "id": "view-in-github",
        "colab_type": "text"
      },
      "source": [
        "<a href=\"https://colab.research.google.com/github/byui-cse/cse380-notebooks/blob/master/wrapping_up_week_five.ipynb\" target=\"_parent\"><img src=\"https://colab.research.google.com/assets/colab-badge.svg\" alt=\"Open In Colab\"/></a>"
      ]
    },
    {
      "cell_type": "markdown",
      "metadata": {
        "id": "PHenEzmyR4ZE"
      },
      "source": [
        "# At the end (of class meetings) of this fifth week, let's recap:\n",
        "We'll do so by hopefully answering some lingering questions."
      ]
    },
    {
      "cell_type": "markdown",
      "metadata": {
        "id": "1ickjSUWTIh4"
      },
      "source": [
        "# Answer Selected Questions"
      ]
    },
    {
      "cell_type": "markdown",
      "metadata": {
        "id": "NIjkStM_2UP3"
      },
      "source": [
        "## Claire asked for clarification:"
      ]
    },
    {
      "cell_type": "markdown",
      "metadata": {
        "id": "k9TccI0G2czP"
      },
      "source": [
        "How does\n",
        "$${n \\choose k} + {n \\choose k + 1} = {n \\choose k + 2}$$\n",
        "simplify to\n",
        "$$k^2 - 3nk + (n^2 - 3n - 2) = 0$$\n",
        "or in other words, how do you get rid of the factorials?"
      ]
    },
    {
      "cell_type": "markdown",
      "metadata": {
        "id": "uhetrpm4EKwA"
      },
      "source": [
        "Important concretization of a general fact that we'll use: \n",
        "$$6! = 6 \\times 5! = 6 \\times 5 \\times 4!.$$"
      ]
    },
    {
      "cell_type": "markdown",
      "metadata": {
        "id": "wc8nqbgYEXXg"
      },
      "source": [
        "In terms of factorials:\n",
        "$$\\frac{n!}{(n-k)!k!} + \\frac{n!}{(n - (k+1))!(k+1)!} = \\frac{n!}{(n - (k+2))!(k+2)!}$$"
      ]
    },
    {
      "cell_type": "markdown",
      "metadata": {
        "id": "ohgxFZ4WE3Y_"
      },
      "source": [
        "First, divide everything by $n!$ to get:\n",
        "$$\\frac{1\n",
        "}{(n-k)!k!} + \\frac{1}{(n - (k+1))!(k+1)!} = \\frac{1}{(n - (k+2))!(k+2)!}$$"
      ]
    },
    {
      "cell_type": "markdown",
      "metadata": {
        "id": "E-KuAMTBFKx6"
      },
      "source": [
        "Next, multiply everything by $(k+2)!$, and cancel common terms in the numerators and denominators.\n",
        "\n",
        "Remember, $(k+2)! = (k+2)(k+1)!,$ and $(k+2)! = (k+2)(k+1)k!,:$\n",
        "\n",
        "$$\\frac{(k+2)(k+1)}{(n-k)!} + \\frac{k+2}{(\n",
        "  n - k - 1)!} = \\frac{1}{(n - k - 2)!}$$\n"
      ]
    },
    {
      "cell_type": "markdown",
      "metadata": {
        "id": "-lKCTDqPF4og"
      },
      "source": [
        "Next, multiply everything by $(n-k)!$ and similarly cancel like terms:\n",
        "$$(k + 2)(k + 1) + (k + 2)(n - k) = (n - k)(n - k - 1)$$"
      ]
    },
    {
      "cell_type": "markdown",
      "metadata": {
        "id": "rNIrXbFBGOE7"
      },
      "source": [
        "Now simplify by factoring out a $(k + 2)$ from the first two terms:\n",
        "$$(k + 2)(k + 1 + n - k) = (n - k)(n - k - 1)$$\n",
        "Simplify further:\n",
        "$$(k + 2)(n + 1) = (n - k)(n - k - 1)$$\n",
        "Multiply out:\n",
        "$$nk + 2n + k + 2 = n^2 - nk - n - nk + k^2 + k$$\n",
        "Bring everything to the right-hand side, combine like terms, and there it is:\n",
        "$$0 = k^2 - 3nk + (n^2 - 3n - 2).$$"
      ]
    },
    {
      "cell_type": "markdown",
      "metadata": {
        "id": "NY8eRi4o1yP-"
      },
      "source": [
        "## What are the main takeaways for this week?"
      ]
    },
    {
      "cell_type": "markdown",
      "metadata": {
        "id": "1uO5cT4612pk"
      },
      "source": [
        "Select any/all of the course outcomes!"
      ]
    },
    {
      "cell_type": "markdown",
      "metadata": {
        "id": "jzz8WF1U2JRI"
      },
      "source": [
        " 1. Master more advanced terminology and operations of sets and logic,\n",
        "    functions and relations, combinatorics and probability, number theory and\n",
        "    practice, trees and graphs, and languages and grammars.\n",
        " 2. Demonstrate logical reasoning as you solve interesting problems.\n",
        " 3. Interpret the meaning of mathematical statements in the context of\n",
        "    applications in computer science.\n",
        " 4. Discern between effective and ineffective approaches to problem solving.\n",
        " 5. Solve problems using limited or constrained resources.\n",
        " 6. Learn more functional programming through using, reading, and writing\n",
        "    Python code.\n"
      ]
    },
    {
      "cell_type": "markdown",
      "metadata": {
        "id": "FZXBs7EpTdwJ"
      },
      "source": [
        "## Are there any Code Snippets we can easily find?"
      ]
    },
    {
      "cell_type": "markdown",
      "metadata": {
        "id": "hyDqIENUTx70"
      },
      "source": [
        "Yes! Click on the ```<>``` item in the toolbar on the left.\n"
      ]
    },
    {
      "cell_type": "markdown",
      "metadata": {
        "id": "hQqHKysOUCCE"
      },
      "source": [
        "## How can I see the files on my Colab server instance's local drive?"
      ]
    },
    {
      "cell_type": "markdown",
      "metadata": {
        "id": "Ukk1ct11VeuN"
      },
      "source": [
        "There are two ways: %ldir is the \"magic directive\" way."
      ]
    },
    {
      "cell_type": "code",
      "metadata": {
        "id": "A76kXceXWb4v"
      },
      "source": [
        "%ldir"
      ],
      "execution_count": null,
      "outputs": []
    },
    {
      "cell_type": "markdown",
      "metadata": {
        "id": "031lR9ePVrKL"
      },
      "source": [
        "What's the other way?"
      ]
    },
    {
      "cell_type": "markdown",
      "metadata": {
        "id": "XaWSy_SaJc8h"
      },
      "source": [
        "Use the file browser on the left."
      ]
    },
    {
      "cell_type": "markdown",
      "metadata": {
        "id": "HkyZoe2ZJgMd"
      },
      "source": [
        "## How can I get files from the cloud onto this Colab server instance's local drive?\n",
        "Use a tool like ``curl``:"
      ]
    },
    {
      "cell_type": "code",
      "metadata": {
        "id": "zeDoH_qHJqsm"
      },
      "source": [
        "!curl -O https://raw.githubusercontent.com/dwyl/english-words/master/words_dictionary.json"
      ],
      "execution_count": null,
      "outputs": []
    },
    {
      "cell_type": "markdown",
      "metadata": {
        "id": "4i_1VUgnKGoY"
      },
      "source": [
        "## What is a good way to read through the word list and find words with letters from \"Ziegler's giant bar\"?\n",
        "Contributed by a DM1 student from last semester:"
      ]
    },
    {
      "cell_type": "code",
      "metadata": {
        "id": "eH5hb5WkKVcp"
      },
      "source": [
        "import json\n",
        "\n",
        "# word list comes from here: https://github.com/dwyl/english-words\n",
        "f = open('words_dictionary.json')\n",
        "dat = json.loads(f.read())\n",
        "f.close()\n",
        "\n",
        "letters = \"ziegler'sgiantbar\"\n",
        "\n",
        "max_length = len(max(dat.keys(), key=len))\n",
        "max_length = min(max_length, len(letters))\n",
        "print(\"max_length\", max_length)\n",
        "\n",
        "make_character_dict = lambda word:{l:word.count(l)for l in set(word)}\n",
        "\n",
        "letter_dict = make_character_dict(letters)\n",
        "words_found = set()\n",
        "\n",
        "for w in dat.keys():\n",
        "    can_create_word = True\n",
        "    test_dict = make_character_dict(w)\n",
        "    for letter in test_dict.keys():\n",
        "        can_create_word = (letter in letter_dict.keys() and test_dict[letter] <= letter_dict[letter])\n",
        "        if not can_create_word:\n",
        "            break\n",
        "    if can_create_word:\n",
        "        words_found.add(w)\n",
        "\n",
        "print(len(words_found))\n",
        "# [*map(print,words_found)]"
      ],
      "execution_count": null,
      "outputs": []
    },
    {
      "cell_type": "markdown",
      "metadata": {
        "id": "7MPjJNDyKkxS"
      },
      "source": [
        "## Is there a way to have Python read the word list from GitHub without storing it on disk?\n",
        "Yes! Contributed by Kyle, open a URL request and read the data over the network directly into memory without touching the disk."
      ]
    },
    {
      "cell_type": "code",
      "metadata": {
        "id": "qqGZP5PuKxOZ"
      },
      "source": [
        "import json, urllib.request\n",
        "\n",
        "# word list comes from here: https://github.com/dwyl/english-words\n",
        "url = \"https://raw.githubusercontent.com/dwyl/english-words/master/words_dictionary.json\"\n",
        "f = urllib.request.urlopen(url)\n",
        "dat = json.loads(f.read())\n",
        "f.close()\n",
        "\n",
        "letters = \"ziegler'sgiantbar\"\n",
        "\n",
        "max_length = len(max(dat.keys(), key=len))\n",
        "max_length = min(max_length, len(letters))\n",
        "print(\"max_length\", max_length)\n",
        "\n",
        "make_character_dict = lambda word:{l:word.count(l)for l in set(word)}\n",
        "\n",
        "letter_dict = make_character_dict(letters)\n",
        "words_found = set()\n",
        "\n",
        "for w in dat.keys():\n",
        "    can_create_word = True\n",
        "    test_dict = make_character_dict(w)\n",
        "    for letter in test_dict.keys():\n",
        "        can_create_word = (letter in letter_dict.keys() and test_dict[letter] <= letter_dict[letter])\n",
        "        if not can_create_word:\n",
        "            break\n",
        "    if can_create_word:\n",
        "        words_found.add(w)\n",
        "\n",
        "print(len(words_found))\n",
        "[*map(print,words_found)]\n"
      ],
      "execution_count": null,
      "outputs": []
    },
    {
      "cell_type": "markdown",
      "metadata": {
        "id": "QROFnrFfXXWp"
      },
      "source": [
        "## What are some other magic directives?"
      ]
    },
    {
      "cell_type": "markdown",
      "metadata": {
        "id": "mIlGg1lRXe-w"
      },
      "source": [
        "- !uptime\n",
        "- %time"
      ]
    },
    {
      "cell_type": "code",
      "metadata": {
        "id": "ciAj9tJ8IjW5"
      },
      "source": [
        "!uptime"
      ],
      "execution_count": null,
      "outputs": []
    },
    {
      "cell_type": "code",
      "metadata": {
        "id": "6mWC2zi3InG3"
      },
      "source": [
        "%time"
      ],
      "execution_count": null,
      "outputs": []
    },
    {
      "cell_type": "markdown",
      "metadata": {
        "id": "YWaMAzJJSPB7"
      },
      "source": [
        "## Can I use this external time tool for this week's Ponder and Prove?"
      ]
    },
    {
      "cell_type": "markdown",
      "metadata": {
        "id": "t3WfUBFXt7Da"
      },
      "source": [
        "Yes. For example, with the so-called [\"3x + 1\" conjecture, or the Collatz conjecture, or (many other names)](https://en.wikipedia.org/wiki/Collatz_conjecture):"
      ]
    },
    {
      "cell_type": "code",
      "metadata": {
        "id": "Frc7kT_0Ixhg"
      },
      "source": [
        "def is_odd(num):\n",
        "    return (num % 2) == 1\n",
        "\n",
        "def three_x_plus_one(num):\n",
        "    if is_odd(num):\n",
        "        return (3 * num) + 1\n",
        "    else:\n",
        "        return (num // 2)\n",
        "\n",
        "def transform_three_x_plus_one(num):\n",
        "    while num > 1:\n",
        "        num = three_x_plus_one(num)\n",
        "    return num\n",
        "\n",
        "def test_conjecture(n):\n",
        "  return transform_three_x_plus_one(n) == 1"
      ],
      "execution_count": null,
      "outputs": []
    },
    {
      "cell_type": "code",
      "metadata": {
        "id": "Lh4p3cblcA-x"
      },
      "source": [
        "%time test_conjecture(999999)"
      ],
      "execution_count": null,
      "outputs": []
    },
    {
      "cell_type": "markdown",
      "metadata": {
        "id": "Csrl1nQQ1Ztd"
      },
      "source": [
        "## How can I test the conjecture for 24 hours straight?"
      ]
    },
    {
      "cell_type": "markdown",
      "metadata": {
        "id": "0HTFI1AS1hXt"
      },
      "source": [
        "One way is to use a simple ```while``` loop. E.g.:"
      ]
    },
    {
      "cell_type": "code",
      "metadata": {
        "id": "irBmaukuqufF"
      },
      "source": [
        "n = 1\n",
        "while test_conjecture(n):\n",
        "  n += 1"
      ],
      "execution_count": null,
      "outputs": []
    },
    {
      "cell_type": "markdown",
      "metadata": {
        "id": "VkQtWvSXv3P6"
      },
      "source": [
        "## How can I keep my notebook from idle timimg out when running on Colab?"
      ]
    },
    {
      "cell_type": "markdown",
      "metadata": {
        "id": "m1PITVZowAww"
      },
      "source": [
        "Use the following \"infinite pass loop\" in a cell that will run in its own thread alongside your long-running code running in another cell/thread:"
      ]
    },
    {
      "cell_type": "code",
      "metadata": {
        "id": "jOJ5xWdkdRhU"
      },
      "source": [
        "while True: pass"
      ],
      "execution_count": null,
      "outputs": []
    },
    {
      "cell_type": "markdown",
      "metadata": {
        "id": "8h4dIihswsC8"
      },
      "source": [
        "## How do I interrupt a long-running cell?"
      ]
    },
    {
      "cell_type": "markdown",
      "metadata": {
        "id": "yeWqv4V2wyXE"
      },
      "source": [
        "Use the Runtime menu, Interrupt execution option."
      ]
    },
    {
      "cell_type": "markdown",
      "metadata": {
        "id": "cZ2i31MAwhku"
      },
      "source": [
        "## When I interrupt a running cell how can I prevent an ugly-looking output?"
      ]
    },
    {
      "cell_type": "markdown",
      "metadata": {
        "id": "oeJTOIlTxDYe"
      },
      "source": [
        "Use try/except, e.g.:"
      ]
    },
    {
      "cell_type": "code",
      "metadata": {
        "id": "pLBO7TDBo3kS"
      },
      "source": [
        "import datetime\n",
        "\n",
        "n = 1\n",
        "try:\n",
        "  while test_conjecture(n):\n",
        "    n += 1\n",
        "except:\n",
        "  print('Verified up to ' + str(n) + ' at ' + str(datetime.datetime.now()))"
      ],
      "execution_count": null,
      "outputs": []
    },
    {
      "cell_type": "code",
      "metadata": {
        "id": "NVDdpzPuq5F6"
      },
      "source": [
        "n"
      ],
      "execution_count": null,
      "outputs": []
    },
    {
      "cell_type": "markdown",
      "metadata": {
        "id": "YVXuRTDBTVjj"
      },
      "source": [
        "## How do I run a Python program in the background on Windows?"
      ]
    },
    {
      "cell_type": "markdown",
      "metadata": {
        "id": "v77iE_WEW2ws"
      },
      "source": [
        "Contributed by Durid, [here's how](https://medium.com/@sakethvrudraraju/how-to-run-a-python-script-in-the-background-on-windows-95987864ef3e)."
      ]
    },
    {
      "cell_type": "markdown",
      "metadata": {
        "id": "SQgyirSlTqAj"
      },
      "source": [
        "## How do I run a Python program in the background on Linux (e.g., the Linux Lab)?\n",
        "Use the ```&``` sign at the end, which is the indicator to the shell to put it in the background."
      ]
    },
    {
      "cell_type": "code",
      "metadata": {
        "id": "CD00sBqzT95I"
      },
      "source": [
        "!python3 test_conjecture.py &"
      ],
      "execution_count": null,
      "outputs": []
    },
    {
      "cell_type": "markdown",
      "metadata": {
        "id": "7TmtZop4UfmR"
      },
      "source": [
        "## How do I keep Linux from killing my program when I exit my ```ssh``` session?\n",
        "Use ```nohup``` (no hangup): "
      ]
    },
    {
      "cell_type": "code",
      "metadata": {
        "id": "DuIV_NHGUss3"
      },
      "source": [
        "!nohup python3 test_conjecture.py &"
      ],
      "execution_count": null,
      "outputs": []
    },
    {
      "cell_type": "markdown",
      "metadata": {
        "id": "hjq0eGwCUXZ5"
      },
      "source": [
        "## How do I capture the output of the program I left running?\n",
        "With ```nohup```, your program's output gets appended to the ```nohup.out``` file.\n",
        "(So ``rm nohup.out`` first if you want fresh results.) "
      ]
    },
    {
      "cell_type": "markdown",
      "metadata": {
        "id": "HST6fo2RVYCY"
      },
      "source": [
        "## How do I find and stop the program I left running when I log back in?\n"
      ]
    },
    {
      "cell_type": "markdown",
      "metadata": {
        "id": "0rIu3kg5VlYf"
      },
      "source": [
        "```pgrep <<name>>``` will show you the process IDs (PIDs) of processes whose names match ```<<name>>```:"
      ]
    },
    {
      "cell_type": "code",
      "metadata": {
        "id": "ij7jTjPNVi9b"
      },
      "source": [
        "!pgrep python3"
      ],
      "execution_count": null,
      "outputs": []
    },
    {
      "cell_type": "markdown",
      "metadata": {
        "id": "91xIYuTcV6Z2"
      },
      "source": [
        "```pkill <<name>>``` will terminate the processes whose PIDs ```pgrep``` revealed, so ```pkill python3``` (DO NOT run this in a cell in this notebook!)."
      ]
    }
  ]
}