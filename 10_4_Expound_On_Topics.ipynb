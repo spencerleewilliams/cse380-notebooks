{
  "nbformat": 4,
  "nbformat_minor": 0,
  "metadata": {
    "colab": {
      "name": "10_4_Expound_On_Topics.ipynb",
      "provenance": [],
      "authorship_tag": "ABX9TyOocSvOnYcl27xy1u47ZC1N",
      "include_colab_link": true
    },
    "kernelspec": {
      "name": "python3",
      "display_name": "Python 3"
    }
  },
  "cells": [
    {
      "cell_type": "markdown",
      "metadata": {
        "id": "view-in-github",
        "colab_type": "text"
      },
      "source": [
        "<a href=\"https://colab.research.google.com/github/byui-cse/cse380-notebooks/blob/master/10_4_Expound_On_Topics.ipynb\" target=\"_parent\"><img src=\"https://colab.research.google.com/assets/colab-badge.svg\" alt=\"Open In Colab\"/></a>"
      ]
    },
    {
      "cell_type": "markdown",
      "metadata": {
        "id": "oJHkJ2xW7fQs"
      },
      "source": [
        "# Expound on Topics\n",
        "## More About Patterns and Probabilities\n",
        "### Wednesday, 10 March 2021"
      ]
    },
    {
      "cell_type": "markdown",
      "metadata": {
        "id": "1A-ypGegVqF7"
      },
      "source": [
        "## Solving Recurrences"
      ]
    },
    {
      "cell_type": "markdown",
      "metadata": {
        "id": "6DLWZ6IbrZxo"
      },
      "source": [
        "To emphasize again, the only difference between these two recurrence relations is the initial condition when n = 0:\n",
        "\n",
        "$f(n) = 4f(n-1) - f(n-2)$ for $n > 1$;\n",
        "\n",
        "$f(0) = 1$,\n",
        "\n",
        "$f(1) = 1$.\n",
        "\n",
        "---\n",
        "\n",
        "$g(n) = 4g(n-1) - g(n-2)$ for $n > 1$;\n",
        "\n",
        "$g(0) = 0$,\n",
        "\n",
        "$g(1) = 1$."
      ]
    },
    {
      "cell_type": "markdown",
      "metadata": {
        "id": "dDgCPMTRWusB"
      },
      "source": [
        "### Start Easy"
      ]
    },
    {
      "cell_type": "markdown",
      "metadata": {
        "id": "oamh2AcqWyBQ"
      },
      "source": [
        "Let's start with a relatively simple and well-known recurrence relation.\n",
        "\n",
        "This is an example of a **linear homogeneous** recurrence relation with **constant coefficients**:\n",
        "\n",
        "$F(n) = F(n-1) + F(n-2),$ for $n > 1$;\n",
        "\n",
        "$F(0) = 0,$\n",
        "\n",
        "$F(1) = 1.$"
      ]
    },
    {
      "cell_type": "markdown",
      "metadata": {
        "id": "yVxsJE2tXViH"
      },
      "source": [
        "This, of course, is the famous **Fibonacci** recurrence relation.\n",
        "\n",
        "In closed-form, formulas for linear homogeneous recurrence relations with constant coefficients look like:\n",
        "\n",
        "$y\\cdot r^n + z \\cdot s^n$\n",
        "\n",
        "where $y$, $z$, $r$, and $s$ are real numbers.\n",
        "\n",
        "Assume, for simplicity, that $y = 1$ and $z = 0$.\n",
        "\n",
        "(We'll come back and revise that assumption later.)\n",
        "\n",
        "So $F(n) = r^n$ for some real number $r$. Which one? Let's find out!\n",
        "\n",
        "In the original recurrence, plugging in $r^n$ for $F(n)$, $r^{n-1}$ for $F(n-1)$, and $r^{n-2}$ for $F(n-2)$ yields:\n",
        "\n",
        "$r^n = r^{n-1} + r^{n-2}.$\n",
        "\n",
        "Now divide each term in this equation by $r^{n-2}$, which is the largest term we can divide by without making some term turn into something less than 1. That division gives us:\n",
        "\n",
        "$r^2 = r + 1.$\n",
        "\n",
        "This is a quadratic that can be rewritten like this:\n",
        "\n",
        "$r^2 - r - 1 = 0.$\n",
        "\n",
        "In this form it is called the **characteristic equation** of the recurrence relation.\n",
        "\n",
        "The equation has two roots, which the quadratic formula will give us:"
      ]
    },
    {
      "cell_type": "markdown",
      "metadata": {
        "id": "J2L9Rcbza4y8"
      },
      "source": [
        "#### Root 1"
      ]
    },
    {
      "cell_type": "markdown",
      "metadata": {
        "id": "AACHt_rva6GZ"
      },
      "source": [
        "$r = \\frac{1 + \\sqrt{5}}{2} = \\phi \\approx 1.618$"
      ]
    },
    {
      "cell_type": "markdown",
      "metadata": {
        "id": "UyY-2mp_a8f2"
      },
      "source": [
        "#### Root 2"
      ]
    },
    {
      "cell_type": "markdown",
      "metadata": {
        "id": "xHE1ENZJa923"
      },
      "source": [
        "$s = \\frac{1 - \\sqrt{5}}{2} = (1 - \\phi) \\approx -0.618$"
      ]
    },
    {
      "cell_type": "markdown",
      "metadata": {
        "id": "sSQiWEa_bTFb"
      },
      "source": [
        "#### Almost there!"
      ]
    },
    {
      "cell_type": "markdown",
      "metadata": {
        "id": "DorIfgALbUmS"
      },
      "source": [
        "We finish by solving for $y$ and $z$ given $r$ and $s$ and the original recurrence relation's **initial conditions**:\n",
        "\n",
        "$F(n) = y\\cdot r^n + z\\cdot s^n$ means\n",
        "\n",
        "$F(0) = 0 = y\\cdot r^0 + z\\cdot s^0 = y + z.$\n",
        "\n",
        "So $z = -y$.\n",
        "\n",
        "$F(1) = 1 = y\\cdot r^1 + z\\cdot s^1 = yr + zs.$\n",
        "\n",
        "So $1 = yr - ys = y(r - s).$\n",
        "\n",
        "Therefore,\n",
        "\n",
        "$y = \\frac{1}{r - s}$, and\n",
        "\n",
        "$z = \\frac{-1}{r - s}.$\n",
        "\n",
        "Plugging in $(r - s) = \\sqrt{5}$ (verify this!) we get\n",
        "\n",
        "$y = \\frac{1}{\\sqrt{5}}$\n",
        "\n",
        "$z = \\frac{-1}{\\sqrt{5}}$\n",
        "\n",
        "So $F(n) = \\frac{1}{\\sqrt{5}}\\left(\\frac{1 + \\sqrt{5}}{2}\\right)^n - \\frac{1}{\\sqrt{5}}\\left(\\frac{1 - \\sqrt{5}}{2}\\right)^n$\n",
        "\n",
        ">> $= \\frac{1}{\\sqrt{5}}\\left[\\left(\\frac{1 + \\sqrt{5}}{2}\\right)^n - \\left(\\frac{1 - \\sqrt{5}}{2}\\right)^n\\right]$\n",
        "\n",
        "which is known as **Binet's formula**.\n",
        "\n",
        "With all those $\\sqrt{5}$ appearances, this is a surprising result that somehow yields only whole numbers constituting the Fibonacci sequence --- even though $\\sqrt{5}$ is irrational!"
      ]
    },
    {
      "cell_type": "markdown",
      "metadata": {
        "id": "rkjuyuv3ekmP"
      },
      "source": [
        "### Step It Up"
      ]
    },
    {
      "cell_type": "markdown",
      "metadata": {
        "id": "b_tIi3CEemrL"
      },
      "source": [
        "Perhaps $\\sqrt{3}$ features in the solutions to the ladder-graph spanning-tree recurrences?!"
      ]
    },
    {
      "cell_type": "markdown",
      "metadata": {
        "id": "MiFQCW2yeq4F"
      },
      "source": [
        "#### One Way to Find Out"
      ]
    },
    {
      "cell_type": "markdown",
      "metadata": {
        "id": "0hCzvTS2esiH"
      },
      "source": [
        "Try it!\n",
        "\n",
        "Use the Fibonacci example as a guide.\n",
        "\n",
        "Are $f(n)$ and $g(n)$ linear homogeneous recurrence relations with constant coefficients?\n",
        "\n",
        "What are their characteristic equations?\n",
        "\n",
        "What are $y$, $r$, $z$ and $s$ for each?\n",
        "\n",
        "When you think you have found their closed-form formulas make sure to double-check that they yield the same numbers as the original recurrence relations."
      ]
    }
  ]
}