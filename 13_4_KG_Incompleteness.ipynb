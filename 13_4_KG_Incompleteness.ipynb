{
  "nbformat": 4,
  "nbformat_minor": 0,
  "metadata": {
    "colab": {
      "name": "13_4_KG_Incompleteness.ipynb",
      "provenance": [],
      "include_colab_link": true
    },
    "kernelspec": {
      "name": "python3",
      "display_name": "Python 3"
    },
    "language_info": {
      "name": "python"
    }
  },
  "cells": [
    {
      "cell_type": "markdown",
      "metadata": {
        "id": "view-in-github",
        "colab_type": "text"
      },
      "source": [
        "<a href=\"https://colab.research.google.com/github/spencerleewilliams/cse380-notebooks/blob/master/13_4_KG_Incompleteness.ipynb\" target=\"_parent\"><img src=\"https://colab.research.google.com/assets/colab-badge.svg\" alt=\"Open In Colab\"/></a>"
      ]
    },
    {
      "cell_type": "markdown",
      "metadata": {
        "id": "RMRu39LN5Jih"
      },
      "source": [
        "# KG Incompleteness\n",
        "## 31 March 2021"
      ]
    },
    {
      "cell_type": "markdown",
      "metadata": {
        "id": "qPCwWdUq5RSG"
      },
      "source": [
        "## G&ouml;del's Theorem"
      ]
    },
    {
      "cell_type": "markdown",
      "metadata": {
        "id": "bl-RFg215V-I"
      },
      "source": [
        "Kurt G&ouml;del's First Incompleteness Theorem, to be precise.\n",
        "\n",
        "Rudy Rucker, in his book *Infinity and the Mind*, tells it like this:\n",
        "\n",
        "> In the summer of 1930, the 24-year-old Kurt G&ouml;del proved a strange theorem: *mathematics is open-ended*. There can never be a final, best system of mathematics. Every axiom-system for mathematics will eventually run into certain simple problems that it cannot solve at all. This is G&ouml;del's Incompleteness Theorem.\n",
        "\n",
        "> The implications of this epochal discovery are devastating. The thinkers of the Industrial Revolution liked to regard the universe as a vast preprogrammed machine. It was optimistically predicted that soon scientists would know all the rules, all the programs. But if G&ouml;del's Theorem tells us anything, it is this: Man will never know the final secret of the universe.\n",
        "\n",
        "> [...]\n",
        "\n",
        "> Machines will never have *all* the answers. There will always be room for a creative person who can think of a better way of doing things.\n",
        "\n",
        "> Try to catch the universe in a finite net of axioms and the universe will fight back. Reality is, on the deepest level, essentially infinite. No finitely programmed machine can ever exhaust the richness of the mental and physical world we inhabit.\n",
        "\n",
        "> The proof of G&ouml;del's Incompleteness Theorem is so simple, and so sneaky, that it is almost embarassing to relate. His basic procedure is as follows:\n",
        "\n",
        "> 1. Someone introduces G&ouml;del to UTM, a machine that is supposed to be a Universal Truth Machine, capable of correctly answering any question at all.\n",
        "2. G&ouml;del asks for the program and circuit diagrams of the UTM. The program may be complicated, but it can only be finitely long. Call the program P(UTM) for Program of the Universal Truth Machine.\n",
        "3. Smiling a little, G&ouml;del writes out the following sentence: \"The machine constructed on the basis of the program P(UTM) will never say that this sentence is true.\"  Call this sentence G for G&ouml;del. Note that G is equivalent to \"UTM will never say G is true\".\n",
        "4. Now G&ouml;del laughs his high laugh and asks UTM whether G is true or not.\n",
        "5. If UTM says G is true, then \"UTM will never say G is true\" is false. If \"UTM will never say G is true\" is false, then G is false (since G = \"UTM will never say G is true.\") So if UTM says that G is true, then G is in fact false, and UTM has made a false statement. So UTM will never say that G is true, since UTM makes only true statements.\n",
        "6. We have established that UTM will never say G is true. So \"UTM will never say G is true\" is in fact a true sentence. So G is true (since G = \"UTM will never say G is true.\").\n",
        "7. \"I know a truth that UTM can never utter,\" G&ouml;del says. \"I know that G is true. UTM is not truly universal.\"\n",
        "\n",
        "> Think about it — it grows on you.\n"
      ]
    },
    {
      "cell_type": "markdown",
      "metadata": {
        "id": "6hIz68TGiKEr"
      },
      "source": [
        "## The Liar Paradox <font color=red>Exponentiated</font>\n"
      ]
    },
    {
      "cell_type": "markdown",
      "metadata": {
        "id": "t41ZeDdNiNRT"
      },
      "source": [
        "> The gimmick in G&ouml;del's proof is very similar to the gimmick in the famous Liar paradox of Epimenides: \"I am lying,\" says Epimenides. Is he? [...] Define B to be the sentence \"B is not true.\" Is B true? The problem is that B is true if and only if B is not true. So B is somehow outside the scope of the applicability of the concepts \"true\" and \"not true.\" There is something viciously meaningless about the sentence B, and one is inclined just to try to forget about it.\n",
        "\n",
        "> But G&ouml;del's G sentence cannot be so lightly dismissed. With his great mathematical and logical genius, G&ouml;del was able to find a way (for any given P(UTM)) actually to write down a complicated polynomial equation that has a solution if and only if G is true. So G is not at all some vague or non-mathematical sentence. G *is a specific mathematical problem that we know the answer to, even though UTM does not!* So UTM does not, and cannot, embody a best and final theory of mathematics.\n",
        "\n",
        "> G&ouml;del's Incompleteness Theorem flew in the face of the formalist and logical positivist movements of the time. But everyone who was capable of following the many steps of the detailed proof was forced to concede its correctness. G&ouml;del became famous."
      ]
    },
    {
      "cell_type": "markdown",
      "metadata": {
        "id": "FLLOZ6Bhiout"
      },
      "source": [
        "## G&ouml;del Sums It Up"
      ]
    },
    {
      "cell_type": "markdown",
      "metadata": {
        "id": "DRPYCKNYisre"
      },
      "source": [
        "> The human mind is incapable of formulating (or mechanizing) all its mathematical intuitions, i.e., if it has succeeded in formulating some of them, this very fact yields new intuitive knowledge, e.g., the consistency of this formalism. This fact may be called the \"incompletability\" of mathematics. On the other hand, on the basis of what has been proved so far, it remains possible that there may exist (and even be empirically discoverable) a theorem-proving machine which in fact is equivalent to mathematical intuition, but cannot be proved to be so, nor even be proved to yield only correct theorems of finitary number theory.\n",
        "\n",
        "> Either the human mind surpasses all machines (to be more precise, it can decide more number-theoretical questions than any machine) or else there exist number-theoretical questions undecidable for the human mind.\n",
        "\n",
        "In other words, no machine can answer all number-theoretical questions, and the human mind is not a machine!"
      ]
    },
    {
      "cell_type": "markdown",
      "metadata": {
        "id": "fUBlUVuuPv5R"
      },
      "source": [
        "## The Statement G = The Halting Problem in Disguise"
      ]
    },
    {
      "cell_type": "markdown",
      "metadata": {
        "id": "1PQpGUWbPzQM"
      },
      "source": [
        "And the argument for why the Halting Problem is unsolvable, or undecidable, can be quite mind-bending. As can this series of more and more technical explanations eludicating G&ouml;del's sentence G that was so briefly explained above."
      ]
    },
    {
      "cell_type": "markdown",
      "metadata": {
        "id": "REBFZt6SQkI5"
      },
      "source": [
        "### First, Going Back to Cantor"
      ]
    },
    {
      "cell_type": "markdown",
      "metadata": {
        "id": "dCEytC_dQpKM"
      },
      "source": [
        "Here's another way to do Cantor Diagonalization:\n",
        "\n",
        "Consider all the functions that are defined on the positive integers ($\\mathbb{Z}^{+}$).\n",
        "\n",
        "**Theorem**: It is not possible to arrange all these functions in a list.\n",
        "\n",
        "**Proof**: Assume that it **is** possible.\n",
        "\n",
        "Then there would be a first function in the list. Call it $f_1$. \n",
        "\n",
        "There would be a second function $f_2$.\n",
        "\n",
        "Etc. \n",
        "\n",
        "Now, for each number $n \\in \\mathbb{Z}^{+}$, consider the numbers $f_n(n) + 1$.\n",
        "\n",
        "This sequence of numbers itself constitutes a function defined on $\\mathbb{Z}^{+}$ and so, by our assumption, it must occur in the list.\n",
        "\n",
        "Call it $f_k$.\n",
        "\n",
        "By definition, $f_k(n) = f_n(n) + 1$, and this is valid for all $n \\in \\mathbb{Z}^{+}$.\n",
        "\n",
        "In particular, it is valid for $n = k$ and this yields $f_k(k) = f_k(k) + 1$.\n",
        "\n",
        "Thus, 0 = 1, a contradiction.\n",
        "\n",
        "Q.E.D.\n",
        "\n",
        "The diagonalization process plays a particularly dominant role in the theory\n",
        "of recursive functions -- and **fixed points** of functions.\n",
        "\n",
        "\n"
      ]
    },
    {
      "cell_type": "markdown",
      "metadata": {
        "id": "4p2ZqLQQRhdP"
      },
      "source": [
        "### Concretize"
      ]
    },
    {
      "cell_type": "markdown",
      "metadata": {
        "id": "OmFvEHCdRjf2"
      },
      "source": [
        "(Start of) Function list:\n",
        "\n",
        "|  # | Name      |  1 | 2 | 3 |  4 |  5 |  6 |  7 |  8 |  9 |  10 | $\\ldots$ |\n",
        "|---:|-----------|---:|--:|--:|---:|---:|---:|---:|---:|---:|----:|---|\n",
        "|  1 | Zero      |  0 | 0 | 0 |  0 |  0 |  0 |  0 |  0 |  0 |   0 | $\\ldots$ |\n",
        "|  2 | Identity  |  1 | 2 | 3 |  4 |  5 |  6 |  7 |  8 |  9 |  10 | $\\ldots$ |\n",
        "|  3 | Double    |  2 | 4 | 6 |  8 | 10 | 12 | 14 | 16 | 18 |  20 | $\\ldots$ |\n",
        "|  4 | Triple    |  3 | 6 | 9 | 12 | 15 | 18 | 21 | 24 | 27 |  30 | $\\ldots$ |\n",
        "|  5 | Square    |  1 | 4 | 9 | 16 | 25 | 36 | 49 | 64 | 81 | 100 | $\\ldots$ |\n",
        "|  6 | Prime     |  2 | 3 | 5 |  7 | 11 | 13 | 17 | 19 | 23 |  29 | $\\ldots$ |\n",
        "|  7 | Pi        |  3 | 1 | 4 |  1 |  5 |  9 |  2 |  6 |  5 |   3 | $\\ldots$ |\n",
        "|  8 | E         |  2 | 7 | 1 |  8 |  2 |  8 |  1 |  8 |  2 |   8 | $\\ldots$ |\n",
        "|  9 | Some      |  5 | 6 | 1 |  4 |  3 |  7 |  9 |  2 |  8 |  10 | $\\ldots$ |\n",
        "| 10 | Random    | 16 | 3 | 4 |  2 |  7 | 22 | 28 |  1 |  4 |   5 | $\\ldots$ |\n",
        "|  $\\ldots$ | $\\ldots$         |    |   |   |    |    |    |    |    |    |     |   |\n",
        "|  $k$ | $f_n(n) + 1$ |  1 | 3 | 7 | 13 | 26 | 14 |  3 |    |    |     | $\\ldots$ |\n",
        "|  $\\ldots$ | $\\ldots$         |    |   |   |    |    |    |    |    |    |     | $\\ldots$ |\n"
      ]
    },
    {
      "cell_type": "markdown",
      "metadata": {
        "id": "eGZHG-oFSReQ"
      },
      "source": [
        "## Claimed \"World's Shortest Explanation of G&ouml;del's Theorem\""
      ]
    },
    {
      "cell_type": "markdown",
      "metadata": {
        "id": "VCM7zw56Sg2Z"
      },
      "source": [
        "https://blog.plover.com/math/Gdl-Smullyan.html"
      ]
    },
    {
      "cell_type": "markdown",
      "metadata": {
        "id": "Mos0cAQ9SqWX"
      },
      "source": [
        "## More Explanation"
      ]
    },
    {
      "cell_type": "markdown",
      "metadata": {
        "id": "BkyzjNRaS5VX"
      },
      "source": [
        "G is equivalent to: \"For all $x$, $x$ is not (the code of) a proof of G.\"\n",
        "\n",
        "Abbreviate G&ouml;del Numbers as GNs hereafter. GNs are like the G&ouml;del Hashes you've seen before --- an encoding of some mathematical object as a pure number (positive integer).\n",
        "\n",
        "Let the columns of a new table be labeled with the GNs of formulas (wffs), and let the rows be labeled with GNs of proofs. We can arrange for these numbers to be in ascending order, both down the rows and across the columns.\n",
        "\n",
        "The function to find a fixed point for could be named \"the_code_of_a_proof_of\", taking a single argument ($n$), where $n$ is the GN of a wff. Call that function $f$.\n",
        "\n",
        "So $f_x(y)$ means $x$ is a proof of $y$ (where again, their GNs are used to represent $x$ and $y$).\n",
        "\n",
        "The values of $f_n(n)$ for all $n$ are the diagonal elements. Adding one to each is akin to negating the formula (saying \"is NOT a proof of\" instead of \"is a proof of\").\n",
        "\n",
        "Let $k$ be the GN of G.\n",
        "\n",
        "When the $k^{th}$ row meets the $k^{th}$ column is where the contradiction (like 0 = 1) occurs, where the entry must be the opposite of itself. This is where G says (of itself) \"I am not provable.\""
      ]
    },
    {
      "cell_type": "markdown",
      "metadata": {
        "id": "hY2NP9PAS56H"
      },
      "source": [
        "## Even More Explanation"
      ]
    },
    {
      "cell_type": "markdown",
      "metadata": {
        "id": "f3B5qDRkS_aL"
      },
      "source": [
        "From Rudy Rucker in *Mind Tools*, pages 223-4.\n",
        "\n",
        "Again, GN means G&ouml;del Number. S means sentence (a wff). #S means the computed GN of S.\n",
        "\n",
        "TNT means [Typographical Number Theory](https://en.wikipedia.org/wiki/Typographical_Number_Theory) (the formal system of choice).\n",
        "\n",
        "G is the sentence that says (of itself) \"I am not provable.\"\n",
        "\n",
        "$Pr(x)$ is the mathematical property that says \"$x$ is the GN of a sentence provable from TNT.\"\n",
        "\n",
        "$Pr(x)$ says something like \"there is a huge number that codes up a correct proof of the sentence with code $x$ from the axioms of TNT.\"\n",
        "\n",
        "The upshot is that if S is a sentence, then $Pr$(#S) means that S is provable in TNT.\n",
        "\n",
        "We next perform the technical trick that makes self-referential mathematical formulas possible.\n",
        "\n",
        "We define a function that takes a GN $k$ and returns another number called $Sub(k)$.\n",
        "\n",
        "Suppose that $k$ is the GN of a formula $K(x)$ that expresses a mathematical property of some variable $x$.\n",
        "\n",
        "(Thus $K$ might be \"$x$ is even\", or \"$x$ is a prime number\", or \"$x$ is greater than 10,000\".)\n",
        "\n",
        "So, we started with the number $k$ that is equal to #$K(x)$. Now we can plug the number $k$ into $K$, and get a mildly self-referential sentence $K(k)$.\n",
        "\n",
        "This sentence has its own GN, #$K(k)$, and it is this number we are going to call $Sub(k)$.\n",
        "\n",
        "In general, if $k$ is the GN of $K(x)$, then $Sub(k)$ is #$K(k)$, the GN of $K(k)$.\n",
        "\n",
        "Now let $E(x)$ be the property $\\lnot{}Pr(Sub(x))$ and then let $e$ be the GN of $E(x)$.\n",
        "\n",
        "Then G is just $E(e)$.\n",
        "\n",
        "|   |          |                                                     |                                                     |\n",
        "|---|----------|-----------------------------------------------------|-----------------------------------------------------|\n",
        "| G | $\\equiv$ | $E(e)$                                              | by definition                                       |\n",
        "|   | $\\equiv$ | $\\lnot{}Pr(Sub(e))$                                | by definition of $E(x)$   |\n",
        "|   | $\\equiv$ | $\\lnot{}Pr$(#$E(e)$)                               | by definition of $Sub$                              |\n",
        "|   | $\\equiv$ | #$E(e)$ is not the GN of a sentence provable in TNT | by definition of $Pr$                              |\n",
        "|   | $\\equiv$ | #G is not the GN of a sentence provable in TNT      | by definition of G                                  |\n",
        "|   | $\\equiv$ | G is not provable in TNT.                           |                                                     |\n"
      ]
    },
    {
      "cell_type": "markdown",
      "metadata": {
        "id": "BDISpl7RS_3t"
      },
      "source": [
        "## Even Still More Explanation"
      ]
    },
    {
      "cell_type": "markdown",
      "metadata": {
        "id": "HthJSCR_aJGF"
      },
      "source": [
        "Loosely adapted from Rudy Rucker in *Mind Tools*, pages 223-4.\n",
        "\n",
        "Again, GN means G&ouml;del Number. S means sentence (a wff). #S means the computed GN of S.\n",
        "\n",
        "TNT means [Typographical Number Theory](https://en.wikipedia.org/wiki/Typographical_Number_Theory) (the formal system of choice).\n",
        "\n",
        "Let's examine the sentence G that says (of itself) \"I am not provable.\"\n",
        "\n",
        "$Pr(x)$ is the mathematical property that says \"$x$ is the GN of a sentence provable from TNT.\"\n",
        "\n",
        "$Pr(x)$ says something like \"there is a huge number that codes up a correct proof of the sentence with code $x$ from the axioms of TNT.\"\n",
        "\n",
        "The upshot is that if S is a sentence, then $Pr$(#S) means that S is provable in TNT.\n",
        "\n",
        "Next we perform the **fixed point** technical trick G&ouml;del discovered that makes self-referential mathematical formulas possible.\n",
        "\n",
        "We define a function that takes a GN $k$ and returns another GN called $Sub(k)$.\n",
        "\n",
        "Suppose that $k$ is the GN of a formula $K(x)$ that expresses a mathematical property of some variable $x$.\n",
        "\n",
        "(Thus $K$ might be \"$x$ is even\", or \"$x$ is a prime number\", or \"$x$ is greater than 10,000\".)\n",
        "\n",
        "Think about listing the GNs of those properties generically named $K$ down therows of a table (like the functions table above). Then there would be a row (with GN) $k$.\n",
        "\n",
        "The columns of the table are the same GNs that label the rows. Where the row and column both equal $k$, their intersection **is the fixed point**. This is the case regardless of what specific value $k$ has.\n",
        "\n",
        "In other words, we started with the number $k$ that is equal to #$K(x)$. Then we plugged the number $k$ into $K$, and get a mildly self-referential sentence $K(k)$.\n",
        "\n",
        "This sentence has its own GN, #$K(k)$, and it is **this** number we are going to call $Sub(k)$.\n",
        "\n",
        "In short, if $k$ is the GN of $K(x)$, then $Sub(k)$ is #$K(k)$, the GN of $K(k)$.\n",
        "\n",
        "Now let $E(x)$ be the property $\\lnot{}Pr(Sub(x))$ and then let $e$ be the GN of $E(x)$.\n",
        "\n",
        "Then G is just $E(e)$.\n",
        "\n",
        "|   |          |                                                     |                                                     |\n",
        "|---|----------|-----------------------------------------------------|-----------------------------------------------------|\n",
        "| G | $\\equiv$ | $E(e)$                                              | by definition                                       |\n",
        "|   | $\\equiv$ | $\\lnot{}Pr(Sub(e))$                                | by definition of $E(x)$   |\n",
        "|   | $\\equiv$ | $\\lnot{}Pr$(#$E(e)$)                               | by definition of $Sub$                              |\n",
        "|   | $\\equiv$ | #$E(e)$ is not the GN of a sentence provable in TNT | by definition of $Pr$                              |\n",
        "|   | $\\equiv$ | #G is not the GN of a sentence provable in TNT      | by definition of G                                  |\n",
        "|   | $\\equiv$ | G is not provable in TNT.                           | by the inverse operation of going from                     |\n",
        "|   |          |          | a GN to the sentence it is the GN of. |\n"
      ]
    }
  ]
}