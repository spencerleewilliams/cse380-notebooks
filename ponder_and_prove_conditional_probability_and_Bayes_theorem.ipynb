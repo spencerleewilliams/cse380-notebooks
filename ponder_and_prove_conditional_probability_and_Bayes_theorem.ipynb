{
  "nbformat": 4,
  "nbformat_minor": 0,
  "metadata": {
    "colab": {
      "name": "Copy of ponder_and_prove_conditional_probability_and_Bayes_theorem.ipynb",
      "private_outputs": true,
      "provenance": [],
      "collapsed_sections": [
        "3VZLl2b8byS7",
        "tSUqeusUb2nE",
        "muxeYgQQKGEU"
      ],
      "include_colab_link": true
    },
    "kernelspec": {
      "display_name": "Python 3",
      "language": "python",
      "name": "python3"
    },
    "language_info": {
      "codemirror_mode": {
        "name": "ipython",
        "version": 3
      },
      "file_extension": ".py",
      "mimetype": "text/x-python",
      "name": "python",
      "nbconvert_exporter": "python",
      "pygments_lexer": "ipython3",
      "version": "3.9.0"
    }
  },
  "cells": [
    {
      "cell_type": "markdown",
      "metadata": {
        "id": "view-in-github",
        "colab_type": "text"
      },
      "source": [
        "<a href=\"https://colab.research.google.com/github/spencerleewilliams/cse380-notebooks/blob/master/ponder_and_prove_conditional_probability_and_Bayes_theorem.ipynb\" target=\"_parent\"><img src=\"https://colab.research.google.com/assets/colab-badge.svg\" alt=\"Open In Colab\"/></a>"
      ]
    },
    {
      "cell_type": "markdown",
      "metadata": {
        "id": "uas6fBg_cTMW"
      },
      "source": [
        "# **Ponder and Prove Conditional Probability and Bayes' Theorem**\n",
        "Due: Saturday, 13 February 2021, 11:59pm"
      ]
    },
    {
      "cell_type": "markdown",
      "metadata": {
        "id": "ndqbmxkZOjAq"
      },
      "source": [
        "# TODO Watch a Video on Bayes' Theorem"
      ]
    },
    {
      "cell_type": "markdown",
      "metadata": {
        "id": "gF3YCXyTP4aJ"
      },
      "source": [
        "[and making probability intuitive](https://www.youtube.com/watch?v=HZGCoVF3YvM), 15.75 minutes long."
      ]
    },
    {
      "cell_type": "markdown",
      "metadata": {
        "id": "uwXpPms8Mgb3"
      },
      "source": [
        "# TODO Apply Bayes’ Theorem"
      ]
    },
    {
      "cell_type": "markdown",
      "metadata": {
        "id": "lB2cIND7Mcu7"
      },
      "source": [
        "\n",
        "Automating the process of finding bugs in source code requires the use of heuristics, or pattern-matching on the code. There is no deep understanding of the code involved, hence such a tool cannot be perfect at detecting bugs. A certain bug-detection tool is correct 80% of the time and incorrect the rest of the time. This means that on average out of every 100 bugs, the tool will detect 80 of them, and fail to detect 20 of them. Also, out of 100 non-bugs, the tool will report 20 bugs and 80 non-bugs, on average. The tool is run on source code that is 10% buggy. That is, one line out of every ten contains a bug. Given that the tool detects a bug in some line of code, what is the probability that this line of code actually contains a bug?"
      ]
    },
    {
      "cell_type": "markdown",
      "metadata": {
        "id": "5-n4sziEXqk6"
      },
      "source": [
        "Let B = Bug\r\n",
        "\r\n",
        "Let T = Found a bug\r\n",
        "\r\n",
        "P(B) = 0.1\r\n",
        "\r\n",
        "P(!B) = 0.9\r\n",
        "\r\n",
        "P(T|B) = 0.8\r\n",
        "\r\n",
        "P(T|!B) = 0.2\r\n",
        "\r\n",
        "P(!T|!B) = 0.8\r\n",
        "\r\n",
        "P(!T|B) = 0.2\r\n",
        "\r\n",
        "Want: P(B|T)\r\n",
        "\r\n",
        "$$P(B|T) = \\frac{P(T|B)P(B)}{P(T|B)P(B) + P(T|!B)P(!B)}$$\r\n",
        "\r\n",
        "$$= \\frac{0.8(0.1)}{0.8(0.1) + (0.2)(0.9)} = \\frac{0.08}{0.26} = 0.3077$$"
      ]
    },
    {
      "cell_type": "markdown",
      "metadata": {
        "id": "fcvmte7xawPl"
      },
      "source": [
        "# TODO Compute Four Leaves"
      ]
    },
    {
      "cell_type": "markdown",
      "metadata": {
        "id": "motP9549ZMxc"
      },
      "source": [
        "\n",
        "Using the information in the previous task, calculate to two-decimal-digit precision, the values that go at the leaves of the binary tree shown below:\n",
        "\n",
        "![fig-binary-tree-with-four-leaves.png](data:image/png;base64,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)"
      ]
    },
    {
      "cell_type": "markdown",
      "metadata": {
        "id": "JzJxbCRCZ01-"
      },
      "source": [
        "The value that goes at leaf number 1 is calculated by $P(H) \\cdot P(T|H)$. The other three values are calculated similarly.\n",
        "\n",
        "Hint: The four leaves correspond to the four quadrants of trutH versus tesT described in this brief introduction to [Bayes' Theorem](https://byui-cse.github.io/cse380-course/Bayes-Theorem.pdf). (Compare this to the video you watched.)\n",
        "\n",
        "### Put your answers here:\n",
        "\n",
        "1.  $P(H) \\cdot P(T|H)$ = (.1)(.8) = 0.08 \n",
        "\n",
        "\n",
        "2.  $P(H) \\cdot P(!T|H)$ = (.1)(.2) = 0.02 \n",
        "\n",
        "\n",
        "3.  $P(!H) \\cdot P(T|!H)$ = (.9)(.2) = 0.18 \n",
        "\n",
        "\n",
        "4.  $P(!H) \\cdot P(!T|!H)$ = (.9)(.8) = 0.72 \n",
        "\n",
        "\n",
        "\n"
      ]
    },
    {
      "cell_type": "markdown",
      "metadata": {
        "id": "L6Wg740LZf0h"
      },
      "source": [
        "$\\color{red}{\\text{Nice!}}$"
      ]
    },
    {
      "cell_type": "markdown",
      "metadata": {
        "id": "EO4g44kGbGh6"
      },
      "source": [
        "# TODO Apply Your Probability Knowledge\n",
        "\n"
      ]
    },
    {
      "cell_type": "markdown",
      "metadata": {
        "id": "FaNSq3v0bQDI"
      },
      "source": [
        "There are three sheets of paper in a folder. One sheet has writing on both sides, one has writing on one side and is blank on the other side, and the third sheet of paper is blank on both sides. Without looking you randomly pull one sheet of paper out of the folder and see that it is blank on the side you're looking at. What is the probability that the other side is blank as well?"
      ]
    },
    {
      "cell_type": "markdown",
      "metadata": {
        "id": "OaAvh2yYYE0B"
      },
      "source": [
        "*Note: refer to 06_4 Wrapping_Up_Week_Six\r\n",
        "\r\n",
        "Let E = chose BB. (Both Blank)\r\n",
        "\r\n",
        "Let F = chose BW. (Blank and Written)\r\n",
        "\r\n",
        "Let G = chose WW. (Both Written)\r\n",
        "\r\n",
        "Let S = see B.\r\n",
        "\r\n",
        "Want to know P(E|S).\r\n",
        "\r\n",
        "P(E) = P(F) = P(G) = 1/3.\r\n",
        "\r\n",
        "P(S|E) = 1.\r\n",
        "\r\n",
        "P(S|F) = 1/2.\r\n",
        "\r\n",
        "P(S|G) = 0.\r\n",
        "\r\n",
        "So by BTG:\r\n",
        "\r\n",
        "$$P(E|S) = \\frac{P(S|E)P(E)}{P(S|E)P(E) + P(S|F)P(F) + P(S|G)P(G)}$$\r\n",
        "\r\n",
        "$$= \\frac{1(1/3)}{1(1/3) + (1/2)(1/3) + 0(1/3)} = \\frac{1}{(1 + 1/2)} = \\frac{1}{3/2} = 2/3.$$"
      ]
    },
    {
      "cell_type": "markdown",
      "metadata": {
        "id": "YtEHGpz3ZbdC"
      },
      "source": [
        "$\\color{red}{\\text{Correct!}}$"
      ]
    },
    {
      "cell_type": "markdown",
      "metadata": {
        "id": "3VZLl2b8byS7"
      },
      "source": [
        "# TODO Apply Bayes Theorem Generalized"
      ]
    },
    {
      "cell_type": "markdown",
      "metadata": {
        "id": "uwkiPKzibWto"
      },
      "source": [
        "Three different vegetables, turnips, eggplant and asparagus, make Bill sick sometimes. There is a 50% chance he will be sick if he eats turnips. If he eats eggplant, there is a 20% chance he will be sick. The probability that he will be sick when he eats asparagus is only 5%.\n",
        "\n",
        "Bill gets sick after dinner where he ate one of those three vegetables. What is the probability that he ate turnips?\n",
        "\n",
        "(Assume that for each of the three vegetables, there is a 1/3 chance he ate it.)"
      ]
    },
    {
      "cell_type": "markdown",
      "metadata": {
        "id": "qVYPmNwlYJBY"
      },
      "source": [
        "Let T = Ate turnips\r\n",
        "\r\n",
        "Let E = Ate an eggplant\r\n",
        "\r\n",
        "Let A = Ate an asparagus\r\n",
        "\r\n",
        "Let S = Gets sick\r\n",
        "\r\n",
        "P(T) = P(E) = P(A) = 1/3\r\n",
        "\r\n",
        "P(S|T) = 1/2.\r\n",
        "\r\n",
        "P(S|E) = 1/5.\r\n",
        "\r\n",
        "P(S|A) = 1/20.\r\n",
        "\r\n",
        "Probability P(T|S)?\r\n",
        "\r\n",
        "$$P(T|S) = \\frac{P(S|T)P(T)}{P(S|T)P(T) + P(S|E)P(E) + P(S|A)P(A)}$$\r\n",
        "\r\n",
        "$$= \\frac{(1/2)(1/3)}{(1/2)(1/3) + (1/5)(1/3) + (1/20)(1/3)} = \\frac{1/6}{(1/6 + 1/15 + 1/60)} = \\frac{1/6}{1/4} = 2/3.$$\r\n"
      ]
    },
    {
      "cell_type": "markdown",
      "metadata": {
        "id": "6_UfA3VIZiLJ"
      },
      "source": [
        "$\\color{red}{\\text{Correct!}}$"
      ]
    },
    {
      "cell_type": "markdown",
      "metadata": {
        "id": "tSUqeusUb2nE"
      },
      "source": [
        "# TODO Apply Bayes Theorem Generalized With Different **Priors**"
      ]
    },
    {
      "cell_type": "markdown",
      "metadata": {
        "id": "eW3cfJu-cFlZ"
      },
      "source": [
        "Change the prior probabilities of Bill eating these vegetables to a 30% chance he ate turnips, a 10% chance he ate eggplant, and a 60% chance he ate asparagus.\n",
        "\n",
        "Now what is the probability that Bill ate turnips, given that he got sick?\n"
      ]
    },
    {
      "cell_type": "markdown",
      "metadata": {
        "id": "MSNA30HSYJ_E"
      },
      "source": [
        "Use the same formula, but replace P(E) with 0.1, P(A) with 0.6 and P(T) with 0.3 \r\n",
        "\r\n",
        "$$P(T|S) = \\frac{P(S|T)P(T)}{P(S|T)P(T) + P(S|E)P(E) + P(S|A)P(A)}$$\r\n",
        "\r\n",
        "$$= \\frac{(0.5)(0.3)}{(0.5)(0.3) + (0.2)(0.1) + (0.05)(0.6)} = \\frac{0.15}{(0.15 + 0.02 + 0.03)} = \\frac{0.15}{0.2} = 3/4.$$\r\n",
        "\r\n"
      ]
    },
    {
      "cell_type": "markdown",
      "metadata": {
        "id": "cjK2NUJBZka5"
      },
      "source": [
        "$\\color{red}{\\text{Right again, nice work!}}$"
      ]
    },
    {
      "cell_type": "markdown",
      "metadata": {
        "id": "81dbKwHenxnT"
      },
      "source": [
        "# TODO My Report on What I Did and What I Learned"
      ]
    },
    {
      "cell_type": "markdown",
      "metadata": {
        "id": "C8BeiIern33B"
      },
      "source": [
        "## Fun\n",
        "\n",
        "- I had fun watching the video as part of the ponder and prove assignment. I always enjoy watching three blue one brown's videos as he provides the best explanations and visuals to many fields of STEM learning. I am a visual learning and enjoy learning from youtube videos about new and familiar things. I believe it is good to have more formal and informal learning experiences in everything that you do. This was a good video and I hope we will be able to watch more related to discrete mathematics."
      ]
    },
    {
      "cell_type": "markdown",
      "metadata": {
        "id": "OzOkZ3son-u9"
      },
      "source": [
        "## New\n",
        "\n",
        "- One new thing that I'm glad to learn is the fact the machine learning uses Bayes' Theorem to determine the modification of AI to make decisions. Machine Learning is a possible field of application that I am interested in doing after college as a career. The fact that Bayes's theorem is heavily involved with machine learning motivates me to learn more. I would recommend watching part two of the video we watched from the ponder and prove.\n",
        "\n",
        " https://www.youtube.com/watch?v=U_85TaXbeIo"
      ]
    },
    {
      "cell_type": "markdown",
      "metadata": {
        "id": "mJHvoj6GokaZ"
      },
      "source": [
        "## Meaningful\n",
        "\n",
        "- I felt further practicing my skills in solving probability problems and applying them to combinatoric and conditional probability via Bayes' Theorem has been a useful experience for my time. The ponder and prove provides an example that I can refer back to for my engineering statistics class and future problems to solving different types of probabilities (independent vs. conditional events). I can also use this ponder and prove as a reference when further researching specific applications with Bayes' Theorem like, with machine learning."
      ]
    },
    {
      "cell_type": "markdown",
      "metadata": {
        "id": "CvFLB7eWozwF"
      },
      "source": [
        "## Response\n",
        "\n",
        "- One of the most exciting applications that I learned to Bayes' Theorem was that it relates to machine learning. The modification of belief, rather than changing belief when presented with new evidence, is never a thought I associated with probability. The claim to quantifiable belief with probability fascinates me. Until the video asked how often do we actually compare the ratios of predications, I didn't realize how important it was to quantify belie juxtapose our biases or attempt to update our beliefs when presented with new evidence. Bayes' Theorem, in this context, becomes much more than simply solving a probability when given a condition, but a way to adapt and grow to new circumstances. For these reasons, I am fascinated that machine learning uses Bayes' Theorem and hope to learn more about the specific applications in that field."
      ]
    },
    {
      "cell_type": "markdown",
      "metadata": {
        "id": "_RBE03fhpNUG"
      },
      "source": [
        "## Connections\n",
        "\n",
        "- This semester I am currently taking engineering statistics. In that course, we have also learned about Bayes' Theorem and conditional probability. Why it is useful and how to apply it. This has helped me understand and build upon the material that I have learned from that class to progress my learning in this one too. However, I would say that this course's perspective into the application and meaning of Bayes' Theorem has, especially after watching the video, has helped me see why this theorem is useful in the real world. Everything we decide or decide not to do has a probability of success and failure. Considering the discussion we had, I would also say that understanding probability also helps me understand how to define truth inside and outside of the classroom.\n",
        "\n"
      ]
    },
    {
      "cell_type": "markdown",
      "metadata": {
        "id": "KQBtSv4BbUSB"
      },
      "source": [
        "\r\n",
        "## Collaborator Contributions\r\n",
        "\r\n",
        "- Michael Hegerhorst & Claire Hocker: Understand what the first two problems were asking."
      ]
    },
    {
      "cell_type": "markdown",
      "metadata": {
        "id": "CASZ3DpnZs4Z"
      },
      "source": [
        "$\\color{red}{\\text{The cell with the checkboxes should remain on the page, but all the other grading cells should be deleted.}}$"
      ]
    },
    {
      "cell_type": "markdown",
      "metadata": {
        "id": "K7pjetzraEsC"
      },
      "source": [
        "$\\color{red}{\\text{Great work!}}$"
      ]
    },
    {
      "cell_type": "code",
      "metadata": {
        "id": "xY49c9I3aD1U"
      },
      "source": [
        ""
      ],
      "execution_count": null,
      "outputs": []
    }
  ]
}