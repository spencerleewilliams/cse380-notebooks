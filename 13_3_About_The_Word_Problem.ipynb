{
  "nbformat": 4,
  "nbformat_minor": 0,
  "metadata": {
    "colab": {
      "name": "13_3_About_The_Word_Problem.ipynb",
      "provenance": [],
      "include_colab_link": true
    },
    "kernelspec": {
      "name": "python3",
      "display_name": "Python 3"
    },
    "language_info": {
      "name": "python"
    }
  },
  "cells": [
    {
      "cell_type": "markdown",
      "metadata": {
        "id": "view-in-github",
        "colab_type": "text"
      },
      "source": [
        "<a href=\"https://colab.research.google.com/github/spencerleewilliams/cse380-notebooks/blob/master/13_3_About_The_Word_Problem.ipynb\" target=\"_parent\"><img src=\"https://colab.research.google.com/assets/colab-badge.svg\" alt=\"Open In Colab\"/></a>"
      ]
    },
    {
      "cell_type": "markdown",
      "metadata": {
        "id": "7w-e7K1zR6dT"
      },
      "source": [
        "# About The Word Problem\n",
        "## Class Directed Learning\n",
        "### Due: Wednesday, 31 March 2021, 11:59 pm"
      ]
    },
    {
      "cell_type": "markdown",
      "metadata": {
        "id": "OKTH2yDFSLDU"
      },
      "source": [
        "## Non-Recursive Mathematics"
      ]
    },
    {
      "cell_type": "markdown",
      "metadata": {
        "id": "8rQqj4OmSQmV"
      },
      "source": [
        "This is an excerpt from Roger Penrose's *The Emperor's New Mind*:\n",
        "\n",
        "> Let us consider a different type of problem, called the word problem.\n",
        "\n",
        "> Suppose that we have some alphabet of symbols, and we consider various strings of these symbols, referred to as words. The words need not in themselves have any meaning, but we shall be given a certain (finite) list of 'equivalences' between them which we are allowed to use in order to derive further such 'equivalences'. This is done by making substitutions of words from the initial list into other (normally longer) words which contain them as portions. Each such portion may be replaced by another portion which is deemed to be equivalent to it according to the list. The problem is then to decide, for some given pair of words, whether or not they are 'equivalent' according to these rules.\n",
        "\n",
        "> As an example, we might have, for our initial list:\n",
        "\n",
        "> 1. EAT $\\equiv$ AT\n",
        "2. ATE $\\equiv$ A\n",
        "3. LATER $\\equiv$ LOW\n",
        "4. PAN $\\equiv$ PILLOW\n",
        "5. CARP $\\equiv$ ME.\n",
        "\n",
        "> From these we can derive, for example, LAP $\\equiv$ LEAP by use of successive substitutions from the second (going right-to-left), the first (going right-to-left), and again the second (this time going left-to-right) of the relations from the initial list:\n",
        "\n",
        "> LAP $\\equiv$ LATEP $\\equiv$ LEATEP $\\equiv$ LEAP.\n",
        "\n",
        "> The problem now is, given some pair of words, can we get from one to the other simply using such substitutions? Can we, for example, get from CATERPILLAR to MAN, or, say, from CARPET to MEAT?\n",
        "\n",
        "> When the answer is 'yes', the normal way to show this would be simply to exhibit a string of equivalences where each word is obtained from the preceding one by use of an allowed relation. Thus:\n",
        "\n",
        "> CATERPILLAR $\\equiv$ CARPILLAR $\\equiv$ CARPILLATER\n",
        "\n",
        "> $\\equiv$ CARPILLOW $\\equiv$ CARPAN $\\equiv$ MEAN $\\equiv$ MEATEN $\\equiv$ MATEN $\\equiv$ MAN.\n",
        "\n",
        "> How can we tell whether or not it is impossible to get from CARPET to MEAT by means of the allowed rules? For this, we need to think a little more, but it is not hard to see, in a variety of different ways. The simplest appears to be the following: in every 'equivalence' in our initial list, the number of As plus the number of Ws plus the number of Ms is the same on each side. Thus the total number of As, Ws, and Ms cannot change throughout any succession of allowed substitutions.\n",
        "\n",
        "> However, for CARPET this number is 1 whereas for MEAT it is 2.\n",
        "\n",
        "> Consequently, there is no way of getting from CARPET to MEAT by allowed substitutions.\n",
        "\n",
        "> Notice that when the two words are 'equivalent' we can show this simply by exhibiting an allowed formal string of symbols, using the rules that we had been given; whereas in the case where they are 'inequivalent', we had to resort to arguments about the rules that we had been given. There is a clear algorithm that we can use to establish 'equivalence' between words whenever the words are in fact 'equivalent'. All we need do is to make a lexicographical listing of all the possible sequences of words, and then strike from this list any such string for which there is a pair of consecutive words where the second does not follow from the first by an allowed rule. The remaining sequences will provide all the sought-for 'equivalences' between words. However, there is no such obvious algorithm, in general, for deciding when two words are not 'equivalent', and we may have to resort to 'intelligence' in order to establish that fact.\n",
        "\n",
        "> [...]\n",
        "\n",
        "> Intelligence, incidentally, is useful although not necessary also for establishing the existence of an 'equivalence'. In fact, for the particular list of five 'equivalences' that constitute the initial list in the above case, it is not unduly difficult to provide an algorithm for ascertaining that two words are 'inequivalent' when they are indeed 'inequivalent'. However, in order to find the algorithm that works in this case we need to exercise a certain amount of intelligence! Indeed, it turns out that there is no single algorithm which can be used universally for all possible choices of initial list. In this sense there is no algorithmic solution to the word problem [in the general case].\n",
        "\n",
        "> The general word problem belongs to non-recursive mathematics!\n",
        "\n",
        "> There are even certain particular selections of initial list for which there is no algorithm for deciding when two words are 'inequivalent'. One such is given by\n",
        "\n",
        "> 1. AH $\\equiv$ HA\n",
        "2. OH $\\equiv$ HO\n",
        "3. AT $\\equiv$ TA\n",
        "4. OF $\\equiv$ TO\n",
        "5. TAI $\\equiv$ IT\n",
        "6. HOI $\\equiv$ IH\n",
        "7. THAT $\\equiv$ ITHT\n",
        "\n",
        "> (This list is adapted from one given in 1955 by G. S. Tseitin and Dana Scott; see Gardner 1958, p. 144.)\n",
        "\n",
        "> Thus this particular word problem by itself is an example of non-recursive mathematics, in the sense that using this particular initial list we cannot algorithmically decide whether or not two given words are 'equivalent'.\n",
        "\n",
        "> The general word problem arose from considerations of formalized mathematical logic ('formal systems' etc., as we considered earlier).\n",
        "\n",
        "> The initial list plays the role of an axiom system and the substitution rule for words, the role of the formal rules of procedure. The proof of non-recursiveness for the word problem arises from such considerations."
      ]
    },
    {
      "cell_type": "markdown",
      "metadata": {
        "id": "7vCbfMLP8nHa"
      },
      "source": [
        "## TODO Try Some"
      ]
    },
    {
      "cell_type": "markdown",
      "metadata": {
        "id": "cTEP6-UX8s0S"
      },
      "source": [
        "(This is the same set of equivalences as above.)\n",
        "\n",
        "1. EAT $\\equiv$ AT\n",
        "2. ATE $\\equiv$ A\n",
        "3. LATER $\\equiv$ LOW\n",
        "4. PAN $\\equiv$ PILLOW\n",
        "5. CARP $\\equiv$ ME\n",
        "\n",
        "An easy one: is LAP $\\equiv$ LEAP?"
      ]
    },
    {
      "cell_type": "markdown",
      "metadata": {
        "id": "dKZHEdK2_2IB"
      },
      "source": [
        " LAP $\\equiv$ LATEP $\\equiv$ LEATEP $\\equiv$ LEAP"
      ]
    },
    {
      "cell_type": "markdown",
      "metadata": {
        "id": "Ho76jbsv9RJZ"
      },
      "source": [
        "### Answer"
      ]
    },
    {
      "cell_type": "markdown",
      "metadata": {
        "id": "GgSV9bPM9WVp"
      },
      "source": [
        "Yes, shown by the following:\n",
        "\n",
        "| Equivalence           | By Which Rule? | Applied in Which Direction? |\n",
        "|-----------------------|:--------------:|-----------------------------|\n",
        "| LAP $\\equiv$ LATEP    |              2 | right-to-left               |\n",
        "| LATEP $\\equiv$ LEATEP |              1 | right-to-left               |\n",
        "| LEATEP $\\equiv$ LEAP  |              2 | left-to-right               |\n",
        "\n",
        "You do these two, using tables like the one above:\n",
        "\n",
        "1. Is CATERPILLAR $\\equiv$ MAN?\n",
        "2. Is CARPET $\\equiv$ MEAT?\n",
        "\n"
      ]
    },
    {
      "cell_type": "markdown",
      "metadata": {
        "id": "ZYoqWFAi9s-4"
      },
      "source": [
        "## TODO Be Creative"
      ]
    },
    {
      "cell_type": "markdown",
      "metadata": {
        "id": "PeRt2x6U9vgY"
      },
      "source": [
        "Working together, come up with your own instance of a word problem, with at least five (5) equivalences. Find at least one pair of words that you can show are equivalent, as in the examples shown. Find at least one pair of words that you can reason are **NOT** equivalent."
      ]
    },
    {
      "cell_type": "markdown",
      "metadata": {
        "id": "2PvjEfYABzOs"
      },
      "source": [
        "1. A $\\equiv$ O\n",
        "2. N $\\equiv$ W\n",
        "3. ER $\\equiv$ C\n",
        "4. K $\\equiv$ FU\n",
        "5. E $\\equiv$ L\n",
        "\n",
        "PANCAKE $\\equiv$ PONCAKE\n",
        "\n",
        "PONCAKE $\\equiv$ POWCAKE\n",
        "\n",
        "POWCAKE $\\equiv$ POWERKE\n",
        "\n",
        "POWERKE $\\equiv$ POWERFUE\n",
        "\n",
        "POWERFUE $\\equiv$ POWERFUL\n",
        "\n",
        "Banana to owl is not equivalent as none of the set equivalences include the letter b."
      ]
    },
    {
      "cell_type": "markdown",
      "metadata": {
        "id": "8S__AVs1Sxxx"
      },
      "source": [
        "### Hints"
      ]
    },
    {
      "cell_type": "markdown",
      "metadata": {
        "id": "XWCqLvlxSzFm"
      },
      "source": [
        "Think about picking a word with a substring that is also a word. Then play with a series of words that would give you another actual word in a different position of the overall string. It will be easier if you make most of the words in your rules monosyllabic."
      ]
    },
    {
      "cell_type": "markdown",
      "metadata": {
        "id": "JsiYKItw_Wzh"
      },
      "source": [
        "## Musings"
      ]
    },
    {
      "cell_type": "markdown",
      "metadata": {
        "id": "wyP1IVudAQGq"
      },
      "source": [
        "Question: in what ways are CATERPILLAR and MAN equivalent?\n"
      ]
    },
    {
      "cell_type": "markdown",
      "metadata": {
        "id": "33-gL9XvBOFB"
      },
      "source": [
        "Compared to the set of equivalences, the total sum of As, Ms, and Ws are the same. They are both equivalent in the sense that they become something more over time, a caterpillar to a butterfly and a man to a husband/father."
      ]
    },
    {
      "cell_type": "markdown",
      "metadata": {
        "id": "HJ6gatf5ARC7"
      },
      "source": [
        "### Answer\n"
      ]
    },
    {
      "cell_type": "markdown",
      "metadata": {
        "id": "ImjtATCDASwF"
      },
      "source": [
        "Caterpillars live their life so that one day they might become something more majestic then they could imagine, a butterfly soaring through the sky --- no more dredging through the terrestrial world. Man is equivalent in that we can become like our Father in Heaven to no more walk this terrestrial earth, but to live and become something more majestic than we are now.\n",
        "\n",
        "Another answer, Caterpillar$^{\\texttt{TM}}$ equipment can lift and move heavy loads that normally would not be possible alone. We have the unique ability to lift and help others move or carry heavy burdens by kind simple words.\n",
        "\n",
        "Those are just some of my thoughts of how CATERPILLAR and MAN are equivalent.\n"
      ]
    }
  ]
}