{
  "nbformat": 4,
  "nbformat_minor": 0,
  "metadata": {
    "colab": {
      "name": "13_5_Wrapping_Up_Week_Thirteen.ipynb",
      "provenance": [],
      "include_colab_link": true
    },
    "kernelspec": {
      "name": "python3",
      "display_name": "Python 3"
    },
    "language_info": {
      "name": "python"
    }
  },
  "cells": [
    {
      "cell_type": "markdown",
      "metadata": {
        "id": "view-in-github",
        "colab_type": "text"
      },
      "source": [
        "<a href=\"https://colab.research.google.com/github/spencerleewilliams/cse380-notebooks/blob/master/13_5_Wrapping_Up_Week_Thirteen.ipynb\" target=\"_parent\"><img src=\"https://colab.research.google.com/assets/colab-badge.svg\" alt=\"Open In Colab\"/></a>"
      ]
    },
    {
      "cell_type": "markdown",
      "metadata": {
        "id": "2xFikt2_Nvsi"
      },
      "source": [
        "# Wrapping Up Week Thirteen\n",
        "## Answer Selected Questions"
      ]
    },
    {
      "cell_type": "markdown",
      "metadata": {
        "id": "a6iLPpQwN1T-"
      },
      "source": [
        "## 1"
      ]
    },
    {
      "cell_type": "markdown",
      "metadata": {
        "id": "cfvgk5JqN3IA"
      },
      "source": [
        "This week's CDL looks very similar to the DPC we did about paths in word graphs.\n",
        "\n",
        "I find it interesting to think about how if each 'letter' has a meaning and putting it together with other letters gives it a more specific meaning, then say that the language is infinitely long, then you could have the whole history of the world in one 'word'. Although I suppose that is describing a library with all the books ever written in it."
      ]
    },
    {
      "cell_type": "markdown",
      "metadata": {
        "id": "dPieuTQCN5Di"
      },
      "source": [
        "### Answer"
      ]
    },
    {
      "cell_type": "markdown",
      "metadata": {
        "id": "lcqZr4l9N6a7"
      },
      "source": [
        "See [Words and Rules](http://monoskop.org/images/9/9e/Pinker_Steven_Words_and_rules_the_ingredients_of_language_1999.Pdf) by Steven Pinker, Chapter 1, *The Infinite Library*."
      ]
    },
    {
      "cell_type": "markdown",
      "metadata": {
        "id": "dvrCMijvOJzF"
      },
      "source": [
        "## 2"
      ]
    },
    {
      "cell_type": "markdown",
      "metadata": {
        "id": "YtuIwLEvOJzG"
      },
      "source": [
        "Where did you get that \"bit of mystical speculation\" by Schr&ouml;dinger in this week's discussion?"
      ]
    },
    {
      "cell_type": "markdown",
      "metadata": {
        "id": "jjKvVwIHOJzH"
      },
      "source": [
        "### Answer"
      ]
    },
    {
      "cell_type": "markdown",
      "metadata": {
        "id": "jfH32JjvOJzI"
      },
      "source": [
        "[From a book!](https://rickneff.github.io/philosophical-computation.pdf)"
      ]
    },
    {
      "cell_type": "markdown",
      "metadata": {
        "id": "lFc8_fOLOIO6"
      },
      "source": [
        "## 3"
      ]
    },
    {
      "cell_type": "markdown",
      "metadata": {
        "id": "WT29iQIPOIO8"
      },
      "source": [
        "What are some recommended readings to continue the learning that we have started in this class?"
      ]
    },
    {
      "cell_type": "markdown",
      "metadata": {
        "id": "tsdaiH_NOIO8"
      },
      "source": [
        "### Answer"
      ]
    },
    {
      "cell_type": "markdown",
      "metadata": {
        "id": "XSqvGjy4OIO8"
      },
      "source": [
        "[A former student == I] would recommend two books for those who would want to continue learning. These are books that I read for another class a while ago. The first is *String, Straightedge, and Shadow: The Story of Geometry* by Julia E. Diggins. The second is *A Beginner's Guide to Constructing the Universe: The Mathematical Archetypes of Nature, Art, and Science* by Michael S. Schneider. Both of these books are not as technical as some of the things that we have been doing, but there is truth in them to be had for those who search."
      ]
    },
    {
      "cell_type": "markdown",
      "metadata": {
        "id": "fml5eUlYl5jC"
      },
      "source": [
        "#### My Answer"
      ]
    },
    {
      "cell_type": "markdown",
      "metadata": {
        "id": "njSDx1AEl8PH"
      },
      "source": [
        "See [Books I Have Enjoyed --- Or Plan To!](https://colab.research.google.com/drive/1_j-gMACddjxiMAbLGYh08Hcl9DW_YTow?usp=sharing)"
      ]
    },
    {
      "cell_type": "markdown",
      "metadata": {
        "id": "7JtlITxYOJ6z"
      },
      "source": [
        "## 4"
      ]
    },
    {
      "cell_type": "markdown",
      "metadata": {
        "id": "i1Nm9BJ5OJ6z"
      },
      "source": [
        "Josh Nestman:\n",
        "\n",
        "> As our time draws to a close in DM2, if you had to leave us with one last bit of advice or direction moving forward, what would you tell us? A final take away, so to speak."
      ]
    },
    {
      "cell_type": "markdown",
      "metadata": {
        "id": "PY6nQGsAOJ6z"
      },
      "source": [
        "### Answer"
      ]
    },
    {
      "cell_type": "markdown",
      "metadata": {
        "id": "haa-pKTPOJ60"
      },
      "source": [
        "Apply the gersy principle daily!\n",
        "\n",
        "(And see below.)"
      ]
    },
    {
      "cell_type": "markdown",
      "metadata": {
        "id": "3RB-K5t8OKBT"
      },
      "source": [
        "## 5"
      ]
    },
    {
      "cell_type": "markdown",
      "metadata": {
        "id": "PttphUr6OKBU"
      },
      "source": [
        "Paul Semadeni:\n",
        "\n",
        "> Brother Neff, you have many years of experience, professionally and educationally, in computer science. Apparently you have been very successful in this field. What are some tips you would give to those of us searching for jobs and internships, who want to become successful computer scientists?"
      ]
    },
    {
      "cell_type": "markdown",
      "metadata": {
        "id": "zDN8JKm6OKBU"
      },
      "source": [
        "### Answer"
      ]
    },
    {
      "cell_type": "markdown",
      "metadata": {
        "id": "Pq9pEZ5gOKBU"
      },
      "source": [
        "Cultivate a healthy curiosity about this amazing field.\n",
        "\n",
        "Read whatever you can that intrigues you.\n",
        "\n",
        "Watch **quality** videos, e.g., [3Blue1Brown](https://www.3blue1brown.com).\n",
        "\n",
        "Teach to learn. Help, lift and bless others around you.\n",
        "\n",
        "(And see below.)"
      ]
    },
    {
      "cell_type": "markdown",
      "metadata": {
        "id": "I0sxgpFYOKEf"
      },
      "source": [
        "## 6"
      ]
    },
    {
      "cell_type": "markdown",
      "metadata": {
        "id": "g34M2nfYOKEf"
      },
      "source": [
        "Michael Hegerhorst:\n",
        "\n",
        "> I am starting a Master's program for Computer Science this Fall. What tips would you have to get the most out of it? What should I do to prepare?"
      ]
    },
    {
      "cell_type": "markdown",
      "metadata": {
        "id": "Y9guXVO4OKEf"
      },
      "source": [
        "### Answer"
      ]
    },
    {
      "cell_type": "markdown",
      "metadata": {
        "id": "FnV6XCjkOKEf"
      },
      "source": [
        "My tips above apply here too!\n",
        "\n",
        "Also, write some code, a little every (work)day, enhancing and improving some personal project that motivates you to hone your programming skills.\n",
        "\n",
        "Finally, for everyone reading this, you all know my most important advice, but I cannot emphasize it strongly enough.\n",
        "\n",
        "Seek learning, even by study and also by faith.\n",
        "\n",
        "Exercise faith in the Lord Jesus Christ, repent daily, and keep your covenants.\n",
        "\n",
        "Spiritual food is every bit as needful as physical food --- don't neglect your spirit!\n",
        "\n",
        "Read or watch the talk by Elder J&ouml;rg Klebingat of the Seventy: [Approaching the Throne of God with Confidence](https://www.churchofjesuschrist.org/study/general-conference/2014/10/approaching-the-throne-of-god-with-confidence?lang=eng)\n",
        "from October 2014 Conference.\n",
        "\n",
        "**Of course, pay close attention to Conference this weekend!**\n"
      ]
    }
  ]
}