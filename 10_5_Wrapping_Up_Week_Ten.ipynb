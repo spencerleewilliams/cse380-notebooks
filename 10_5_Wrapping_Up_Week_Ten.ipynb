{
  "nbformat": 4,
  "nbformat_minor": 0,
  "metadata": {
    "colab": {
      "name": "10_5_Wrapping_Up_Week_Ten.ipynb",
      "provenance": [],
      "authorship_tag": "ABX9TyNQMuTJwsKF0t/CbS+6CwPW",
      "include_colab_link": true
    },
    "kernelspec": {
      "name": "python3",
      "display_name": "Python 3"
    }
  },
  "cells": [
    {
      "cell_type": "markdown",
      "metadata": {
        "id": "view-in-github",
        "colab_type": "text"
      },
      "source": [
        "<a href=\"https://colab.research.google.com/github/byui-cse/cse380-notebooks/blob/master/10_5_Wrapping_Up_Week_Ten.ipynb\" target=\"_parent\"><img src=\"https://colab.research.google.com/assets/colab-badge.svg\" alt=\"Open In Colab\"/></a>"
      ]
    },
    {
      "cell_type": "markdown",
      "metadata": {
        "id": "T44byWeaNckf"
      },
      "source": [
        "# Wrapping Up Week Ten\n",
        "## Answer Selected Questions"
      ]
    },
    {
      "cell_type": "markdown",
      "metadata": {
        "id": "BpeWP_YXNwh2"
      },
      "source": [
        "## 1"
      ]
    },
    {
      "cell_type": "markdown",
      "metadata": {
        "id": "_HdFRQO-N3L5"
      },
      "source": [
        "What is the closed-form formula for $f(n)$?"
      ]
    },
    {
      "cell_type": "markdown",
      "metadata": {
        "id": "FBLe8MlppnVx"
      },
      "source": [
        "### Answer"
      ]
    },
    {
      "cell_type": "markdown",
      "metadata": {
        "id": "2DSpHcSvppe_"
      },
      "source": [
        "$f(n) = 4f(n-1) - f(n-2)$ for $n > 1$;\n",
        "\n",
        "$f(0) = 1$,\n",
        "\n",
        "$f(1) = 1$."
      ]
    },
    {
      "cell_type": "markdown",
      "metadata": {
        "id": "yVxsJE2tXViH"
      },
      "source": [
        "\n",
        "$f(n) = y\\cdot r^n + z \\cdot s^n$\n",
        "\n",
        "where $y$, $z$, $r$, and $s$ are real numbers.\n",
        "\n",
        "Assume, subject to revision, that $y = 1$ and $z = 0$.\n",
        "\n",
        "So $f(n) = r^n$ for some real number $r$.\n",
        "\n",
        "Plugging in $r^n$ for $f(n)$, $r^{n-1}$ for $f(n-1)$, and $r^{n-2}$ for $f(n-2)$ yields:\n",
        "\n",
        "$r^n = 4r^{n-1} - r^{n-2}.$\n",
        "\n",
        "Divide each term by $r^{n-2}$ to get\n",
        "\n",
        "$r^2 = 4r - 1.$\n",
        "\n",
        "Or:\n",
        "\n",
        "$r^2 - 4r + 1 = 0.$\n",
        "\n",
        "This **characteristic equation** has two roots, which the quadratic formula will give us:\n",
        "\n",
        "$$r = \\frac{-b \\pm \\sqrt{b^2 - 4ac}}{2a},\\ \\mbox{where}\\ a = 1, b = -4, c = 1.$$\n",
        "\n",
        "So, $r$ is the positive root and $s$ is the negative root:\n",
        "\n",
        "$r = \\frac{-(-4) + \\sqrt{(-4)^2 - 4(1)(1)}}{2(1)} = \\frac{4 + \\sqrt{16 - 4}}{2} = \\frac{4 + 2\\sqrt{3}}{2} = 2 + \\sqrt{3}.$\n",
        "\n",
        "$s = 2 - \\sqrt{3}.$"
      ]
    },
    {
      "cell_type": "markdown",
      "metadata": {
        "id": "DorIfgALbUmS"
      },
      "source": [
        "Finish by solving for $y$ and $z$ given $r$ and $s$ and $f(n)$'s **initial conditions**:\n",
        "\n",
        "$f(n) = y\\cdot r^n + z\\cdot s^n$ means\n",
        "\n",
        "$f(0) = 1 = y\\cdot r^0 + z\\cdot s^0 = y + z.$\n",
        "\n",
        "So $z = 1 - y$.\n",
        "\n",
        "$f(1) = 1 = y\\cdot r^1 + z\\cdot s^1 = yr + zs.$\n",
        "\n",
        "So $1 = yr + (1 - y)s = y(r - s) + s.$\n",
        "\n",
        "Therefore,\n",
        "\n",
        "$y = \\frac{1 - s}{r - s}$, and\n",
        "\n",
        "$z = \\frac{r - 1}{r - s}.$\n",
        "\n",
        "We get after plugging in\n",
        "\n",
        "$1 - s = \\sqrt{3} - 1,$\n",
        "\n",
        "$r - 1 = 3 - \\sqrt{3},$\n",
        "\n",
        "$(r - s) = 2\\sqrt{3},$ \n",
        "\n",
        "$y = \\frac{\\sqrt{3} - 1}{2\\sqrt{3}} = \\frac{3 - \\sqrt{3}}{6}$; and\n",
        "\n",
        "$z = \\frac{1 + \\sqrt{3}}{2\\sqrt{3}} = \\frac{3 + \\sqrt{3}}{6}.$\n",
        "\n",
        "So $f(n) = \\frac{3 - \\sqrt{3}}{6}\\left(2 + \\sqrt{3}\\right)^n - \\frac{3 + \\sqrt{3}}{6}\\left(2 - \\sqrt{3}\\right)^n$."
      ]
    },
    {
      "cell_type": "code",
      "metadata": {
        "id": "YaWc3dg0wGI7"
      },
      "source": [
        "from math import ceil, sqrt\n",
        "\n",
        "def f(n):\n",
        "  sqrt3 = sqrt(3)\n",
        "  y = (3 - sqrt3) / 6\n",
        "  r = 2 + sqrt3\n",
        "  z = (3 + sqrt3) / -6\n",
        "  s = 2 - sqrt3\n",
        "  return ceil(y * r ** n + z * s ** n)"
      ],
      "execution_count": 19,
      "outputs": []
    },
    {
      "cell_type": "code",
      "metadata": {
        "id": "o0uhoXvPw6YW"
      },
      "source": [
        "for n in range(1, 6):\n",
        "  print(n, f(n))"
      ],
      "execution_count": null,
      "outputs": []
    },
    {
      "cell_type": "markdown",
      "metadata": {
        "id": "nbQsp6r0gAIn"
      },
      "source": [
        "## 2"
      ]
    },
    {
      "cell_type": "markdown",
      "metadata": {
        "id": "pUKGu3HDgAIn"
      },
      "source": [
        "What is the closed-form formula for $g(n)$?"
      ]
    },
    {
      "cell_type": "markdown",
      "metadata": {
        "id": "bKM6F2tuxe5h"
      },
      "source": [
        "### Answer"
      ]
    },
    {
      "cell_type": "markdown",
      "metadata": {
        "id": "BEYAjB0Cxe5h"
      },
      "source": [
        "$g(n) = 4g(n-1) - g(n-2)$ for $n > 1$;\n",
        "\n",
        "$g(0) = 0$,\n",
        "\n",
        "$g(1) = 1$."
      ]
    },
    {
      "cell_type": "markdown",
      "metadata": {
        "id": "hWwwsCbexe5i"
      },
      "source": [
        "$g(n) = y\\cdot r^n + z \\cdot s^n$\n",
        "\n",
        "where $y$, $z$, $r$, and $s$ are real numbers.\n",
        "\n",
        "Assume, subject to revision, that $y = 1$ and $z = 0$.\n",
        "\n",
        "So $g(n) = r^n$ for some real number $r$.\n",
        "\n",
        "Plugging in $r^n$ for $g(n)$, $r^{n-1}$ for $g(n-1)$, and $r^{n-2}$ for $g(n-2)$ yields:\n",
        "\n",
        "$r^n = 4r^{n-1} - r^{n-2}.$\n",
        "\n",
        "Divide each term by $r^{n-2}$ to get\n",
        "\n",
        "$r^2 = 4r - 1.$\n",
        "\n",
        "Or:\n",
        "\n",
        "$r^2 - 4r + 1 = 0.$\n",
        "\n",
        "This **characteristic equation** has two roots, which the quadratic formula will give us:\n",
        "\n",
        "$$r = \\frac{-b \\pm \\sqrt{b^2 - 4ac}}{2a},\\ \\mbox{where}\\ a = 1, b = -4, c = 1.$$\n",
        "\n",
        "So, $r$ is the positive root and $s$ is the negative root:\n",
        "\n",
        "$r = \\frac{-(-4) + \\sqrt{(-4)^2 - 4(1)(1)}}{2(1)} = \\frac{4 + \\sqrt{16 - 4}}{2} = \\frac{4 + 2\\sqrt{3}}{2} = 2 + \\sqrt{3}.$\n",
        "\n",
        "$s = 2 - \\sqrt{3}.$"
      ]
    },
    {
      "cell_type": "markdown",
      "metadata": {
        "id": "Ymx1rzHmxe5j"
      },
      "source": [
        "Finish by solving for $y$ and $z$ given $r$ and $s$ and $g(n)$'s **initial conditions**:\n",
        "\n",
        "$g(n) = y\\cdot r^n + z\\cdot s^n$ means\n",
        "\n",
        "$f(0) = 0 = y\\cdot r^0 + z\\cdot s^0 = y + z.$\n",
        "\n",
        "So $z = -y$.\n",
        "\n",
        "$f(1) = 1 = y\\cdot r^1 + z\\cdot s^1 = yr + zs.$\n",
        "\n",
        "So $1 = yr - ys = y(r - s).$\n",
        "\n",
        "Therefore,\n",
        "\n",
        "$y = \\frac{1}{r - s}$, and\n",
        "\n",
        "$z = \\frac{-1}{r - s}.$\n",
        "\n",
        "We get after plugging in\n",
        "\n",
        "$(r - s) = 2\\sqrt{3},$ \n",
        "\n",
        "$y = \\frac{1}{2\\sqrt{3}} = \\frac{\\sqrt{3}}{6}$; and\n",
        "\n",
        "$z = \\frac{-\\sqrt{3}}{6}.$\n",
        "\n",
        "So $g(n) = \\frac{\\sqrt{3}}{6}\\left(2 + \\sqrt{3}\\right)^n - \\frac{\\sqrt{3}}{6}\\left(2 - \\sqrt{3}\\right)^n$."
      ]
    },
    {
      "cell_type": "code",
      "metadata": {
        "id": "w1CHeRwwxe5k"
      },
      "source": [
        "from math import ceil, sqrt\n",
        "\n",
        "def g(n):\n",
        "  sqrt3 = sqrt(3)\n",
        "  y = sqrt3 / 6\n",
        "  r = 2 + sqrt3\n",
        "  z = -y\n",
        "  s = 2 - sqrt3\n",
        "  return ceil(y * r ** n + z * s ** n)"
      ],
      "execution_count": 21,
      "outputs": []
    },
    {
      "cell_type": "code",
      "metadata": {
        "id": "0hID_239xe5k"
      },
      "source": [
        "for n in range(1, 6):\n",
        "  print(n, g(n))"
      ],
      "execution_count": null,
      "outputs": []
    },
    {
      "cell_type": "markdown",
      "metadata": {
        "id": "u41Hz1D3gAv-"
      },
      "source": [
        "## 3"
      ]
    },
    {
      "cell_type": "markdown",
      "metadata": {
        "id": "wXB6sYqAgAv_"
      },
      "source": [
        "Is the reason you included the section on continued fractions in the DPC because the probability the CDL asked for, $P(n) = f(n)/g(n)$, approachs $\\sqrt{3} - 1$ as $n$ approaches infinity?"
      ]
    },
    {
      "cell_type": "markdown",
      "metadata": {
        "id": "eZ2WMXT4Ebih"
      },
      "source": [
        "### Answer"
      ]
    },
    {
      "cell_type": "markdown",
      "metadata": {
        "id": "Od4rvPziJViP"
      },
      "source": [
        "Yes!\n",
        "\n",
        "Look at the ratio of $f(n)$ and $g(n)$. As $n$ gets bigger the second terms --- $(2 - \\sqrt{3})^n$ --- get smaller, because $(2 - \\sqrt{3}) \\approx 0.27$ is a number less than one that gets raised to higher and higher powers, and thus we're subtracting off smaller and smaller numbers that go to zero as $n$ increases."
      ]
    },
    {
      "cell_type": "code",
      "metadata": {
        "colab": {
          "base_uri": "https://localhost:8080/"
        },
        "id": "Gc4SMmpjIUJX",
        "outputId": "6e8e3456-5682-40f8-f94c-e0416c500fd1"
      },
      "source": [
        "from math import sqrt\n",
        "2 - sqrt(3)"
      ],
      "execution_count": 1,
      "outputs": [
        {
          "output_type": "execute_result",
          "data": {
            "text/plain": [
              "0.2679491924311228"
            ]
          },
          "metadata": {
            "tags": []
          },
          "execution_count": 1
        }
      ]
    },
    {
      "cell_type": "markdown",
      "metadata": {
        "id": "otsNXa7UEde6"
      },
      "source": [
        "\n",
        "To see this, multiply by $\\frac{6}{\\sqrt{3}}$ both the top and the bottom to simplify the expressions in the ratio:\n",
        "\n",
        "$$\\frac{\\frac{3 - \\sqrt{3}}{6}\\left(2 + \\sqrt{3}\\right)^n - \\frac{3 + \\sqrt{3}}{6}\\left(2 - \\sqrt{3}\\right)^n}{\\frac{\\sqrt{3}}{6}\\left(2 + \\sqrt{3}\\right)^n - \\frac{\\sqrt{3}}{6}\\left(2 - \\sqrt{3}\\right)^n}$$\n",
        "\n",
        "$$= \\frac{(\\sqrt{3} - 1)\\left(2 + \\sqrt{3}\\right)^n - (\\sqrt{3} + 1)\\left(2 - \\sqrt{3}\\right)^n}{\\left(2 + \\sqrt{3}\\right)^n - \\left(2 - \\sqrt{3}\\right)^n}$$\n",
        "\n",
        "$$\\approx \\frac{(\\sqrt{3} - 1)\\left(2 + \\sqrt{3}\\right)^n}{\\left(2 + \\sqrt{3}\\right)^n}$$\n",
        "\n",
        "$$= \\sqrt{3} - 1.$$"
      ]
    },
    {
      "cell_type": "code",
      "metadata": {
        "id": "iQuOg8csJbEY"
      },
      "source": [
        "def P(n):\n",
        "  return f(n) / g(n)"
      ],
      "execution_count": 4,
      "outputs": []
    },
    {
      "cell_type": "code",
      "metadata": {
        "colab": {
          "base_uri": "https://localhost:8080/"
        },
        "id": "BwqQFr8CJrKz",
        "outputId": "88cfbb48-d55b-47b9-8a94-2f5b1e8e5a68"
      },
      "source": [
        "sqrt3minus1 = sqrt(3) - 1\n",
        "for n in range(1, 100, 10):\n",
        "  print(n, P(n) - sqrt3minus1 < 10 ** -1)"
      ],
      "execution_count": 26,
      "outputs": [
        {
          "output_type": "stream",
          "text": [
            "1 True\n",
            "11 True\n",
            "21 True\n",
            "31 True\n",
            "41 True\n",
            "51 True\n",
            "61 True\n",
            "71 True\n",
            "81 True\n",
            "91 True\n"
          ],
          "name": "stdout"
        }
      ]
    },
    {
      "cell_type": "markdown",
      "metadata": {
        "id": "E9s6Ig4DgA3A"
      },
      "source": [
        "## 4"
      ]
    },
    {
      "cell_type": "markdown",
      "metadata": {
        "id": "whXpz8jngA3B"
      },
      "source": [
        "Is there another good reference that talks more about counting the number of spanning trees graphs have?"
      ]
    },
    {
      "cell_type": "markdown",
      "metadata": {
        "id": "sT_A3K3yKoMp"
      },
      "source": [
        "### Answer"
      ]
    },
    {
      "cell_type": "markdown",
      "metadata": {
        "id": "F6bdKR9hKpl9"
      },
      "source": [
        "Yes!\n",
        "\n",
        "http://www.m-hikari.com/ams/ams-password-2009/ams-password45-48-2009/shirdarehAMS45-48-2009.pdf"
      ]
    },
    {
      "cell_type": "markdown",
      "metadata": {
        "id": "-KLEQ1kzgA8S"
      },
      "source": [
        "## 5"
      ]
    },
    {
      "cell_type": "markdown",
      "metadata": {
        "id": "6sUWjNXBgA8S"
      },
      "source": [
        "Are there any applications of these spanning trees of ladder graphs?"
      ]
    },
    {
      "cell_type": "markdown",
      "metadata": {
        "id": "f6MzmI_yLEWf"
      },
      "source": [
        "### Answer"
      ]
    },
    {
      "cell_type": "markdown",
      "metadata": {
        "id": "zD_LnLp7LFtr"
      },
      "source": [
        "Yes!!\n",
        "\n",
        "Take electrical resistance networks, for one. The probabilistic interpretation of voltage and current is fascinating!\n",
        "\n",
        "Here's an excerpt from the book *Random Walks and Diffusions on Graphs and Databases: An Introduction* by Philipp Blanchard and Dimitri Volchenkov.\n",
        "\n",
        "\n",
        "> *Random walks defined on connected undirected graphs have a profound connection to electric resistor networks. The effective resistance between two nodes of an electric resistor network defined as the potential difference between them at a unit current is equal (up to a normalization) to the commute time of a random walk between them. The effective resistance distance is bounded above by the shortest path distance and equals the shortest path distance only if the graph forms a tree, in which any two nodes are connected by the only possible path.*"
      ]
    },
    {
      "cell_type": "markdown",
      "metadata": {
        "id": "smjMtJQvgBAM"
      },
      "source": [
        "## 6"
      ]
    },
    {
      "cell_type": "markdown",
      "metadata": {
        "id": "I3RwyOGFgBAM"
      },
      "source": [
        "Building a spanning tree for a graph isn't a very complicated procedure. What other fun/challenging tasks do you suggest we do?!"
      ]
    },
    {
      "cell_type": "markdown",
      "metadata": {
        "id": "O6k5-K1xPA_C"
      },
      "source": [
        "### Answer"
      ]
    },
    {
      "cell_type": "markdown",
      "metadata": {
        "id": "wdArEosjPCU9"
      },
      "source": [
        "How about seeing if your algorithm can randomly generate *ALL* possible spanning trees of a ladder graph?\n"
      ]
    },
    {
      "cell_type": "markdown",
      "metadata": {
        "id": "xxS9rFEIa-ha"
      },
      "source": [
        "## 7"
      ]
    },
    {
      "cell_type": "markdown",
      "metadata": {
        "id": "R7cf8ewBbAY5"
      },
      "source": [
        "What hints or helps can you give about the dating service problem?"
      ]
    },
    {
      "cell_type": "markdown",
      "metadata": {
        "id": "4Z-qhpVCbG5U"
      },
      "source": [
        "### Answer"
      ]
    },
    {
      "cell_type": "markdown",
      "metadata": {
        "id": "Rdz0N2BGbIqJ"
      },
      "source": [
        "I'll share some code from a former student:"
      ]
    },
    {
      "cell_type": "code",
      "metadata": {
        "id": "nRoySR00bNNx"
      },
      "source": [
        "matrix = [\n",
        "    [1, 0, 0],\n",
        "    [0, 1, 0],\n",
        "    [0, 0, 1],\n",
        "]\n",
        "N = len(matrix)\n",
        "\n",
        "def rescale(row):\n",
        "    if sum(row) == 0:\n",
        "        return row\n",
        "    scale = 1 / sum(row)\n",
        "    return list(map(lambda value: value * scale, row))\n",
        "\n",
        "def checkMatrix(matrix):\n",
        "    top = 1 + 1 / len(matrix)\n",
        "    bottom = 1 - 1 / len(matrix)\n",
        "    for y in range(len(matrix)):\n",
        "        row = matrix[y]\n",
        "        if sum(row) < bottom or sum(row) > top:\n",
        "            return False\n",
        "    for x in range(len(matrix)):\n",
        "        col = list(map(lambda row: row[x], matrix))\n",
        "        if sum(col) < bottom or sum(col) > top:\n",
        "            return False\n",
        "    return True\n",
        "\n",
        "for _ in range(N ** 5):\n",
        "    for y in range(N):\n",
        "        matrix[y] = rescale(matrix[y])\n",
        "    for x in range(N):\n",
        "        col = list(map(lambda row: row[x], matrix))\n",
        "        rescaledCol = rescale(col)\n",
        "        for y in range(N):\n",
        "            matrix[y][x] = rescaledCol[y]\n",
        "\n",
        "print(matrix)\n",
        "print(checkMatrix(matrix))"
      ],
      "execution_count": null,
      "outputs": []
    },
    {
      "cell_type": "markdown",
      "metadata": {
        "id": "cK5CVWdTcCWa"
      },
      "source": [
        "## 8"
      ]
    },
    {
      "cell_type": "markdown",
      "metadata": {
        "id": "sHSIbHYZcDr-"
      },
      "source": [
        "Where did you find this description of the dating service problem?"
      ]
    },
    {
      "cell_type": "markdown",
      "metadata": {
        "id": "bSHaSH5LcH51"
      },
      "source": [
        "### Answer"
      ]
    },
    {
      "cell_type": "markdown",
      "metadata": {
        "id": "BqQ-X0qncLHd"
      },
      "source": [
        "I found it on Scott Aaronson's blog:\n",
        "[Shtetl Optimized](https://www.scottaaronson.com/blog/?p=153)"
      ]
    }
  ]
}