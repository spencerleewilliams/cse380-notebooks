{
  "nbformat": 4,
  "nbformat_minor": 0,
  "metadata": {
    "colab": {
      "name": "13_2_Ponder_and_Prove_Many_Things.ipynb",
      "provenance": [],
      "include_colab_link": true
    },
    "kernelspec": {
      "name": "python3",
      "display_name": "Python 3"
    },
    "language_info": {
      "name": "python"
    }
  },
  "cells": [
    {
      "cell_type": "markdown",
      "metadata": {
        "id": "view-in-github",
        "colab_type": "text"
      },
      "source": [
        "<a href=\"https://colab.research.google.com/github/spencerleewilliams/cse380-notebooks/blob/master/13_2_Ponder_and_Prove_Many_Things.ipynb\" target=\"_parent\"><img src=\"https://colab.research.google.com/assets/colab-badge.svg\" alt=\"Open In Colab\"/></a>"
      ]
    },
    {
      "cell_type": "markdown",
      "metadata": {
        "id": "0GZOWnts9NAD"
      },
      "source": [
        "# Ponder and Prove Many Things\n",
        "## Due: Thursday, 1 April 2021, 11:59 pm"
      ]
    },
    {
      "cell_type": "markdown",
      "metadata": {
        "id": "S5XdXGMv9dy4"
      },
      "source": [
        "### Is It Decidable?"
      ]
    },
    {
      "cell_type": "markdown",
      "metadata": {
        "id": "Gzy9wIboAVvi"
      },
      "source": [
        "#### TODO Study and run the code below."
      ]
    },
    {
      "cell_type": "markdown",
      "metadata": {
        "id": "218Qmbtx9lP6"
      },
      "source": [
        "And answer these questions:\n",
        "1. What is this program computing?\n",
        "- This program is computing if the product of i and flibbers (list of integers) computes with the modulus of flobbers (another list of integers) for each set of divisible factors of i compared to each element in the list.\n",
        "2. How does it do it?\n",
        "- The program does this by comparing the range of the first elements to i at 2. If the modulus is false, then i becomes the product of i and flibbers divided (integer division) by flobbers. If log base two of i is an integer, then it prints i and keep going for the next iteration.\n",
        "3. Will it ever terminate?\n",
        "- As long as i produce log base factors of two, then no the function will not terminate. Given that i begins at two and each new iteration of i is determined by f // flobbers[n], it is almost certain that each new product will always result in a log base factor of two. Therefore, the function is undecidable as there is no halting instance in this case."
      ]
    },
    {
      "cell_type": "code",
      "metadata": {
        "id": "LfltDFaw9trA"
      },
      "source": [
        "from math import log2\n",
        "\n",
        "def you_decide():\n",
        "  flibbers = [17,78,19,23,29,77,95,77,1,11,13,15,15,55]\n",
        "  flobbers = [91,85,51,38,33,29,23,19,17,13,11,14,2,1]\n",
        "  i = 2\n",
        "  time_keeps_ticking = True\n",
        "  while time_keeps_ticking:\n",
        "    time_keeps_ticking = False\n",
        "    for n in range(len(flibbers)):\n",
        "      f = i * flibbers[n]\n",
        "      if not f % flobbers[n]:\n",
        "        i = f // flobbers[n]\n",
        "        p = log2(i)\n",
        "        if p.is_integer():\n",
        "          print(i)\n",
        "        time_keeps_ticking = True\n",
        "        break"
      ],
      "execution_count": 1,
      "outputs": []
    },
    {
      "cell_type": "code",
      "metadata": {
        "id": "fGZ9lZCP9xWC",
        "outputId": "f4a9e055-338a-497d-ff3b-9c8da4da4841",
        "colab": {
          "base_uri": "https://localhost:8080/"
        }
      },
      "source": [
        "you_decide()"
      ],
      "execution_count": null,
      "outputs": [
        {
          "output_type": "stream",
          "text": [
            "4\n",
            "8\n",
            "32\n",
            "128\n",
            "2048\n",
            "8192\n",
            "131072\n",
            "524288\n",
            "8388608\n",
            "536870912\n",
            "2147483648\n",
            "137438953472\n",
            "2199023255552\n",
            "8796093022208\n",
            "140737488355328\n",
            "9007199254740992\n",
            "576460752303423488\n",
            "2305843009213693952\n",
            "147573952589676412928\n",
            "2361183241434822606848\n",
            "9444732965739290427392\n",
            "604462909807314587353088\n",
            "9671406556917033397649408\n",
            "618970019642690137449562112\n",
            "158456325028528675187087900672\n",
            "2535301200456458802993406410752\n",
            "10141204801825835211973625643008\n",
            "162259276829213363391578010288128\n",
            "649037107316853453566312041152512\n",
            "10384593717069655257060992658440192\n",
            "170141183460469231731687303715884105728\n",
            "2722258935367507707706996859454145691648\n",
            "174224571863520493293247799005065324265472\n",
            "696898287454081973172991196020261297061888\n",
            "713623846352979940529142984724747568191373312\n",
            "2854495385411919762116571938898990272765493248\n",
            "182687704666362864775460604089535377456991567872\n",
            "11692013098647223345629478661730264157247460343808\n",
            "187072209578355573530071658587684226515959365500928\n",
            "11972621413014756705924586149611790497021399392059392\n",
            "766247770432944429179173513575154591809369561091801088\n",
            "3064991081731777716716694054300618367237478244367204352\n",
            "3138550867693340381917894711603833208051177722232017256448\n",
            "12554203470773361527671578846415332832204710888928069025792\n",
            "200867255532373784442745261542645325315275374222849104412672\n",
            "803469022129495137770981046170581301261101496891396417650688\n",
            "3291009114642412084309938365114701009965471731267159726697218048\n",
            "13479973333575319897333507543509815336818572211270286240551805124608\n",
            "215679573337205118357336120696157045389097155380324579848828881993728\n",
            "862718293348820473429344482784628181556388621521298319395315527974912\n",
            "13803492693581127574869511724554050904902217944340773110325048447598592\n",
            "883423532389192164791648750371459257913741948437809479060803100646309888\n",
            "3533694129556768659166595001485837031654967793751237916243212402585239552\n",
            "3618502788666131106986593281521497120414687020801267626233049500247285301248\n",
            "231584178474632390847141970017375815706539969331281128078915168015826259279872\n",
            "14821387422376473014217086081112052205218558037201992197050570753012880593911808\n",
            "948568795032094272909893509191171341133987714380927500611236528192824358010355712\n",
            "3794275180128377091639574036764685364535950857523710002444946112771297432041422848\n",
            "242833611528216133864932738352939863330300854881517440156476551217363035650651062272\n",
            "3885337784451458141838923813647037813284813678104279042503624819477808570410416996352\n",
            "15541351137805832567355695254588151253139254712417116170014499277911234281641667985408\n",
            "15914343565113172548972231940698266883214596825515126958094847260581103904401068017057792\n",
            "260740604970814219042361048116400404614587954389239840081425977517360806369707098391474864128\n",
            "4171849679533027504677776769862406473833407270227837441302815640277772901915313574263597826048\n",
            "16687398718132110018711107079449625895333629080911349765211262561111091607661254297054391304192\n",
            "266998379490113760299377713271194014325338065294581596243380200977777465722580068752870260867072\n",
            "4374501449566023848745004454235242730706338861786424872851541212819905998398751846447026354046107648\n",
            "279968092772225526319680285071055534765205687154331191862498637620473983897520118172609686658950889472\n",
            "286687326998758938951352611912760867599570623646035140467198604923365359511060601008752319138765710819328\n",
            "1146749307995035755805410447651043470398282494584140561868794419693461438044242404035009276555062843277312\n",
            "18347988927920572092886567162416695526372519913346248989900710715095383008707878464560148424881005492436992\n",
            "1174271291386916613944740298394668513687841274454159935353645485766104512557304221731849499192384351515967488\n",
            "300613450595050653169853516389035139504087366260264943450533244356122755214669880763353471793250393988087676928\n",
            "19239260838083241802870625048898248928261591440656956380834127638791856333738872368854622194768025215237611323392\n",
            "1231312693637327475383720003129487931408741852202045208373384168882678805359287831606695820465153613775207124697088\n",
            "19701003098197239606139520050071806902539869635232723333974146702122860885748605305707133127442457820403313995153408\n",
            "1260864198284623334792929283204595641762551656654894293374345388935863096687910739565256520156317300505812095689818112\n",
            "322781234760863573706989896500376484291213224103652939103832419567580952752105149328705669160017228929487896496593436672\n",
            "5164499756173817179311838344006023748659411585658447025661318713081295244033682389259290706560275662871806343945494986752\n",
            "1322111937580497197903830616065542079656809365928562438569297590548811582472622691650378420879430569695182424050046716608512\n",
            "1353842624082429130653522550851115089568572790710847937094960732721983060451965636249987502980536903367866802227247837807116288\n",
            "5415370496329716522614090203404460358274291162843391748379842930887932241807862544999950011922147613471467208908991351228465152\n",
            "5545339388241629719156828368286167406872874150751633150340959161229242615611251246079948812208279156194782421922807143657948315648\n",
            "22181357552966518876627313473144669627491496603006532601363836644916970462445004984319795248833116624779129687691228574631793262592\n",
            "1419606883389857208104148062281258856159455782592418086487285545274686109596480318996466895925319463985864300012238628776434768805888\n",
            "22713710134237715329666368996500141698551292521478689383796568724394977753543685103943470334805111423773828800195818060422956300894208\n",
            "1453677448591213781098647615776009068707282721374636120562980398361278576226795846652382101427527131121525043212532355867069203257229312\n"
          ],
          "name": "stdout"
        }
      ]
    },
    {
      "cell_type": "markdown",
      "metadata": {
        "id": "oqZ3784B-EyX"
      },
      "source": [
        "### Fun With Decidability"
      ]
    },
    {
      "cell_type": "markdown",
      "metadata": {
        "id": "aeiVo2WpkySc"
      },
      "source": [
        "#### TODO Read and Share"
      ]
    },
    {
      "cell_type": "markdown",
      "metadata": {
        "id": "i13mpSpd-O39"
      },
      "source": [
        "Read [Can't Decide? Undecide! by Chaim Goodman-Strauss](https://strauss.hosted.uark.edu/papers/decide.pdf)\n",
        "\n",
        "Share six things that you found interesting in this paper.\n",
        "\n",
        "Share six things that you already knew or had heard about before. (These can overlap with the first six.)\n",
        "\n",
        "Write one to two sentences for each of the things you share.\n"
      ]
    },
    {
      "cell_type": "markdown",
      "metadata": {
        "id": "NkUKPsxcJk4f"
      },
      "source": [
        "## Interesting\n",
        "1. Heesch Number\n",
        "- Heesch number is an extremely interesting name to describe the principle of the max number of layers, which I can only assume is for respect to the person who discovered the principle. The reading's examples with tiles and Heesch's number displayed a unique art to the field of undecidable math problems.\n",
        "2. Normal Form Theorem\n",
        "- I had known the normal form theorem in the context of when both statements are defined and equal to each other. It is remarkable to note that this equivalence is applied to undefined or undecidable notations too.\n",
        "3. Collatz Function\n",
        "- Collatz function fascinates me in terms of the collatz conjecture or the idea that the sequence eventually reaches 1 or set/decidable answer. Considering this understanding about the collatz's function, then it truly is reasonable to question if any possible starting point will always result in 1 (determinability).\n",
        "4. Conway's Game of Life\n",
        "- Conway's Game of Life is a programming problem that I, too, did in one of my earlier courses. The determining starting seed and the outcome of will there be only wolves at the end relates very well to the decidable questions and I wonder how they are portrayed in statistical theories. \n",
        "5. \"We can prove that we can never expect to understand why these,\n",
        "particularly, are just so.\"\n",
        "- A find this quote from the reading interesting as it seems paradoxical to assume that we can prove something incomprehensible. I suppose a similar connection is that to know how to speak before reading, as talking allows you to know and prove the existence of reading without truly understanding it. \n",
        "6. NP-hard Problems\n",
        "- NP-hard problems are unique as they are categorized as their own apart from plain NP problems. This connects to the idea of levels of complexity in computation and the amount of time and resources are required to solve a problem, which fits well into the question of determining if they are hence decidable or not.\n",
        "## Already Knew\n",
        "1. Traveling Salesman Problem\n",
        "- The traveling salesman problem is a graph optimization problem that asks to find the most efficient route without repeating on already sold routes. Similar to decidable or undecidable problems, this problem considers the starting conditions to determine of such a feat is possible or not.\n",
        "2. Hamiltonian cycles\n",
        "- Hamiltonian cycles were addressed when we were covering graphs earlier this semester. Considering that a hamiltonian cycle consists of visiting every node exactly once, it makes perfect sense to conclude we the reading lists it as an example of  NP-hard.\n",
        "3. Turing Machine\n",
        "- The mathematical proof and design of modern computation. The Turing machine displays and performs simple read and write computations, but it surprises me to think of the many theoritical problems that are based on the Turing machine too.\n",
        "4. Conway's Game of Life\n",
        "- Conway's Game of Life is a programming problem that I, too, did in one of my earlier courses. The determining starting seed and the outcome of will there be only wolves at the end relates very well to the decidable questions proposed in this reading.\n",
        "5. Normal Form Theorem\n",
        "- I had known the normal form theorem in the context of when both statements are defined and equal to each other. The theorem is key to solving a system of equations and determining relationships of equivalences between variables.\n",
        "6. Universal Systems\n",
        "- Universal systems apply to all forms of mathematics and hence the reasoning for their name. When it comes to the topic of decidability in the article, as it is a determining factor if a system can transform into another as means of halting or finding an end state."
      ]
    },
    {
      "cell_type": "markdown",
      "metadata": {
        "id": "gjeWZ0Mo-r6E"
      },
      "source": [
        "### The Map of Mathematics"
      ]
    },
    {
      "cell_type": "markdown",
      "metadata": {
        "id": "xFFVrRTl-wY9"
      },
      "source": [
        "[The entire field of mathematics summarized in a single map!](https://www.youtube.com/watch?v=OmJ-4B-mS-Y) --- direct link, or embedded below.\n",
        "\n",
        "This video shows how pure mathematics and applied mathematics relate to each other and all of the sub-topics they are made from."
      ]
    },
    {
      "cell_type": "code",
      "metadata": {
        "id": "Wd_Ny-gS-zpk"
      },
      "source": [
        "from IPython.display import YouTubeVideo\n",
        "YouTubeVideo('OmJ-4B-mS-Y') # 11 minutes 5 seconds"
      ],
      "execution_count": null,
      "outputs": []
    },
    {
      "cell_type": "markdown",
      "metadata": {
        "id": "8PD-pimc-1dk"
      },
      "source": [
        "#### TODO Watch and Share"
      ]
    },
    {
      "cell_type": "markdown",
      "metadata": {
        "id": "jylWVHuAKt57"
      },
      "source": [
        "## Interesting\n",
        "1. Animals are able to count:\n",
        "-  The video had mentioned that animals besides humans can count. This trait with other intelligent animals is odd to think, but not surprising as basic arithmetic has improved survivability for us humans.\n",
        "2. Applied vs. Pure Mathematics:\n",
        "- I had known that different fields of mathematics existed, but never knew the two formal distinctions between practical and theoretical math. The video, however, made a very profound point that most practical math was once theoretical until a need for it was discovered.\n",
        "3. Machine Learning:\n",
        "- Machine learning and AI are principles of decision making, mapping, and probable statistics, like Bayes Theorem, to quickly determine an action. The most fascinating part about machine learning is the ability self improve and display human-like decision making.\n",
        "4. Chaos Theory:\n",
        "- Chaos theory is an interesting name in determining outcomes or sets of outcomes when compared to their initial effects. The butterfly effect is one famous example of how we should always consider more about the potential of states and how they influence preceding events.\n",
        "5. Game Theory:\n",
        "- Game theory is very interesting to me as someone who enjoys competition and optimization when making decisions. Similar to many aspects of machine learning, the game theory addresses the set of inputs given to determine the most desirable course of action.\n",
        "6. Optimization:\n",
        "- Optimization is one of my favorite tools for applying math into my computing. Many fields of mathematics like statistics and calculus solve problems that correlate to optimization, which are used to economically to save time and money.\n",
        "## Already Knew\n",
        "1. Mathematics began with counting:\n",
        "- Counting is one of the first things we learn when growing up. Naturally, I knew that we also discovered mathematics by counting, which has allowed us to make more logical decisions and improve society ever sense.\n",
        "2. Number Systems:\n",
        "- Many different types of numbers existing is something I knew for most of my educational life. In DM1 and DM2, however, I learned new perspectives on how infinity plays into number systems and how certain number systems behave over others.\n",
        "3. Linear Algebra:\n",
        "- Linear algebra is kind of math and course that I have already taken that gave me new tools for solving and viewing problems. One of the strong connections between it and discrete mathematics is the use of relationships of onto and 1-1 between sets.\n",
        "4. Mathematical Physics: \n",
        "- Physics surprisingly deals with a lot of computational theory and statistical mathematics in determining absolutes while accommodating uncertainties in measurements. Likewise, computations simulate and perform these calculations with much more accuracy than humans which has propelled the advancement of physics.\n",
        "5. Statistics:\n",
        "- Statistics and discrete mathematics both rely on the number theories of predictability via combinatorics to measure and assess outcomes. These fields of mathematics have been reoccurring topics in this semester with DM2 and Engineering Statistics.\n",
        "6. Godel Incompleteness Theorems:\n",
        "- The theorem was one we first explored during the beginning of the semester by explaining the relationships of number sets to rules and axioms of mathematics. The idea of conditional \"It depends\" moments are often the major theme and learning experience when discussing discrete mathematics."
      ]
    },
    {
      "cell_type": "markdown",
      "metadata": {
        "id": "9WIEkJ0p-9JD"
      },
      "source": [
        "Share six things that you found interesting in this video.\n",
        "\n",
        "Share six things that you already knew or had heard about before. (These can overlap with the first six.)\n",
        "\n",
        "Write one to two sentences for each of the things you share.\n"
      ]
    },
    {
      "cell_type": "markdown",
      "metadata": {
        "id": "nfxMo9bl_TZA"
      },
      "source": [
        "### The Map of Computer Science"
      ]
    },
    {
      "cell_type": "markdown",
      "metadata": {
        "id": "bM9Dst0d_tIW"
      },
      "source": [
        "[The field of computer science similarly summarized.](https://www.youtube.com/watch?v=SzJ46YA_RaA) --- direct link, or embedded below."
      ]
    },
    {
      "cell_type": "code",
      "metadata": {
        "id": "LnBJvrbi_xIp"
      },
      "source": [
        "from IPython.display import YouTubeVideo\n",
        "YouTubeVideo('SzJ46YA_RaA') # 10 minutes 57 seconds"
      ],
      "execution_count": null,
      "outputs": []
    },
    {
      "cell_type": "markdown",
      "metadata": {
        "id": "5194ShLd_zjU"
      },
      "source": [
        "#### TODO Watch and Share"
      ]
    },
    {
      "cell_type": "markdown",
      "metadata": {
        "id": "zTI_XHCU_1HW"
      },
      "source": [
        "Share six things that you found interesting in this video.\n",
        "\n",
        "Share six things that you already knew or had heard about before. (These can overlap with the first six.)\n",
        "\n",
        "Write one to two sentences for each of the things you share."
      ]
    },
    {
      "cell_type": "markdown",
      "metadata": {
        "id": "HO3LSq8IKtKA"
      },
      "source": [
        "## Interesting\n",
        "1. Lambda Calculus:\n",
        "- Lambda Calculus, after further research, is used in Turning machines. It is calculus-based on substitutions and variables to represent a universal model.\n",
        "2. Computational Complexity:\n",
        "- Complexity in terms of computation describes the number of resources, data, power, etc., required to run an operation. In fact, from the reading, NP problems are referred to as one the levels.\n",
        "3. Formal Methods:\n",
        "- Formal methods fascinate me in regards to their modeling of solving complex systems to solve different states of problems. The video illustrated this idea with different states that could lead to the success or failure of an airplane flight.  \n",
        "4. Parallel Programming: \n",
        "- Computation parallelism is a useful tool in programming that allows the efficiency of computers to solve tasks to reach an optimized level. Optimization often uses parallelism to maximize time efficiency.  \n",
        "5. Optimization:\n",
        "- Optimization is one of my favorite practical applications of computing. Many fields of mathematics like statistics and calculus solve problems that correlate to optimization.\n",
        "6. Artifical Intelligence:\n",
        "- Artificial Intelligence relies on principles of decision making, mapping, and probable statistics, like Bayes Theorem, to quickly determine an action. The most fascinating part about AI is the ability to promote positive/desired outcomes, allowing the program to learn over generations.\n",
        "## Already Knew\n",
        "1. Turing Machine:\n",
        "- The mathematical proof and design of modern computation. The Turing machine displays and performs simple read and write computations, but these functions allow the machine to be programmed to solve a large array of tasks.\n",
        "2. Robotics:\n",
        "- Robotics is an excellent example of a field that incorporates multiple fields of engineering and sciences. I took a robotics class in high school where pure mathematics and practical mathematics were required to solve the challenges we faced when designing a robot for a game competition.\n",
        "3. Error Correction:\n",
        "- I had already known about error correction in multiple contexts. The most recent, however, is that related to parity bits used in computer networking to detect corrupted data.\n",
        "4. Formal Methods:\n",
        "- I had already known about Formal Methods in regards to my software testing course. These methods use state machines and other mathematical analyses to test the cases and potential outcomes a product may produce.\n",
        "5. Software and Programming Languages:\n",
        "- As a computer science major, programming languages are a focal point to the learning experience. An important concept mentioned in the video is the types of higher vs lower-level machine languages that simulate more machine vs human languages.\n",
        "6. Computer Networks:\n",
        "- Computer networks with the internet, web applications and virtual learning is a valuable asset that society depends upon during the pandemic. The ability to solve and perform tasks is made useful because of the ability to share that knowledge with anyone in the world."
      ]
    },
    {
      "cell_type": "markdown",
      "metadata": {
        "id": "fPu3fWgR_3hI"
      },
      "source": [
        "### SKIP Report"
      ]
    },
    {
      "cell_type": "markdown",
      "metadata": {
        "id": "JoO9lagO_5lt"
      },
      "source": [
        "The sentences you have already (supposedly) written will suffice."
      ]
    },
    {
      "cell_type": "markdown",
      "metadata": {
        "id": "shpEERFS_87F"
      },
      "source": [
        "### SKIP Self-Assessment"
      ]
    },
    {
      "cell_type": "markdown",
      "metadata": {
        "id": "yWvKYeqc__bX"
      },
      "source": [
        "Instead, you will have ilearn peer reviews to complete."
      ]
    }
  ]
}