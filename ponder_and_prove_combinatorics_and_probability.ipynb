{
  "nbformat": 4,
  "nbformat_minor": 0,
  "metadata": {
    "kernelspec": {
      "display_name": "Python 3",
      "language": "python",
      "name": "python3"
    },
    "language_info": {
      "codemirror_mode": {
        "name": "ipython",
        "version": 3
      },
      "file_extension": ".py",
      "mimetype": "text/x-python",
      "name": "python",
      "nbconvert_exporter": "python",
      "pygments_lexer": "ipython3",
      "version": "3.9.0"
    },
    "colab": {
      "name": "ponder_and_prove_combinatorics_and_probability.ipynb",
      "provenance": [],
      "include_colab_link": true
    }
  },
  "cells": [
    {
      "cell_type": "markdown",
      "metadata": {
        "id": "view-in-github",
        "colab_type": "text"
      },
      "source": [
        "<a href=\"https://colab.research.google.com/github/spencerleewilliams/cse380-notebooks/blob/master/ponder_and_prove_combinatorics_and_probability.ipynb\" target=\"_parent\"><img src=\"https://colab.research.google.com/assets/colab-badge.svg\" alt=\"Open In Colab\"/></a>"
      ]
    },
    {
      "cell_type": "markdown",
      "metadata": {
        "id": "lbICd4CjuNQq"
      },
      "source": [
        "# Ponder and Prove Combinatorics and Probability\n",
        "#### Due: Saturday, 6 February 2021, 11:59 pm."
      ]
    },
    {
      "cell_type": "markdown",
      "metadata": {
        "id": "Fv8alotDuNQ0"
      },
      "source": [
        "## Conjecture\n",
        "\n",
        "A number-theoretic conjecture of combinatorial significance is the following:\n",
        "\n",
        "$degree2({2n \\choose n}) =$ the \"bits-on count\" (or population count, or Hamming weight) of $n$.\n",
        "\n",
        "$degree2(m)$ is defined as the number (degree, exponent) of 2's in the prime factorization of $m$.\n",
        "\n",
        "In other words, for any $m$, a positive integer, $m = 2^e \\cdot o$ where $o$ is an odd positive integer (could be 1) and $e$ is a natural number, including zero --- which would be the case when $m$ is odd. It's the $e$ that is the $degree2$ of $m$.\n",
        "\n",
        "Another way to state this conjecture is that the number of 1's in the binary expansion of ${2n \\choose n}$ for positive integer $n$ is equal to the number of 2's in the prime factorization of $n$.\n",
        "\n",
        "Your task is to write Python code to test this conjecture for as many positive integers as you can. See the self-assessment for more details.\n",
        "\n",
        "Note: a `bitsoncount` function can be a one-liner in Python: `return bin(x).count('1')`\n",
        "\n"
      ]
    },
    {
      "cell_type": "code",
      "metadata": {
        "id": "Va2ZogQqwUlS"
      },
      "source": [
        "import operator as op\r\n",
        "from math import sqrt\r\n",
        "from functools import reduce\r\n",
        "def two_nCn(k):\r\n",
        "    n = 2*k \r\n",
        "    r = min(k, n-k)\r\n",
        "    num = reduce(op.mul, range(n, n-r, -1), 1)\r\n",
        "    denom = reduce(op.mul, range(1, r+1), 1)\r\n",
        "    return num // denom\r\n",
        "\r\n",
        "def num_of_ones(k):\r\n",
        "    count = 0\r\n",
        "    while(k):\r\n",
        "        k &= (k - 1)\r\n",
        "        count += 1\r\n",
        "    return count\r\n",
        "\r\n",
        "def num_of_twos(k):\r\n",
        "    count = 0\r\n",
        "    while k % 2 == 0:\r\n",
        "        count += 1\r\n",
        "        k //= 2\r\n",
        "    return count\r\n",
        "\r\n",
        "def test_conjecture(n):\r\n",
        "    return (num_of_ones(n) == num_of_twos(two_nCn(n)))"
      ],
      "execution_count": null,
      "outputs": []
    },
    {
      "cell_type": "code",
      "metadata": {
        "id": "lTLtgbxvwU0Z"
      },
      "source": [
        "%time test_conjecture(30000)"
      ],
      "execution_count": null,
      "outputs": []
    },
    {
      "cell_type": "code",
      "metadata": {
        "id": "LA0PV2EGwY6K"
      },
      "source": [
        "n = 1\r\n",
        "try:\r\n",
        "  while test_conjecture(n):\r\n",
        "    n += 1\r\n",
        "except:\r\n",
        "  print('Verified up to ' + str(n) + ' at ' + str(datetime.datetime.now()))"
      ],
      "execution_count": null,
      "outputs": []
    },
    {
      "cell_type": "code",
      "metadata": {
        "id": "GQ_KLPzOwZFL"
      },
      "source": [
        "print(n)"
      ],
      "execution_count": null,
      "outputs": []
    },
    {
      "cell_type": "markdown",
      "metadata": {
        "id": "DMXsypWJSv7k"
      },
      "source": [
        "Start Time: 5:10pm MT 2-5-2021\r\n",
        "\r\n",
        "End Time: 5:10pm MT 2-6-2021\r\n",
        "\r\n",
        "Final Output: 74,322"
      ]
    },
    {
      "cell_type": "markdown",
      "metadata": {
        "id": "yGpjx15VuNQ2"
      },
      "source": [
        "## Basic Probability Theory Question\n",
        "A dark room contains two barrels. The first barrel is filled with green marbles, the second is filled with a half-and-half mixture of green and blue marbles. So there's a 100% chance of choosing a green marble from the first barrel, and a 50% chance of choosing either color in the second barrel. You reach into one of the barrels (it's dark so you don't know which one) and select a marble at random. It's green. You select another. It's green too. You select a third, a fourth, a fifth, etc. Green each time. What is the *minimum* number of marbles you need to select to *exceed* a probability of 99% that you are picking them out of the all-green barrel? (Note that there are enough marbles so that the answer does not depend on how many marbles are in the second barrel.)\n"
      ]
    },
    {
      "cell_type": "markdown",
      "metadata": {
        "id": "HY2hdDCMv3z7"
      },
      "source": [
        "To ensure that the you are selecting from the all-green barrel, you would need to pull enough green marbles that if it were from the other barrel, then the probability of getting that 'lucky' would be less than one percent.\r\n",
        "\r\n",
        "$1/2^n$ < 0.01\r\n",
        "\r\n",
        "$1/2^n$ $\\approx$ 0.0099999999999999999999\r\n",
        "\r\n",
        "$ln(1/2^n)$ = ln(0.0099999999999999999999)\r\n",
        "\r\n",
        "$n$ = ln(0.0099999999999999999999) / ln($1/2$)\r\n",
        "\r\n",
        "$n$ $\\approx$ 6.64\r\n",
        "\r\n",
        "$n$ = 7 \r\n",
        "\r\n",
        "\r\n"
      ]
    },
    {
      "cell_type": "markdown",
      "metadata": {
        "id": "5to-vQTCuNQ3"
      },
      "source": [
        "## A Related But Deeper Basic Probability Theory Question\n",
        "Take a deep breath. Suppose Shakespeare's account is accurate and Julius Caesar gasped \"You too, Brutus\" before breathing his last. What is the probability that you just inhaled a molecule that Julius Caesar exhaled in his dying breath?\n",
        "\n",
        "Assume that after more than two thousand years the exhaled molecules are uniformly spread about the world and the vast majority are still free in the atmosphere. Assume further that there are $10^{44}$ molecules of air in the world, and that your inhaled quantity and Caesar's exhaled quantity were each about $2.2 \\times 10^{22}$ molecules.\n",
        "### Hint\n",
        "If a number $x$ is small, then $(1 - x)$ is approximately equal to $e^{-x}$.\n"
      ]
    },
    {
      "cell_type": "markdown",
      "metadata": {
        "id": "WAfOYSJEv4sP"
      },
      "source": [
        "The answer to this question is to determine the ratio of the probability space of how many molucles you can inhale versus how many of Caeser's molcules exist in the space of 10 to the 44th. Finding the ratios compared to one will give you the probability of at least one molucle inhaled. The probability can be written as the following:\r\n",
        "\r\n",
        "$P = 1-(1-M/A)^C$\r\n",
        "\r\n",
        "Where: M and C equals molecules inhaled/exhaled out of a total of A molecules.\r\n",
        "\r\n",
        "$P = 1-(1-2.2*10^(22)/10^(44))^(2.2*10^(22))$\r\n",
        "\r\n",
        "\r\n",
        "$P = 0$\r\n",
        "\r\n",
        "This answer means that there is over a 99% chance that at least one molecule inhaled was a molecule exhaled by Caeser. \r\n"
      ]
    },
    {
      "cell_type": "markdown",
      "metadata": {
        "id": "BIH4wH2WuNQ4"
      },
      "source": [
        "## What is True?\n",
        "Assess yourself on how you did using the checkboxes below. Check a box by putting an 'X' in it only if it is warranted.\n"
      ]
    },
    {
      "cell_type": "markdown",
      "metadata": {
        "id": "cZDe-zEZuNQ4"
      },
      "source": [
        "### What is true of my experience in general?\n",
        "(5 points each, 15 points total)\n",
        "- [X] I had fun.\n",
        "- I had mostly fun in particpating in this ponder and prove activity. The theoritical problems were good thought questions to put what we have learned into question and the conjecture too. However, the conjecture test also shows a useful simulation test of what it would be like to run a useful test to collect large amounts of data that could require a continous run time of 24 hrs or more. Nevertheless, the implementation of this 24 hr test was a little bothersome for a college student limited to only a laptop and responsibilties to ensure other assignments are completed without them affecting this test, but lucky with some help I was able to do it.\n",
        "- [X] I learned something new.\n",
        "- This week's CDL with fibinoci numbers and triangular numbers taught me another useful connection in the magic of their influence in the number world. In my engineering statistics class I recently learned about polynomial distribution and how it relates to probability. There, it also mentions how the triangular numbers form a consistent pattern to rely from when solving for those types of probabilities. The CDL also taught me to read the instructions more carefully as I thought it was to find the relationship between columns rather than rows. In other words, taking the time to understand first saves a lot of confusion and pain for the future.\n",
        "- [X] I achieved something meaningful, or something I can build upon at a later time.\n",
        "- The 24hr run test is something I felt that I achieve in a meaningful way and can be used in the future too. In the industry your code must be capable of being excuted at all times and perhaps for long durations too. This activity has helped me to create and run more time effiencent python code and problem solve with new challenges and or restrictions to consider that would be considered common in the real-world like time, resources and materials to produce something credable and efficent. I feel that I could build upon this be testing a simliar appication on a cloud database for upkeeping information so that it may provide current information at any time of the day."
      ]
    },
    {
      "cell_type": "markdown",
      "metadata": {
        "id": "IQDmuqH0uNQ5"
      },
      "source": [
        "### What is true of my report on what I learned?\n",
        "(5 points each, 25 points total)\n",
        "- [x] I wrote a sufficient number of well-written sentences.\n",
        "- [x] My report is free of \"mechanical infelicities\" (misspelled words, grammatical errors, punctuation errors, etc.).\n",
        "- [x] I reported on any connections I found between this investigation and something I already know.\n",
        "- [x] I reported who were and what contribution each of my collaborators made.\n",
        "- [x] I reported on how many numbers I was able to verify with a time/computation budget of 24 hours (in a row).\n"
      ]
    },
    {
      "cell_type": "markdown",
      "metadata": {
        "id": "ufSGCKgiuNQ5"
      },
      "source": [
        "### What is true about my answers?\n",
        "(15 points each, 60 points total)\n",
        "- [x] I figured out how to run a Python program continuously for at least 24 hours.\n",
        "- [x] I refrained from printing out anything except the highest number I verified, knowing that printing just slows a program down.\n",
        "- [x] I got the right answer for the first probability theory question.\n",
        "- [x] I got the right answer for the second probability theory question.\n"
      ]
    },
    {
      "cell_type": "markdown",
      "metadata": {
        "id": "rMa81bfEw5GK"
      },
      "source": [
        "##Connections\r\n",
        "- I have been studying software testing and engineering statistics this semester. The topics of efficiency, uncertainties, probabilities all have been common themes between this course and those mentioned. Even in my physics lab, mitigating risk and error uncertainty is possible thanks to the arithmetic fundamentals of number theory in combinatorics and probability. The connection I form from all of these subjects is solving real-world problems. This DPC with Zieger's candy bar could easily be an interview question. Even if we know that a conjecture is always true, the ability to apply its truth efficiently is usefull in a demanding technological world that constanlly requires more and more data to run. "
      ]
    },
    {
      "cell_type": "markdown",
      "metadata": {
        "id": "orsUY7y9xFGA"
      },
      "source": [
        "##Collaborators\r\n",
        "- Brother Neff - Helped me to fix and optimize my conjecture test program.\r\n",
        "- Claire Hocker - Helped me understand the nature of the conjecture and its purpose."
      ]
    }
  ]
}