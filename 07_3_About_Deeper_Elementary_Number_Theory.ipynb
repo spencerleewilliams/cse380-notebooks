{
  "nbformat": 4,
  "nbformat_minor": 0,
  "metadata": {
    "colab": {
      "name": " 07_3_About_Deeper_Elementary_Number_Theory.ipynb",
      "provenance": [],
      "include_colab_link": true
    },
    "kernelspec": {
      "name": "python3",
      "display_name": "Python 3"
    }
  },
  "cells": [
    {
      "cell_type": "markdown",
      "metadata": {
        "id": "view-in-github",
        "colab_type": "text"
      },
      "source": [
        "<a href=\"https://colab.research.google.com/github/spencerleewilliams/cse380-notebooks/blob/master/07_3_About_Deeper_Elementary_Number_Theory.ipynb\" target=\"_parent\"><img src=\"https://colab.research.google.com/assets/colab-badge.svg\" alt=\"Open In Colab\"/></a>"
      ]
    },
    {
      "cell_type": "markdown",
      "metadata": {
        "id": "fKBSJ5Hh6UMv"
      },
      "source": [
        "# About Deeper Elementary Number Theory\n",
        "## Class Directed Learning\n",
        "### Due: Wednesday, 17 February 2021, 11:59 pm"
      ]
    },
    {
      "cell_type": "markdown",
      "metadata": {
        "id": "yx-XMrWE6hEw"
      },
      "source": [
        "## Read and Ponder\n",
        "https://byui-cse.github.io/cse380-course/about-deeper-elementary-number-theory.pdf\n",
        "\n",
        "Put your answers in cells you will add below.\n",
        "\n",
        "Above and beyond behavior: Incorporate the material in the PDF into this notebook."
      ]
    },
    {
      "cell_type": "markdown",
      "metadata": {
        "id": "ymoN-MrhIY5e"
      },
      "source": [
        "## Explore Another Proof\r\n",
        "### Here is another proof of Fermat’s Little Theorem:\r\n",
        "1. Suppose we have beads in X different colors, and we wish to make bracelets using\r\n",
        "exactly N beads.\r\n",
        "2. First we put N beads on a string.\r\n",
        "3. Since each of the beads can be chosen in X ways, by the product rule there are XN\r\n",
        "possible strings.\r\n",
        "4. For each of the X colors, there is one string entirely of that color, which we throw\r\n",
        "away, leaving XN − X strings.\r\n",
        "5. We join the two ends of each of these remaining strings to form bracelets.\r\n",
        "6. We observe that if two strings differ only by a cyclic permutation of the beads, the\r\n",
        "resulting bracelets will be indistinguishable.\r\n",
        "7. There are N cyclic permutations of the N beads on a string.\r\n",
        "8. Therefore the number of distinguishable bracelets is (XN − X)/N.\r\n",
        "9. Therefore (XN − X)/N must be an integer.\r\n",
        "10. Therefore XN − X is divisible by N.\r\n",
        "11. Q.E.D.\r\n",
        "The hypothesis (N is prime) is implicitly used in one step of this proof. In other words, if\r\n",
        "“Blah” is what the step says, to be complete it should say “Blah, since N is prime.” Which\r\n",
        "step is it?\r\n",
        "\r\n",
        "\"6\" is similiar to the definition of coprimes, and is therefore what we believe to be the step that implies since N is prime.\r\n",
        "\r\n",
        "https://www.youtube.com/watch?v=u2D3Fe41IC0\r\n",
        "\r\n",
        "Find an explanation of this proof online in written or video form."
      ]
    },
    {
      "cell_type": "markdown",
      "metadata": {
        "id": "6TpJznGwIm5E"
      },
      "source": [
        "## TODO Explore Primes and Probability Further\r\n",
        "You have already seen one connection between coprimality and probability in the determination that the probability that two randomly chosen positive integers are coprime being\r\n",
        "the reciprocal (6/π\r\n",
        "2\r\n",
        ") of the sum of the reciprocals of the squares of the positive integers\r\n",
        "(π\r\n",
        "2/6).\r\n",
        "\r\n",
        "There are other connections between primality and probability!\r\n",
        "A probabilistic algorithm is an algorithm that might give the incorrect answer, but\r\n",
        "only with small probability. For example, there are good probabilistic algorithms that test\r\n",
        "whether or not a natural number is prime. Many of these are based on a deterministic\r\n",
        "test using Fermat’s little theorem, which, going back to the first statement of it, says\r\n",
        "that if N is prime, then N divides XN - X. Which implies that if N doesn’t divide XN - X\r\n",
        "for some X, then N can’t be prime.\r\n",
        "\r\n",
        "Unfortunately, this test doesn’t always work, because pseudoprimes fool it.\r\n",
        "\r\n",
        "\r\n",
        "In the book is a brief mention of the Prime Number Theorem. This theorem states that\r\n",
        "the number of primes not exceeding (less than or equal to) the number n is approximately\r\n",
        "equal to n / log n. Can you use this theorem to estimate the probability that a randomlychosen k-digit number is prime?\r\n"
      ]
    },
    {
      "cell_type": "markdown",
      "metadata": {
        "id": "bv842eHrC9q_"
      },
      "source": [
        "1. N is equal to the total numbers or the probability space a randomly choosen k-digit value.\r\n",
        "2. The Prime Number Theorem produces the total avg. number of primes up to the value N.\r\n",
        "3. The probability that the integer is prime is equal to the number of primes divided by N.\r\n",
        "\r\n",
        "π(n) = $\\frac{n}{log(n)}$\r\n",
        "\r\n",
        "p(k) = $\\frac{n}{log(n)} / n$\r\n",
        "\r\n",
        "p(k) = $\\frac{1}{log(n)}$"
      ]
    },
    {
      "cell_type": "markdown",
      "metadata": {
        "id": "3qxbJUzB6SAk"
      },
      "source": [
        "$\\color{red}{\\text{Some code would be beneficial to prove your theorem. It is important to show the probability. Here's some code that generates the probabilities for k in range(1,10)}}$"
      ]
    },
    {
      "cell_type": "code",
      "metadata": {
        "id": "G0whhmrn6Dmu"
      },
      "source": [
        "from math import log\r\n",
        "\r\n",
        "def prob_k(k):\r\n",
        "  n = (10 ** (k + 1)) - 1\r\n",
        "  m = (10 ** k) - 1\r\n",
        "  return ((n/log(n)) - (m/log(m))) / (n-m)\r\n",
        "\r\n",
        "for k in range(1, 10):\r\n",
        "  print(prob_k(k))"
      ],
      "execution_count": null,
      "outputs": []
    }
  ]
}