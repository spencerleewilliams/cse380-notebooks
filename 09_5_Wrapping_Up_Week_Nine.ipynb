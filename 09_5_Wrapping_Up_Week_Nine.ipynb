{
  "nbformat": 4,
  "nbformat_minor": 0,
  "metadata": {
    "colab": {
      "name": "09_5_Wrapping_Up_Week_Nine.ipynb",
      "provenance": [],
      "collapsed_sections": [],
      "authorship_tag": "ABX9TyMEZONZlywmHQfjnm9Khje9",
      "include_colab_link": true
    },
    "kernelspec": {
      "name": "python3",
      "display_name": "Python 3"
    }
  },
  "cells": [
    {
      "cell_type": "markdown",
      "metadata": {
        "id": "view-in-github",
        "colab_type": "text"
      },
      "source": [
        "<a href=\"https://colab.research.google.com/github/byui-cse/cse380-notebooks/blob/master/09_5_Wrapping_Up_Week_Nine.ipynb\" target=\"_parent\"><img src=\"https://colab.research.google.com/assets/colab-badge.svg\" alt=\"Open In Colab\"/></a>"
      ]
    },
    {
      "cell_type": "markdown",
      "metadata": {
        "id": "FtsCP4KNA_RV"
      },
      "source": [
        "# Wrapping Up Week Nine\n",
        "## Answer Selected Questions"
      ]
    },
    {
      "cell_type": "markdown",
      "metadata": {
        "id": "_bv_bzLjBA4B"
      },
      "source": [
        "### 1"
      ]
    },
    {
      "cell_type": "markdown",
      "metadata": {
        "id": "VJvk9y2wBFCe"
      },
      "source": [
        "Some of the information in this week's ponder and prove is vague. For example, \"about 89 megabytes\". Other information is very precise, like \"(5589056 bytes, to be exact)\", or the precise ratios we need to calculate. Why? Is this deliberate? To get us to think and probe and ask questions?\n",
        "\n",
        "(I got 93.48445 megabytes for the ASCII file size, BTW, not \"about 89 megabytes\".)"
      ]
    },
    {
      "cell_type": "markdown",
      "metadata": {
        "id": "2rLOxGzNCQck"
      },
      "source": [
        "#### Answer"
      ]
    },
    {
      "cell_type": "markdown",
      "metadata": {
        "id": "PtqnW13OCUKl"
      },
      "source": [
        "Nailed it! See the next question."
      ]
    },
    {
      "cell_type": "markdown",
      "metadata": {
        "id": "l8h-1TMJCad-"
      },
      "source": [
        "### 2"
      ]
    },
    {
      "cell_type": "markdown",
      "metadata": {
        "id": "A4QCCwTjCbtO"
      },
      "source": [
        "I noticed while working on the assignment that I kept getting different compression ratios than what was expected. For example, I computed the fixed-width size with this formula `floor(log2(max(gaps))) + 1` and noticed that I got the expected result when I took off the +1 at the end. However, I believe that this would be wrong. Which is right?\n"
      ]
    },
    {
      "cell_type": "markdown",
      "metadata": {
        "id": "BMZpvVdKE07u"
      },
      "source": [
        "#### Answer"
      ]
    },
    {
      "cell_type": "markdown",
      "metadata": {
        "id": "o2C547ImG3Od"
      },
      "source": [
        "Neither. The correct formula takes the ceiling of the log2 of the **number of unique gap sizes**."
      ]
    },
    {
      "cell_type": "markdown",
      "metadata": {
        "id": "WolNWUbBL_Sf"
      },
      "source": [
        "### 3"
      ]
    },
    {
      "cell_type": "markdown",
      "metadata": {
        "id": "FIEDiY9QMA-B"
      },
      "source": [
        "I think you said that every \"real prime\" is one more or one less than a multiple of 6.\n",
        "\n",
        "But 25 and 49 are both one more than a multiple of 6 and they're not prime. Is the statement you made just wrong, or did I hear it wrong?"
      ]
    },
    {
      "cell_type": "markdown",
      "metadata": {
        "id": "Lv06kAcgMEyg"
      },
      "source": [
        "#### Answer"
      ]
    },
    {
      "cell_type": "markdown",
      "metadata": {
        "id": "tlUrXLnVMGB-"
      },
      "source": [
        "Neither. The statement is correct, but beware of the fallacy of **affirming the consequent**!"
      ]
    },
    {
      "cell_type": "markdown",
      "metadata": {
        "id": "EcnNG1tNKfdO"
      },
      "source": [
        "Kyle Mueller wrote this (mostly) functional way to create the list of gaps and restore the primes from it."
      ]
    },
    {
      "cell_type": "code",
      "metadata": {
        "colab": {
          "base_uri": "https://localhost:8080/"
        },
        "id": "QgiOK54IlHy5",
        "outputId": "c3524203-2b80-4558-f6e7-a343987ea188"
      },
      "source": [
        "!pip install pyprimesieve\n",
        "import pyprimesieve\n",
        "tmp = pyprimesieve.primes_nth(10000000)\n",
        "primes = pyprimesieve.primes(tmp+1)\n",
        "gaps = [*map(lambda i:primes[i]-primes[i-1],range(1,10000000))]\n",
        "pl=[2]\n",
        "[pl.append(pl[-1] + g) for g in gaps]\n",
        "print(pl==primes)"
      ],
      "execution_count": null,
      "outputs": [
        {
          "output_type": "stream",
          "text": [
            "Requirement already satisfied: pyprimesieve in /usr/local/lib/python3.7/dist-packages (0.1.6)\n",
            "True\n"
          ],
          "name": "stdout"
        }
      ]
    },
    {
      "cell_type": "markdown",
      "metadata": {
        "id": "9K0CfRNVKtlu"
      },
      "source": [
        "## Be careful of coincidences!"
      ]
    },
    {
      "cell_type": "code",
      "metadata": {
        "colab": {
          "base_uri": "https://localhost:8080/"
        },
        "id": "ugU-OzlBHwh6",
        "outputId": "d2a73d68-54a8-46c9-899e-734bae1bb536"
      },
      "source": [
        "from math import floor, log2\n",
        "floor(log2(max(gaps))) + 1"
      ],
      "execution_count": null,
      "outputs": [
        {
          "output_type": "execute_result",
          "data": {
            "text/plain": [
              "8"
            ]
          },
          "metadata": {
            "tags": []
          },
          "execution_count": 10
        }
      ]
    },
    {
      "cell_type": "code",
      "metadata": {
        "colab": {
          "base_uri": "https://localhost:8080/"
        },
        "id": "6EnS6QGoQ_-O",
        "outputId": "226950c5-45d7-477c-acfe-4a03f104500e"
      },
      "source": [
        "max(gaps)"
      ],
      "execution_count": null,
      "outputs": [
        {
          "output_type": "execute_result",
          "data": {
            "text/plain": [
              "222"
            ]
          },
          "metadata": {
            "tags": []
          },
          "execution_count": 12
        }
      ]
    },
    {
      "cell_type": "code",
      "metadata": {
        "colab": {
          "base_uri": "https://localhost:8080/"
        },
        "id": "JeET7w7NROJD",
        "outputId": "2fbc4828-8c0e-4985-9def-5071e0d9393c"
      },
      "source": [
        "from math import ceil\n",
        "ceil(log2(len(set(gaps))))"
      ],
      "execution_count": null,
      "outputs": [
        {
          "output_type": "execute_result",
          "data": {
            "text/plain": [
              "7"
            ]
          },
          "metadata": {
            "tags": []
          },
          "execution_count": 16
        }
      ]
    },
    {
      "cell_type": "code",
      "metadata": {
        "colab": {
          "base_uri": "https://localhost:8080/"
        },
        "id": "o0gorcnTTJp8",
        "outputId": "1423591d-33f7-45b1-df66-f410b299505b"
      },
      "source": [
        "# 1K = 1024 bytes, 1M = 2 ** 20\n",
        "2 ** 20\n",
        "# 93.48445"
      ],
      "execution_count": null,
      "outputs": [
        {
          "output_type": "execute_result",
          "data": {
            "text/plain": [
              "1048576"
            ]
          },
          "metadata": {
            "tags": []
          },
          "execution_count": 18
        }
      ]
    },
    {
      "cell_type": "code",
      "metadata": {
        "colab": {
          "base_uri": "https://localhost:8080/"
        },
        "id": "_GfBHytoTcIW",
        "outputId": "a3d37ea7-caf6-4d5b-8048-98056bbc556e"
      },
      "source": [
        "len(primes)"
      ],
      "execution_count": null,
      "outputs": [
        {
          "output_type": "execute_result",
          "data": {
            "text/plain": [
              "10000000"
            ]
          },
          "metadata": {
            "tags": []
          },
          "execution_count": 19
        }
      ]
    },
    {
      "cell_type": "code",
      "metadata": {
        "id": "DlKiDwSLT_JW"
      },
      "source": [
        "from math import log10\n",
        "\n",
        "def get_num_digits(n):\n",
        "  return len(str(n))\n",
        "\n",
        "def get_num_digits_no_str(n):\n",
        "  return floor(log10(n)) + 1\n",
        "\n",
        "def get_line_size(n):\n",
        "  return get_num_digits_no_str(n) + 1"
      ],
      "execution_count": null,
      "outputs": []
    },
    {
      "cell_type": "code",
      "metadata": {
        "id": "vgbKcWJfUJP_"
      },
      "source": [
        "total_size_in_digits = sum(map(lambda p: get_num_digits_no_str(p), primes))"
      ],
      "execution_count": null,
      "outputs": []
    },
    {
      "cell_type": "code",
      "metadata": {
        "colab": {
          "base_uri": "https://localhost:8080/"
        },
        "id": "EIFgXUBwV6Kf",
        "outputId": "ee92c448-7dce-45a5-c33f-6745e553688d"
      },
      "source": [
        "total_size_in_bits = total_size_in_digits * 8\n",
        "(total_size_in_digits + 10 ** 7) / 2 ** 20"
      ],
      "execution_count": null,
      "outputs": [
        {
          "output_type": "execute_result",
          "data": {
            "text/plain": [
              "89.15371894836426"
            ]
          },
          "metadata": {
            "tags": []
          },
          "execution_count": 37
        }
      ]
    }
  ]
}