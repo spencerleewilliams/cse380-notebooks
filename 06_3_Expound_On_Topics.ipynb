{
  "nbformat": 4,
  "nbformat_minor": 0,
  "metadata": {
    "colab": {
      "name": "06_3_Expound_On_Topics.ipynb",
      "provenance": [],
      "authorship_tag": "ABX9TyNByK1esDAnohEuo13gxcDz",
      "include_colab_link": true
    },
    "kernelspec": {
      "name": "python3",
      "display_name": "Python 3"
    }
  },
  "cells": [
    {
      "cell_type": "markdown",
      "metadata": {
        "id": "view-in-github",
        "colab_type": "text"
      },
      "source": [
        "<a href=\"https://colab.research.google.com/github/byui-cse/cse380-notebooks/blob/master/06_3_Expound_On_Topics.ipynb\" target=\"_parent\"><img src=\"https://colab.research.google.com/assets/colab-badge.svg\" alt=\"Open In Colab\"/></a>"
      ]
    },
    {
      "cell_type": "markdown",
      "metadata": {
        "id": "sjdzdFX86VQO"
      },
      "source": [
        "# Expound on Topics\n",
        "## Week 06"
      ]
    },
    {
      "cell_type": "markdown",
      "metadata": {
        "id": "upnjTDbC6Dl5"
      },
      "source": [
        "## Some useful imports:"
      ]
    },
    {
      "cell_type": "code",
      "metadata": {
        "id": "jemDFWNi6Hk7"
      },
      "source": [
        "from math import e"
      ],
      "execution_count": 87,
      "outputs": []
    },
    {
      "cell_type": "markdown",
      "metadata": {
        "id": "58BNNqn56KCP"
      },
      "source": [
        "## Answer a Probability Question"
      ]
    },
    {
      "cell_type": "markdown",
      "metadata": {
        "id": "JVzkxphI6S6f"
      },
      "source": [
        "Using the hint, since they're all independent events, the probability of choosing $n$ green marbles in a row from the half-and-half barrel is $(\\frac{1}{2})^n$. Compute the complementary probability --- that of choosing at least one blue marble --- to be $1 - (\\frac{1}{2})^n$. That probability first exceeds 99% when $n$ equals 7. That is when $2^n$ first exceeds 100, which is saying $1 - (\\frac{1}{2})^n$ is greater than .99 in an equivalent way.\n"
      ]
    },
    {
      "cell_type": "markdown",
      "metadata": {
        "id": "OFHNLwyn-Lex"
      },
      "source": [
        "Revisit this marbles-in-the-barrels question (Exercise 279 in the book)."
      ]
    },
    {
      "cell_type": "markdown",
      "metadata": {
        "id": "wStQa9m1-XBJ"
      },
      "source": [
        "What is the minimum number of marbles you need to select to exceed a probability of 99% that you are picking them out of the all-green barrel? Equivalently, what is the probability of getting **at least one blue ball** from the half-and-half barrel? Which if it is high (> 99%) means, because you got 7 greens in a row, you were almost certainly picking them out of the all-green barrel."
      ]
    },
    {
      "cell_type": "markdown",
      "metadata": {
        "id": "vYjnGtSD-qfj"
      },
      "source": [
        "Remember, we assumed there were enough marbles so that you could use the probability of independent events."
      ]
    },
    {
      "cell_type": "markdown",
      "metadata": {
        "id": "5CqLFElp-4Ua"
      },
      "source": [
        "## Answer Another Probability Question"
      ]
    },
    {
      "cell_type": "markdown",
      "metadata": {
        "id": "EmF7M2gb-8Gc"
      },
      "source": [
        "Did you just breathe Julius Caesar's dying breath?\n",
        "\n",
        "Assume $2.2 \\times 10^{22}$ molecules are in each breath, yours or Caesar's.\n",
        "\n",
        "We want one minus the probability that your next breath does NOT contain one of Caesar's dying breath air molecules.\n",
        "\n",
        "$2.2 \\times 10^{22} / 10^{44}$ (call it $tiny$) is the probability that the next molecule you breath is one of Caesar's. So $(1 - tiny)$ is the probability that the next molecule is NOT one of his. That probability (call it $next$) needs to be multiplied by itself $2.2 \\times 10^{22}$ times --- so $next \\times next \\times \\ldots \\times next\\ (2.2 \\times 10^{22}$ times) to give the probability that NONE of the molecules in your next breath came from Caesar: $(1 - tiny)^{2.2 \\times 10^{22}}.$\n",
        "\n",
        "Using $(1 - x)$ is approximately equal to $e^{-x}$, where $x$ = $2.2^{22}$ (the $10^{22} \\times 10^{22} / 10^{44}$ reduces to 1), call that $small$. Then 1 minus $small$ is:\n",
        "\n"
      ]
    },
    {
      "cell_type": "code",
      "metadata": {
        "id": "7Ooj1871_5Ji"
      },
      "source": [
        "1 - (e ** -(2.2 ** 2))"
      ],
      "execution_count": null,
      "outputs": []
    },
    {
      "cell_type": "markdown",
      "metadata": {
        "id": "mdqQxgANAPzf"
      },
      "source": [
        "## Going back to the marbles in the barrels"
      ]
    },
    {
      "cell_type": "markdown",
      "metadata": {
        "id": "sk-FmsiwAeR2"
      },
      "source": [
        "Now, let's apply Bayes' theorem.\n",
        "\n",
        "First, put it in a form to make it easier to calculate.\n",
        "\n",
        "$$P(H|T) = \\frac{P(T|H)P(H)}{P(T|H)P(H) + P(T|!H)P(!H)} = \\frac{1}{1 + \\frac{P(T|!H)P(!H)}{P(T|H)P(H)}}.$$"
      ]
    },
    {
      "cell_type": "markdown",
      "metadata": {
        "id": "06EmnNM2BDnG"
      },
      "source": [
        "Let H = you chose the Half-and-half barrel.\n",
        "\n",
        "Let !H = you chose the all-green barrel.\n",
        "\n",
        "Let T = you picked a green marble.\n",
        "\n",
        "$P(H) = P(!H) = 1/2$.\n",
        "\n",
        "$P(T|!H) = 1$.\n",
        "\n",
        "$P(T|H) = 1/2$\n",
        "\n"
      ]
    },
    {
      "cell_type": "markdown",
      "metadata": {
        "id": "8o_WONnOB0f2"
      },
      "source": [
        "$P(H|T) = 1/(1 + P(T|!H)/P(T|H)) = 1/(1 + 1/(1/2)) = 1/(1 + 2) = 1/3$\n",
        "\n",
        "Suppose we started with 10 marbles in each barrel. We picked one out and did not replace it, so now P(T|H) = 4/9.\n",
        "\n",
        "$P(H|T) = 1/(1 + 1/(4/9)) = 1/(1 + 9/4) = 4/13$\n",
        "\n",
        "Now $P(T|H)$ = 3/8.\n",
        "\n",
        "$P(H|T) = 1/(1 + 1/(3/8)) = 1/(1 + 8/3) = 3/11$."
      ]
    },
    {
      "cell_type": "code",
      "metadata": {
        "id": "6m2fFdvKCyEt"
      },
      "source": [
        "n = 50\n",
        "d = 100\n",
        "def update_probability_of_half_and_half_given_green_picked():\n",
        "  global n, d\n",
        "  n -= 1\n",
        "  d -= 1\n",
        "  return 1 / (1 + (d / n))"
      ],
      "execution_count": 115,
      "outputs": []
    },
    {
      "cell_type": "code",
      "metadata": {
        "colab": {
          "base_uri": "https://localhost:8080/"
        },
        "id": "n1QiGE2_DKLe",
        "outputId": "d81c8375-63e1-4568-d11d-e599253178b1"
      },
      "source": [
        "update_probability_of_half_and_half_given_green_picked()"
      ],
      "execution_count": 154,
      "outputs": [
        {
          "output_type": "execute_result",
          "data": {
            "text/plain": [
              "0.15277777777777776"
            ]
          },
          "metadata": {
            "tags": []
          },
          "execution_count": 154
        }
      ]
    },
    {
      "cell_type": "markdown",
      "metadata": {
        "id": "wg2T04YtEEB-"
      },
      "source": [
        "## Hint for the Pascal's Triangle Probability Question"
      ]
    },
    {
      "cell_type": "markdown",
      "metadata": {
        "id": "1kW8OCKCELBK"
      },
      "source": [
        "Density($S$) = how likely a randomly chosen element of $Z^{+} \\in S$."
      ]
    },
    {
      "cell_type": "markdown",
      "metadata": {
        "id": "8a7e2sxzEVAF"
      },
      "source": [
        "So, the density of a set is the **Long Term Relative Frequency** of the members of the set compared with $Z^{+}$.\n",
        "\n",
        "Examples:\n",
        "\n",
        "Density(Evens) = 0.5 (every other integer is even)\n",
        "\n",
        "Density(Squares) = n / n^2 = 1 / n (= 0 in the limit) = 0%"
      ]
    },
    {
      "cell_type": "markdown",
      "metadata": {
        "id": "kEqy5QxuE4XA"
      },
      "source": [
        "### Rephrase the Question"
      ]
    },
    {
      "cell_type": "markdown",
      "metadata": {
        "id": "ecD9BQSIExVZ"
      },
      "source": [
        "What is the probability that a randomly chosen number from the **first n rows** of Pascal's Triangle is even?"
      ]
    },
    {
      "cell_type": "markdown",
      "metadata": {
        "id": "ZG5SwgmbE7w8"
      },
      "source": [
        "Call it $P_n(even)$. Take the limit: $\\lim_{n \\rightarrow \\infty} P_n(even) = 1 - \\lim_{n \\rightarrow \\infty} P_n(odd)$"
      ]
    }
  ]
}