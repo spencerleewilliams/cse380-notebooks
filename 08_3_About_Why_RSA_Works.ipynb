{
  "nbformat": 4,
  "nbformat_minor": 0,
  "metadata": {
    "colab": {
      "name": "08_3_About_Why_RSA_Works.ipynb",
      "provenance": [],
      "include_colab_link": true
    },
    "kernelspec": {
      "name": "python3",
      "display_name": "Python 3"
    }
  },
  "cells": [
    {
      "cell_type": "markdown",
      "metadata": {
        "id": "view-in-github",
        "colab_type": "text"
      },
      "source": [
        "<a href=\"https://colab.research.google.com/github/spencerleewilliams/cse380-notebooks/blob/master/08_3_About_Why_RSA_Works.ipynb\" target=\"_parent\"><img src=\"https://colab.research.google.com/assets/colab-badge.svg\" alt=\"Open In Colab\"/></a>"
      ]
    },
    {
      "cell_type": "markdown",
      "metadata": {
        "id": "3hueeHk5fHSq"
      },
      "source": [
        "# About Why RSA Works\n",
        "## Class Directed Learning\n",
        "### Due: Tuesday, 23 February 2021, 11:59 pm"
      ]
    },
    {
      "cell_type": "markdown",
      "metadata": {
        "id": "9ddyAvu_fSQL"
      },
      "source": [
        "## The Reason"
      ]
    },
    {
      "cell_type": "markdown",
      "metadata": {
        "id": "mfv46miAffj2"
      },
      "source": [
        "The reason RSA works is that the encryption and decryption operations are \"inverses\" of each other. But why does that make it work?"
      ]
    },
    {
      "cell_type": "markdown",
      "metadata": {
        "id": "lGrDps_wfmfr"
      },
      "source": [
        "## Repeat Chat Post"
      ]
    },
    {
      "cell_type": "markdown",
      "metadata": {
        "id": "jhiSJj7UgCHc"
      },
      "source": [
        "Clarification: In the inside chat, Kyle pointed out an error in what I said while going over the reading quiz, specifically regarding Question 6, which states: If $m$ is a factor of $a$, and $n$ is a factor of $a$, then $mn$ is a factor of $a$.\n",
        "\n",
        "Restated: If $m | a$ and $n | a$ then does $mn | a$ for any integers $m, n$?\n",
        "\n",
        "Convince yourself that the answer is no. I said if $m$ and $n$ are both prime, then the answer is yes. Kyle gave the example of $m = 5$ and $n = 5$, both $5$ and $5$ divide $15$, but $25$ doesn't.\n",
        "\n",
        "But the correct answer is, if m and n are **coprime** (which excludes them from being the same prime) then it is a true statement. And if $m$ and $n$ are different primes they are automatically coprime.\n",
        "\n",
        "So, for coprime $m$ and $n$, if $m | a$ and $n | a$, then $mn | a$. For example, $8$ and $9$ are coprime (though neither is prime), and $8 | 144, 9 | 144,$ and $72 | 144$ also.\n",
        "\n",
        "What does this have to do with the Chinese Remainder Theorem guaranteeing that, for example, with $p$, $q$ and $s$ being different primes, if $x \\equiv_{p} r$ and $x \\equiv_{q} r$ and $x \\equiv_{s} r$, then $x \\equiv_{pqs} r$?\n",
        "\n",
        "If you need help visualizing how simultaneous congruences work (read \"[=]\" as $\\equiv$):\n"
      ]
    },
    {
      "cell_type": "code",
      "metadata": {
        "id": "QZ9eRWk1gFbn"
      },
      "source": [
        "def format_congruence(x, m, r):\n",
        "  d = x - r\n",
        "  return f'{x} [=] {r} (mod {m}) -> {m} | {x} - {r} (= {d}) -> {d} = {m} * k where k = {d // m}.'\n",
        "\n",
        "x_list = [8, 8, 8]\n",
        "m_list = [3, 4, 5]\n",
        "r_list = [2, 0, 3]\n",
        "for f in map(format_congruence, x_list, m_list, r_list):\n",
        "  print(f, '\\n')\n",
        "\n",
        "x_list = [16, 16]\n",
        "m_list = [3, 11]\n",
        "r_list = [1, 5]\n",
        "for f in map(format_congruence, x_list, m_list, r_list):\n",
        "  print(f, '\\n')"
      ],
      "execution_count": null,
      "outputs": []
    },
    {
      "cell_type": "markdown",
      "metadata": {
        "id": "e7Bt6w6HhNbH"
      },
      "source": [
        "## TODO Study and Learn"
      ]
    },
    {
      "cell_type": "markdown",
      "metadata": {
        "id": "FJaTMS-BhPcg"
      },
      "source": [
        "A proof that shows why RSA works goes as follows:\n",
        "\n",
        "We chose two different primes $p$ and $q$, and because we chose $e$ such that for $t = (p - 1)(q - 1)$, gcd($e$, $t$) $= 1$, an inverse of $e$ mod $t$ exists and can be found. This inverse is the decryption key $d$.\n",
        "\n",
        "Knowing $d$ and $c$ (the ciphertext), $m$ (the plaintext message) can be recovered by noting that if\n",
        "\n",
        "$de \\equiv_{t} 1$, then there is an integer $k$ such that\n",
        "\n",
        "$de = 1 + k(p - 1)(q - 1)$.\n",
        "\n",
        "So we know that $c^d \\equiv_{n} (m^e)^d$.\n",
        "\n",
        "But then $(m^e)^d = m^{ed} = m^{de} = m^{1 + k(p - 1)(q - 1)}$.\n",
        "\n",
        "Enter Fermat's Little Theorem: If $r$ is prime and does not divide integer $a$, then $a^{r-1} \\equiv_{r} 1$.\n",
        "\n",
        "That means $m^{p-1} \\equiv_{p} 1$, and $m^{q-1} \\equiv_{q} 1$.\n",
        "\n",
        "Combining those two facts with the above (continued)\n",
        "\n",
        "$c^d \\equiv_{n} (m^e)^d = m^{ed} = m^{de} = m^{1 + k(p - 1)(q - 1)} = m^1 \\cdot m^{k(p - 1)(q - 1)}$\n",
        "\n",
        "$= m^1 \\cdot m^{(p - 1)k(q - 1)} = m^1 \\cdot m^{(q - 1)k(p - 1)}$.\n",
        "\n",
        "Because $x \\equiv_{rs} y \\rightarrow x \\equiv_{r} y$ and $x \\equiv_{s} y$, we know that\n",
        "\n",
        "$c^d \\equiv_{p} m^1 \\cdot (m^{p - 1})^{k(q - 1)} \\equiv_{p} m \\cdot (1)^{k(q - 1)} \\equiv_{p} m \\cdot 1 \\equiv_{p} m$,\n",
        "\n",
        "and\n",
        "\n",
        "$c^d \\equiv_{q} m^1 \\cdot (m^{q - 1})^{k(p - 1)} \\equiv_{q} m \\cdot (1)^{k(p - 1)} \\equiv_{q} m \\cdot 1 \\equiv_{q} m$.\n",
        "\n",
        "Finally, that consequence of the Chinese Remainder Theorem guarantees what we need, namely that since $c^d \\equiv_{p} m$ and $c^d \\equiv_{q} m$, then\n",
        "\n",
        "$c^d \\equiv_{pq} m$, or $c^d \\equiv_{n} m$ which, because $0 \\le m < n$, means $m$ is the unique solution.\n",
        "\n"
      ]
    },
    {
      "cell_type": "markdown",
      "metadata": {
        "id": "kKgK5qgGKOLU"
      },
      "source": [
        "### Concretize"
      ]
    },
    {
      "cell_type": "markdown",
      "metadata": {
        "id": "Ft4g1cqXKQyT"
      },
      "source": [
        "Get your hands dirty with $p = 23$ and $q = 29$:"
      ]
    },
    {
      "cell_type": "code",
      "metadata": {
        "id": "_CKUH0bXKTeP",
        "outputId": "df7f3afc-262a-47bc-d967-f091ec270207",
        "colab": {
          "base_uri": "https://localhost:8080/"
        }
      },
      "source": [
        "def igcd(b, n):\n",
        "    x0, x1, y0, y1 = 1, 0, 0, 1\n",
        "    while n != 0:\n",
        "        q, b, n = b // n, n, b % n\n",
        "        x0, x1 = x1, x0 - q * x1\n",
        "        y0, y1 = y1, y0 - q * y1\n",
        "    return b, x0, y0\n",
        "\n",
        "def TUMMI(e, t):\n",
        "    hcf, x, y = igcd(e, t)\n",
        "    if hcf != 1: # hcf = highest common factor\n",
        "        raise ValueError(f\"TUMMI does not exist for e = {e} and t = {t}.\")\n",
        "    return x % t #  (mod t) of e\n",
        "\n",
        "p = 23 # prime number #1\n",
        "q = 29 # prime number #2\n",
        "n = p * q # product of p and q\n",
        "t = (p - 1) * (q - 1) # totient\n",
        "e = 3 # the encryption exponent\n",
        "d = TUMMI(e, t) # the decryption exponent\n",
        "de = d * e # product of the encryption and decryption\n",
        "k = (de - 1) // t # What is the purpose of k?\n",
        "\n",
        "print({'p':p, 'q':q, 'n':n, 't':t, 'e':e, 'd':d, 'de':de, 'k':k})"
      ],
      "execution_count": 1,
      "outputs": [
        {
          "output_type": "stream",
          "text": [
            "{'p': 23, 'q': 29, 'n': 667, 't': 616, 'e': 3, 'd': 411, 'de': 1233, 'k': 2}\n"
          ],
          "name": "stdout"
        }
      ]
    },
    {
      "cell_type": "markdown",
      "metadata": {
        "id": "2io16EC_Ka2U"
      },
      "source": [
        "#### Alternate"
      ]
    },
    {
      "cell_type": "markdown",
      "metadata": {
        "id": "neqpKj2ZKdJ-"
      },
      "source": [
        "What other types of encryption are there besides RSA?"
      ]
    },
    {
      "cell_type": "markdown",
      "metadata": {
        "id": "rIyp4s98LxUW"
      },
      "source": [
        "1. Triple DES: Triple Data Encryption Algorithm or Triple-DES uses symmetric encryption. It is an advanced version of DES block cipher, which used to have a 56-bit key. However, and as the name suggests, TDES encrypts data using 56-bit key thrice, making it a 168-bit key. \r\n",
        "2. AES: The Advanced Encryption Standard (AES) is also symmetric encryption based on the Rijndael algorithm.  It uses block-cipher and encrypts one fixed-size block at a time. It works in 128-bit or 192-bit but can be extended up to the 256-bit key length. To encrypt every bit, there are different rounds. For instance, 128-bit will have 10 rounds, 192-bit will have 12 rounds and so on\r\n",
        "It is considered as one of the best encryption algorithms because it was developed by the US National Institute of Standards and Technology. It is also one of the secured types of encryptions as it works on a single private key.\r\n",
        "3. Blowfish: Another encryption algorithm designed to replace DES, Blowfish is a symmetric block cipher, which works on a variable key length from 32 bits to 448 bits. Since it is a block cipher, therefore it divides data or a message into fixed 64-bit blocks when encrypting and decrypting. \r\n",
        "4. Twofish: Also a symmetric block cipher, Twofish is an advanced version of Blowfish encryption. It has a block size of 128-bits and can extend to the 256-bit key length. Like other symmetric ciphers, it also breaks data into fixed-length blocks. However, it functions in 16 rounds regardless of how large the data is. Amongst the various types of encryption, this one is flexible. It allows you to choose the encryption process to be quick while the key setup to be slow and vice versa.\r\n",
        "5. FPE: Format Preserving Encryption (FPE) is a fairly new encryption method. It encrypts your data in a similar format. For instance, if you have encrypted your password having 6 letters, 5 numbers and 4 special letters, then your output will be a different combination of a similar format.\r\n",
        "In other words, if you use this encryption technique, it will preserve the format of your plain text that is after encryption the structure of your data will remain the same.\r\n",
        "It is widely used in financial database systems, banking systems, retail, etc.\r\n",
        "\r\n",
        "Source: https://www.goodcore.co.uk/blog/types-of-encryption/"
      ]
    },
    {
      "cell_type": "markdown",
      "metadata": {
        "id": "JnFTVQSEKf14"
      },
      "source": [
        "##### Answer"
      ]
    },
    {
      "cell_type": "markdown",
      "metadata": {
        "id": "l9AFHRFIKhdn"
      },
      "source": [
        "Learning this is a GPAO of gargantuan proportions!\n",
        "\n",
        "Start small with a site like https://www.di-mgt.com.au/rsa_alg.html.\n"
      ]
    },
    {
      "cell_type": "markdown",
      "metadata": {
        "id": "AWwVI0kKKy44"
      },
      "source": [
        "###### Favorite"
      ]
    },
    {
      "cell_type": "markdown",
      "metadata": {
        "id": "GroWDoKJK1Uc"
      },
      "source": [
        "What is your favorite resource that you think explains RSA the best?\n",
        "\n",
        "When you have one, enter a link to it with a brief description in the outside chat channel."
      ]
    },
    {
      "cell_type": "markdown",
      "metadata": {
        "id": "3mEGoye_N4wP"
      },
      "source": [
        "This is a typical Wikipedia source on the typical RSA algorithm, but I like how it breaks down each setup and explains the meaning and purpose of each variable used throughout the process. \r\n",
        "\r\n",
        "(Favorite RSA Source: https://simple.wikipedia.org/wiki/RSA_algorithm) "
      ]
    }
  ]
}